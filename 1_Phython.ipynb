{
  "nbformat": 4,
  "nbformat_minor": 0,
  "metadata": {
    "colab": {
      "provenance": [],
      "collapsed_sections": [
        "88l5lCKqTAGG",
        "1jWtTR9oTHIH",
        "0qFbT3-lTexO",
        "xrn3EIkcT31d",
        "TrU3sn0uVMXk",
        "F3IBt4cTVqvV",
        "Pa7FJUB04zqT",
        "nI6yWJY6VsiM",
        "wgCi_05qWFJc",
        "AEhkBSm9WK0c",
        "K46VRs6lWex8",
        "EvjA_ldtWj5M",
        "fZ7-CciHXprr",
        "MmQdUrRe69o7",
        "iHMExMtYYBOD",
        "yCUdzAWJYgaM",
        "EJelvPE2YjCr",
        "5f74Z8V68Ijp",
        "e0Jw0zfYZ-gD",
        "X0d_hF1-aKMK",
        "wU6s7ttF8kAq",
        "C11anCLI87IJ",
        "xzXIm0I3RmHI",
        "LExr0NUZ9O3Z",
        "Gr6SwZlc9aux",
        "aHm-MZ839j5E",
        "3df6bKmd9yYp",
        "vrMtQtvx-UFZ",
        "oGK9n9GEWSGW",
        "31E7SeSZ-xcI",
        "VmL8abtf_CDg",
        "LZad1N7Z_HUR",
        "_FhPSZUK_MyQ",
        "AdP3ixDO_VCQ",
        "Tm9bjctF_b0o",
        "N6mPGw2A_jKo",
        "rhIVQ_ohT5d7",
        "Z1RHEtzdUKmK",
        "k-8M0c-sUPAT",
        "zq6lYbEJVtPq",
        "VQhrFwozVyTR",
        "ObLY4MpnV4WC",
        "XsSD0OKrV-RZ",
        "G2fAx1XQWC4a",
        "nJKqv0wLWIQ-",
        "JCmEKh9aWL3S",
        "9YfosPNXWRVK",
        "GuriPRYPWWH6",
        "4nwBf9veUkgz",
        "8GLI17e9WfwZ",
        "1t-9fCHIWkW5",
        "QidURggXWtGJ",
        "GcQNzCJlWxLq",
        "YUusUA_IUxuU",
        "fEsb7a_4gcHC",
        "3Z46_jBTW6Nh",
        "OSFTAjQFVDir",
        "Q8njiHgfVIZS",
        "KBaLCbcAXOsq",
        "tLiMsQntXYz4",
        "0TilGH2-VP7a",
        "YUveFgVXVVWa",
        "r26l4w3-Xuep",
        "npXAfs4KX66B",
        "otOfo6eeYAZP",
        "oHk6q_61YEri",
        "0RB__kBOYI3g",
        "XKczm89rYNKR",
        "rnhVpYrxn8GD",
        "ZLiiiK3uobwj",
        "VLDjl-ZJoguK",
        "rCzHHiFGsTI5",
        "6LZyF1AEYpr3",
        "Ita22ewRYulw",
        "TQzI4rB0Y4Cw",
        "48sQOEvoY94h",
        "hgCvbujmw6oH",
        "aQ0IAk480qfl",
        "vEyT8FeaZpag",
        "OHX66JJTaFFi",
        "2MLB6hW6XI_I",
        "-yJrpVGEokcc",
        "Ec3avVQkqhHC",
        "oqVlmEGItNgp",
        "hy8N32KNu7lR",
        "P40BvIOXvAnQ"
      ],
      "authorship_tag": "ABX9TyPn/TCxYLeaZlhEs+MyWLKZ"
    },
    "kernelspec": {
      "name": "python3",
      "display_name": "Python 3"
    },
    "language_info": {
      "name": "python"
    }
  },
  "cells": [
    {
      "cell_type": "markdown",
      "source": [
        "**WEEK 1**"
      ],
      "metadata": {
        "id": "4srmSIEHBTsn"
      }
    },
    {
      "cell_type": "markdown",
      "source": [
        "# **PHYTHON TUTORIAL**"
      ],
      "metadata": {
        "id": "88l5lCKqTAGG"
      }
    },
    {
      "cell_type": "code",
      "execution_count": null,
      "metadata": {
        "colab": {
          "base_uri": "https://localhost:8080/"
        },
        "id": "fhhDK-FQPRAf",
        "outputId": "8d1d6c1d-af71-48bc-c459-5f90745254bb"
      },
      "outputs": [
        {
          "output_type": "stream",
          "name": "stdout",
          "text": [
            "Hello, World!\n"
          ]
        }
      ],
      "source": [
        "print(\"Hello, World!\")"
      ]
    },
    {
      "cell_type": "code",
      "source": [
        "import sys\n",
        "print (sys.version)"
      ],
      "metadata": {
        "colab": {
          "base_uri": "https://localhost:8080/"
        },
        "id": "sB-adPzARh_Y",
        "outputId": "791e3387-d31d-4b03-e674-ce1ac3de4837"
      },
      "execution_count": null,
      "outputs": [
        {
          "output_type": "stream",
          "name": "stdout",
          "text": [
            "3.11.13 (main, Jun  4 2025, 08:57:29) [GCC 11.4.0]\n"
          ]
        }
      ]
    },
    {
      "cell_type": "markdown",
      "source": [
        "# **1. Python Syntax**"
      ],
      "metadata": {
        "id": "1jWtTR9oTHIH"
      }
    },
    {
      "cell_type": "markdown",
      "source": [
        "**SYNTAX :**"
      ],
      "metadata": {
        "id": "YVozXvG55D2b"
      }
    },
    {
      "cell_type": "markdown",
      "source": [
        "## **A. Python Indentation**"
      ],
      "metadata": {
        "id": "0qFbT3-lTexO"
      }
    },
    {
      "cell_type": "code",
      "source": [
        "if 5 > 2:\n",
        "  print(\"five is greater than two!\")"
      ],
      "metadata": {
        "colab": {
          "base_uri": "https://localhost:8080/"
        },
        "id": "648gy9r9RnOW",
        "outputId": "1ec17268-abb8-4c6a-fe89-c3b3cbd19e2d"
      },
      "execution_count": null,
      "outputs": [
        {
          "output_type": "stream",
          "name": "stdout",
          "text": [
            "five is greater than two!\n"
          ]
        }
      ]
    },
    {
      "cell_type": "code",
      "source": [
        "if 5 > 2:\n",
        "print(\"five is greater than two!\")"
      ],
      "metadata": {
        "colab": {
          "base_uri": "https://localhost:8080/",
          "height": 110
        },
        "id": "zSgMMx4iSa__",
        "outputId": "38f49625-836f-48b0-893b-e462c43d4772"
      },
      "execution_count": null,
      "outputs": [
        {
          "output_type": "error",
          "ename": "IndentationError",
          "evalue": "expected an indented block after 'if' statement on line 1 (ipython-input-4-2404378498.py, line 2)",
          "traceback": [
            "\u001b[0;36m  File \u001b[0;32m\"/tmp/ipython-input-4-2404378498.py\"\u001b[0;36m, line \u001b[0;32m2\u001b[0m\n\u001b[0;31m    print(\"five is greater than two!\")\u001b[0m\n\u001b[0m    ^\u001b[0m\n\u001b[0;31mIndentationError\u001b[0m\u001b[0;31m:\u001b[0m expected an indented block after 'if' statement on line 1\n"
          ]
        }
      ]
    },
    {
      "cell_type": "markdown",
      "source": [
        "Kesalahan dalam kode yang dipilih adalah IndentationError. Dalam Python, blok kode yang mengikuti pernyataan seperti if harus diberi indentasi (menjorok ke dalam). Pernyataan print tidak diberi indentasi, sehingga menyebabkan kesalahan. Saya akan memperbaikinya dengan menambahkan empat spasi sebelum pernyataan print."
      ],
      "metadata": {
        "id": "tu1CMCgxTn8l"
      }
    },
    {
      "cell_type": "code",
      "source": [
        "if 5 > 2:\n",
        " print(\"Five is greater than two!\")\n",
        "if 5 > 2:\n",
        "        print(\"Five is greater than two!\")"
      ],
      "metadata": {
        "colab": {
          "base_uri": "https://localhost:8080/"
        },
        "id": "7uM615d2S60F",
        "outputId": "396ebec9-4ad3-4665-9640-bef910b03a18"
      },
      "execution_count": null,
      "outputs": [
        {
          "output_type": "stream",
          "name": "stdout",
          "text": [
            "Five is greater than two!\n",
            "Five is greater than two!\n"
          ]
        }
      ]
    },
    {
      "cell_type": "code",
      "source": [
        "if 5 > 2:\n",
        " print(\"Five is greater than two!\")\n",
        "        print(\"Five is greater than two!\")"
      ],
      "metadata": {
        "colab": {
          "base_uri": "https://localhost:8080/",
          "height": 110
        },
        "id": "Zt50ABuITU2G",
        "outputId": "4867b149-cc4b-491b-edf2-6ae267e9a322"
      },
      "execution_count": null,
      "outputs": [
        {
          "output_type": "error",
          "ename": "IndentationError",
          "evalue": "unexpected indent (ipython-input-6-3430240237.py, line 3)",
          "traceback": [
            "\u001b[0;36m  File \u001b[0;32m\"/tmp/ipython-input-6-3430240237.py\"\u001b[0;36m, line \u001b[0;32m3\u001b[0m\n\u001b[0;31m    print(\"Five is greater than two!\")\u001b[0m\n\u001b[0m    ^\u001b[0m\n\u001b[0;31mIndentationError\u001b[0m\u001b[0;31m:\u001b[0m unexpected indent\n"
          ]
        }
      ]
    },
    {
      "cell_type": "markdown",
      "source": [
        "Kesalahan dalam kode yang dipilih adalah IndentationError. Dalam Python, indentasi yang tidak konsisten dalam blok kode yang sama akan menimbulkan kesalahan ini. Pernyataan print kedua diberi indentasi lebih jauh daripada yang pertama, yang tidak diperbolehkan dalam blok if yang sama. Saya akan memperbaikinya dengan menyelaraskan indentasi kedua pernyataan print."
      ],
      "metadata": {
        "id": "ROIFxR3ETxR1"
      }
    },
    {
      "cell_type": "markdown",
      "source": [
        "## **B. Python Variables**"
      ],
      "metadata": {
        "id": "xrn3EIkcT31d"
      }
    },
    {
      "cell_type": "code",
      "source": [
        "x = 5\n",
        "y = \"Hello, World!\""
      ],
      "metadata": {
        "id": "SF6vSYtcTbIe"
      },
      "execution_count": null,
      "outputs": []
    },
    {
      "cell_type": "code",
      "source": [
        "#This is a comment.\n",
        "print(\"Hello, World!\")"
      ],
      "metadata": {
        "colab": {
          "base_uri": "https://localhost:8080/"
        },
        "id": "-IV9b-hVULbU",
        "outputId": "8e6d9c79-f158-4066-b4bd-c0abd94244a3"
      },
      "execution_count": null,
      "outputs": [
        {
          "output_type": "stream",
          "name": "stdout",
          "text": [
            "Hello, World!\n"
          ]
        }
      ]
    },
    {
      "cell_type": "markdown",
      "source": [
        "# **2. Python Comments**"
      ],
      "metadata": {
        "id": "TrU3sn0uVMXk"
      }
    },
    {
      "cell_type": "code",
      "source": [
        "#This is a comment\n",
        "print(\"Hello, World!\")"
      ],
      "metadata": {
        "colab": {
          "base_uri": "https://localhost:8080/"
        },
        "id": "Al6SJla-VNjM",
        "outputId": "951b8a1e-72e0-4fa1-8a6c-038aeb168060"
      },
      "execution_count": null,
      "outputs": [
        {
          "output_type": "stream",
          "name": "stdout",
          "text": [
            "Hello, World!\n"
          ]
        }
      ]
    },
    {
      "cell_type": "code",
      "source": [
        "print(\"Hello, World!\") #This is a comment"
      ],
      "metadata": {
        "colab": {
          "base_uri": "https://localhost:8080/"
        },
        "id": "TYTaA53cVRrs",
        "outputId": "270bee8f-0c01-45c8-8a16-7e41b4825268"
      },
      "execution_count": null,
      "outputs": [
        {
          "output_type": "stream",
          "name": "stdout",
          "text": [
            "Hello, World!\n"
          ]
        }
      ]
    },
    {
      "cell_type": "code",
      "source": [
        "#print(\"Hello, World!\")\n",
        "print(\"Cheers, Mate!\")"
      ],
      "metadata": {
        "colab": {
          "base_uri": "https://localhost:8080/"
        },
        "id": "_DLCWDvUVUBs",
        "outputId": "8fb0f28d-2dfd-49c1-be04-c9d10f3e21a4"
      },
      "execution_count": null,
      "outputs": [
        {
          "output_type": "stream",
          "name": "stdout",
          "text": [
            "Cheers, Mate!\n"
          ]
        }
      ]
    },
    {
      "cell_type": "code",
      "source": [
        "#This is a comment\n",
        "#written in\n",
        "#more than just one line\n",
        "print(\"Hello, World!\")"
      ],
      "metadata": {
        "colab": {
          "base_uri": "https://localhost:8080/"
        },
        "id": "SHgT4wZ1VWdd",
        "outputId": "92cfe16d-dbbe-4cd6-fafc-5e3948002cdf"
      },
      "execution_count": null,
      "outputs": [
        {
          "output_type": "stream",
          "name": "stdout",
          "text": [
            "Hello, World!\n"
          ]
        }
      ]
    },
    {
      "cell_type": "code",
      "source": [
        "\"\"\"\n",
        "This is a comment\n",
        "written in\n",
        "more than just one line\n",
        "\"\"\"\n",
        "print(\"Hello, World!\")"
      ],
      "metadata": {
        "colab": {
          "base_uri": "https://localhost:8080/"
        },
        "id": "5zvEwwehVXmU",
        "outputId": "c289042f-0a4e-4eaa-fa3d-c029071279e3"
      },
      "execution_count": null,
      "outputs": [
        {
          "output_type": "stream",
          "name": "stdout",
          "text": [
            "Hello, World!\n"
          ]
        }
      ]
    },
    {
      "cell_type": "markdown",
      "source": [
        "# **3. Python Variables**"
      ],
      "metadata": {
        "id": "F3IBt4cTVqvV"
      }
    },
    {
      "cell_type": "markdown",
      "source": [
        "## **A. PYTHON VARIABLES**"
      ],
      "metadata": {
        "id": "Pa7FJUB04zqT"
      }
    },
    {
      "cell_type": "markdown",
      "source": [
        "### **a. Creating Variables**"
      ],
      "metadata": {
        "id": "nI6yWJY6VsiM"
      }
    },
    {
      "cell_type": "code",
      "source": [
        "x = 5\n",
        "y = \"Ariel\"\n",
        "print(x)\n",
        "print(y)"
      ],
      "metadata": {
        "colab": {
          "base_uri": "https://localhost:8080/"
        },
        "id": "GpdkYgHvVudt",
        "outputId": "c9de0e39-3d13-41a7-da8f-7859ddcdd282"
      },
      "execution_count": null,
      "outputs": [
        {
          "output_type": "stream",
          "name": "stdout",
          "text": [
            "5\n",
            "Ariel\n"
          ]
        }
      ]
    },
    {
      "cell_type": "code",
      "source": [
        "x = 4       # x is of type int\n",
        "x = \"Ariel\" # x is now of type str\n",
        "print(x)"
      ],
      "metadata": {
        "colab": {
          "base_uri": "https://localhost:8080/"
        },
        "id": "IQO8i1PWVyLs",
        "outputId": "685bff61-f675-451c-f8da-f3a7f22f3313"
      },
      "execution_count": null,
      "outputs": [
        {
          "output_type": "stream",
          "name": "stdout",
          "text": [
            "Ariel\n"
          ]
        }
      ]
    },
    {
      "cell_type": "markdown",
      "source": [
        "### **b. Casting**"
      ],
      "metadata": {
        "id": "wgCi_05qWFJc"
      }
    },
    {
      "cell_type": "code",
      "source": [
        "x = str(3)    # x will be '3'\n",
        "y = int(3)    # y will be 3\n",
        "z = float(3)  # z will be 3.0"
      ],
      "metadata": {
        "id": "2a0DuoO5WF3V"
      },
      "execution_count": null,
      "outputs": []
    },
    {
      "cell_type": "markdown",
      "source": [
        "### **c. Get the Type**"
      ],
      "metadata": {
        "id": "AEhkBSm9WK0c"
      }
    },
    {
      "cell_type": "code",
      "source": [
        "x = 5\n",
        "y = \"Ariel\"\n",
        "print(type(x))\n",
        "print(type(y))"
      ],
      "metadata": {
        "colab": {
          "base_uri": "https://localhost:8080/"
        },
        "id": "Xypk4fWNWLic",
        "outputId": "c0c4b485-6128-4066-8e7b-73097de1528d"
      },
      "execution_count": null,
      "outputs": [
        {
          "output_type": "stream",
          "name": "stdout",
          "text": [
            "<class 'int'>\n",
            "<class 'str'>\n"
          ]
        }
      ]
    },
    {
      "cell_type": "markdown",
      "source": [
        "Kode ini digunakan untuk mengetahui tipe data dari sebuah variabel menggunakan fungsi type().\n",
        "\n",
        "x = 5 membuat variabel x dan memberinya nilai integer 5.\\\n",
        "y = \"Ariel\" membuat variabel y dan memberinya nilai string \"Ariel\".\\\n",
        "print(type(x)) mencetak tipe data dari variabel x.\\\n",
        "Karena x berisi nilai integer 5, outputnya akan menampilkan <class 'int'>.\\\n",
        "print(type(y)) mencetak tipe data dari variabel y. Karena y berisi nilai string \"Ariel\", outputnya akan menampilkan <class 'str'>.\\\n",
        "Fungsi type() sangat berguna untuk memahami tipe data dari variabel dalam program Python Anda."
      ],
      "metadata": {
        "id": "teWVftxEXVfM"
      }
    },
    {
      "cell_type": "markdown",
      "source": [
        "### **d. Single or Double Quotes?**"
      ],
      "metadata": {
        "id": "K46VRs6lWex8"
      }
    },
    {
      "cell_type": "code",
      "source": [
        "x = \"Ariel\"\n",
        "# is the same as\n",
        "x = 'Ariel'"
      ],
      "metadata": {
        "id": "p2lGue68WfDz"
      },
      "execution_count": null,
      "outputs": []
    },
    {
      "cell_type": "markdown",
      "source": [
        "Kode ini menunjukkan bahwa dalam Python, Anda dapat menggunakan tanda kutip tunggal (') atau tanda kutip ganda (\") untuk mendefinisikan string (teks).\n",
        "\n",
        "x = \"Ariel\" mendefinisikan variabel x dengan nilai string \"John\" menggunakan tanda kutip ganda.\\\n",
        "x = 'Ariel' juga mendefinisikan variabel x dengan nilai string \"John\" menggunakan tanda kutip tunggal.\\\n",
        "Kedua cara tersebut valid dan menghasilkan hasil yang sama. Anda bisa menggunakan salah satunya secara konsisten dalam kode Anda."
      ],
      "metadata": {
        "id": "1LkcAIovXKZ1"
      }
    },
    {
      "cell_type": "markdown",
      "source": [
        "### **e. Case-Sensitive**"
      ],
      "metadata": {
        "id": "EvjA_ldtWj5M"
      }
    },
    {
      "cell_type": "code",
      "source": [
        "a = 4\n",
        "A = \"Ariel\"\n",
        "#A will not overwrite a"
      ],
      "metadata": {
        "id": "SctbInifWkcU"
      },
      "execution_count": null,
      "outputs": []
    },
    {
      "cell_type": "markdown",
      "source": [
        "Kode ini mendemonstrasikan bahwa Python peka terhadap huruf besar/kecil (case-sensitive) saat menentukan variabel.\n",
        "\n",
        "a = 4 membuat variabel bernama a dan memberinya nilai integer 4.\\\n",
        "A = \"Ariel\" membuat variabel baru bernama A dan memberinya nilai string \"Ariel\".\\\n",
        "Meskipun namanya terlihat mirip (a dan A), Python memperlakukannya sebagai dua variabel yang berbeda karena perbedaan penggunaan huruf besar. Variabel A tidak menimpa atau menggantikan variabel a."
      ],
      "metadata": {
        "id": "2QEweBIQXAyr"
      }
    },
    {
      "cell_type": "markdown",
      "source": [],
      "metadata": {
        "id": "OA57U0PX5fxz"
      }
    },
    {
      "cell_type": "markdown",
      "source": [
        "## **B. Variable Names**"
      ],
      "metadata": {
        "id": "fZ7-CciHXprr"
      }
    },
    {
      "cell_type": "markdown",
      "source": [
        "### **a. Variable Names**"
      ],
      "metadata": {
        "id": "MmQdUrRe69o7"
      }
    },
    {
      "cell_type": "code",
      "source": [
        "myvar = \"Ariel\"\n",
        "my_var = \"Ariel\"\n",
        "_my_var = \"Ariel\"\n",
        "myVar = \"Ariel\"\n",
        "MYVAR = \"Ariel\"\n",
        "myvar2 = \"Ariel\""
      ],
      "metadata": {
        "id": "TDY4kYJ7Xruc"
      },
      "execution_count": null,
      "outputs": []
    },
    {
      "cell_type": "markdown",
      "source": [
        "Kode ini mendemonstrasikan berbagai cara valid untuk memberi nama variabel dalam Python.\n",
        "\n",
        "myvar = \"Ariel\"\\\n",
        "my_var = \"Ariel\"\\\n",
        "_my_var = \"Ariel\"\\\n",
        "myVar = \"Ariel\"\\\n",
        "MYVAR = \"Ariel\"\\\n",
        "myvar2 = \"Ariel\"\n",
        "\n",
        "Semua nama variabel di atas adalah valid menurut aturan penamaan variabel Python:\n",
        "\n",
        "Nama variabel harus dimulai dengan huruf atau karakter garis bawah (_).\\\n",
        "Nama variabel hanya boleh berisi karakter alfanumerik (A-Z, a-z, 0-9) dan garis bawah (_).\\\n",
        "Nama variabel peka terhadap huruf besar/kecil (myvar, myVar, dan MYVAR adalah tiga variabel yang berbeda).\\\n",
        "Kode ini menunjukkan fleksibilitas dalam menamai variabel selama aturan tersebut diikuti."
      ],
      "metadata": {
        "id": "iDfBD41bXzVT"
      }
    },
    {
      "cell_type": "code",
      "source": [
        "2myvar = \"Ariel\"\n",
        "my-var = \"Ariel\"\n",
        "my var = \"Ariel\""
      ],
      "metadata": {
        "colab": {
          "base_uri": "https://localhost:8080/",
          "height": 110
        },
        "id": "lAVsDCluX0HF",
        "outputId": "b9e4c7e3-aee3-4270-ae9c-411186f8ea8c"
      },
      "execution_count": null,
      "outputs": [
        {
          "output_type": "error",
          "ename": "SyntaxError",
          "evalue": "invalid decimal literal (ipython-input-34-2535849005.py, line 1)",
          "traceback": [
            "\u001b[0;36m  File \u001b[0;32m\"/tmp/ipython-input-34-2535849005.py\"\u001b[0;36m, line \u001b[0;32m1\u001b[0m\n\u001b[0;31m    2myvar = \"Ariel\"\u001b[0m\n\u001b[0m    ^\u001b[0m\n\u001b[0;31mSyntaxError\u001b[0m\u001b[0;31m:\u001b[0m invalid decimal literal\n"
          ]
        }
      ]
    },
    {
      "cell_type": "markdown",
      "source": [
        "Kode yang Anda pilih menghasilkan SyntaxError. Ini terjadi karena ada kesalahan dalam cara penamaan variabel. Dalam Python, nama variabel memiliki beberapa aturan:\n",
        "\n",
        "Nama variabel tidak boleh dimulai dengan angka. Baris 2myvar = \"Ariel\" melanggar aturan ini.\n",
        "Nama variabel tidak boleh mengandung tanda hubung (-). Tanda hubung dianggap sebagai operator pengurangan. Baris my-var = \"Ariel\" melanggar aturan ini.\n",
        "\n",
        "Nama variabel tidak boleh mengandung spasi. Baris my var = \"Ariel\" melanggar aturan ini.\n",
        "Karena aturan penamaan variabel ini dilanggar, Python tidak dapat mengenali 2myvar, my-var, dan my var sebagai nama variabel yang valid, sehingga menghasilkan SyntaxError."
      ],
      "metadata": {
        "id": "Z7HM6jPgX7_D"
      }
    },
    {
      "cell_type": "markdown",
      "source": [
        "### **b. Camel Case**"
      ],
      "metadata": {
        "id": "iHMExMtYYBOD"
      }
    },
    {
      "cell_type": "code",
      "source": [
        "myVariableName = \"Ariel\""
      ],
      "metadata": {
        "id": "NNpGA4d5YDU8"
      },
      "execution_count": null,
      "outputs": []
    },
    {
      "cell_type": "markdown",
      "source": [
        "### **c. Pascal Case**"
      ],
      "metadata": {
        "id": "yCUdzAWJYgaM"
      }
    },
    {
      "cell_type": "code",
      "source": [
        "MyVariableName = \"Ariel\""
      ],
      "metadata": {
        "id": "k-c3WRoiYg8D"
      },
      "execution_count": null,
      "outputs": []
    },
    {
      "cell_type": "markdown",
      "source": [
        "### **d. Snake Case**"
      ],
      "metadata": {
        "id": "EJelvPE2YjCr"
      }
    },
    {
      "cell_type": "code",
      "source": [
        "my_variable_name = \"Ariel\""
      ],
      "metadata": {
        "id": "KW2iOCBQYkx0"
      },
      "execution_count": null,
      "outputs": []
    },
    {
      "cell_type": "markdown",
      "source": [
        "## **C. Python Variables - Assign Multiple Values**"
      ],
      "metadata": {
        "id": "imqWjeCIZiry"
      }
    },
    {
      "cell_type": "markdown",
      "source": [
        "### **a. Many Values to Multiple Variables**"
      ],
      "metadata": {
        "id": "5f74Z8V68Ijp"
      }
    },
    {
      "cell_type": "code",
      "source": [
        "x, y, z = \"Orange\", \"Banana\", \"Cherry\"\n",
        "print(x)\n",
        "print(y)\n",
        "print(z)"
      ],
      "metadata": {
        "colab": {
          "base_uri": "https://localhost:8080/"
        },
        "id": "Cn1v1VjHZlSa",
        "outputId": "bdabe327-6ff1-41cf-cea1-9c418e9a4a8b"
      },
      "execution_count": null,
      "outputs": [
        {
          "output_type": "stream",
          "name": "stdout",
          "text": [
            "Orange\n",
            "Banana\n",
            "Cherry\n"
          ]
        }
      ]
    },
    {
      "cell_type": "markdown",
      "source": [
        "### **b. One Value to Multiple Variables**"
      ],
      "metadata": {
        "id": "e0Jw0zfYZ-gD"
      }
    },
    {
      "cell_type": "code",
      "source": [
        "x = y = z = \"Orange\"\n",
        "print(x)\n",
        "print(y)\n",
        "print(z)"
      ],
      "metadata": {
        "colab": {
          "base_uri": "https://localhost:8080/"
        },
        "id": "ik0xbO7dZ_vq",
        "outputId": "855816fc-ab1a-4bb9-a335-d222b3d1ad0e"
      },
      "execution_count": null,
      "outputs": [
        {
          "output_type": "stream",
          "name": "stdout",
          "text": [
            "Orange\n",
            "Orange\n",
            "Orange\n"
          ]
        }
      ]
    },
    {
      "cell_type": "markdown",
      "source": [
        "Kode ini menunjukkan cara menugaskan (assign) satu nilai yang sama ke beberapa variabel dalam satu baris di Python.\n",
        "\n",
        "x = y = z = \"Orange\" menugaskan string \"Orange\" ke tiga variabel sekaligus: x, y, dan z.\\\n",
        "print(x) akan mencetak nilai dari x, yaitu \"Orange\".\\\n",
        "print(y) akan mencetak nilai dari y, yaitu \"Orange\".\\\n",
        "print(z) akan mencetak nilai dari z, yaitu \"Orange\".\\\n",
        "Ini adalah cara singkat untuk menginisialisasi beberapa variabel dengan nilai awal yang sama."
      ],
      "metadata": {
        "id": "A3hjkcHyafyk"
      }
    },
    {
      "cell_type": "markdown",
      "source": [
        "### **c. Unpack a Collection**"
      ],
      "metadata": {
        "id": "X0d_hF1-aKMK"
      }
    },
    {
      "cell_type": "code",
      "source": [
        "fruits = [\"apple\", \"banana\", \"cherry\"]\n",
        "x, y, z = fruits\n",
        "print(x)\n",
        "print(y)\n",
        "print(z)"
      ],
      "metadata": {
        "colab": {
          "base_uri": "https://localhost:8080/"
        },
        "id": "xLwTfm3naLAV",
        "outputId": "a184605f-e2db-4d26-a1f3-e5d2224dc3af"
      },
      "execution_count": null,
      "outputs": [
        {
          "output_type": "stream",
          "name": "stdout",
          "text": [
            "apple\n",
            "banana\n",
            "cherry\n"
          ]
        }
      ]
    },
    {
      "cell_type": "markdown",
      "source": [
        "Kode ini mendemonstrasikan cara \"membongkar\" (unpack) elemen-elemen dari sebuah koleksi (dalam hal ini, sebuah list) ke dalam variabel-variabel terpisah.\n",
        "\n",
        "fruits = [\"apple\", \"banana\", \"cherry\"] membuat sebuah list bernama fruits yang berisi tiga string: \"apple\", \"banana\", dan \"cherry\".\\\n",
        "x, y, z = fruits adalah bagian \"membongkar\".\\ Ini mengambil elemen pertama dari list fruits dan menugaskannya ke variabel x, elemen kedua ke variabel y, dan elemen ketiga ke variabel z.\\\n",
        "print(x) akan mencetak nilai dari x, yaitu \"apple\".\\\n",
        "print(y) akan mencetak nilai dari y, yaitu \"banana\".\\\n",
        "print(z) akan mencetak nilai dari z, yaitu \"cherry\".\\\n",
        "Teknik membongkar ini sangat berguna ketika Anda memiliki koleksi dengan jumlah elemen yang diketahui dan ingin menugaskan setiap elemen ke variabel yang berbeda dengan cepat. Penting untuk dicatat bahwa jumlah variabel di sisi kiri harus sama dengan jumlah elemen dalam koleksi di sisi kanan.\n",
        "\n"
      ],
      "metadata": {
        "id": "_Nc9EREHaZA6"
      }
    },
    {
      "cell_type": "markdown",
      "source": [
        "## **D. Python - Output Variables**"
      ],
      "metadata": {
        "id": "uAXFMMDnbTCy"
      }
    },
    {
      "cell_type": "markdown",
      "source": [
        "### **a. Output Variables**"
      ],
      "metadata": {
        "id": "wU6s7ttF8kAq"
      }
    },
    {
      "cell_type": "code",
      "source": [
        "x = \"Python is awesome\"\n",
        "print(x)"
      ],
      "metadata": {
        "id": "lt7laLpbbZV7",
        "outputId": "c8f45b5c-4e58-422c-a2fb-288f3280f436",
        "colab": {
          "base_uri": "https://localhost:8080/"
        }
      },
      "execution_count": null,
      "outputs": [
        {
          "output_type": "stream",
          "name": "stdout",
          "text": [
            "Python is awesome\n"
          ]
        }
      ]
    },
    {
      "cell_type": "code",
      "source": [
        "x = \"Python\"\n",
        "y = \"is\"\n",
        "z = \"awesome\"\n",
        "print(x, y, z)"
      ],
      "metadata": {
        "colab": {
          "base_uri": "https://localhost:8080/"
        },
        "id": "zj7urLiSPmXh",
        "outputId": "46ee7e5e-c6bc-4be9-9904-8f78dbca2a1d"
      },
      "execution_count": null,
      "outputs": [
        {
          "output_type": "stream",
          "name": "stdout",
          "text": [
            "Python is awesome\n"
          ]
        }
      ]
    },
    {
      "cell_type": "code",
      "source": [
        "x = \"Python \"\n",
        "y = \"is \"\n",
        "z = \"awesome\"\n",
        "print(x + y + z)"
      ],
      "metadata": {
        "colab": {
          "base_uri": "https://localhost:8080/"
        },
        "id": "yK7z-Rh1PvpK",
        "outputId": "49cd0124-da0a-4586-9577-8e457efb3fe0"
      },
      "execution_count": null,
      "outputs": [
        {
          "output_type": "stream",
          "name": "stdout",
          "text": [
            "Python is awesome\n"
          ]
        }
      ]
    },
    {
      "cell_type": "markdown",
      "source": [
        "Perhatikan karakter spasi setelah \"Python \" dan \"is \", tanpa keduanya hasilnya akan menjadi \"Pythonisawesome\"."
      ],
      "metadata": {
        "id": "2apyVU2DQGYp"
      }
    },
    {
      "cell_type": "code",
      "source": [
        "x = 5\n",
        "y = 10\n",
        "print(x + y)"
      ],
      "metadata": {
        "colab": {
          "base_uri": "https://localhost:8080/"
        },
        "id": "-iGDLcq3QFNi",
        "outputId": "625b88f9-be5a-46ae-9d8b-403f5f00e8fb"
      },
      "execution_count": null,
      "outputs": [
        {
          "output_type": "stream",
          "name": "stdout",
          "text": [
            "15\n"
          ]
        }
      ]
    },
    {
      "cell_type": "code",
      "source": [
        "x = 5\n",
        "y = \"Ariel\"\n",
        "print(x + y)"
      ],
      "metadata": {
        "colab": {
          "base_uri": "https://localhost:8080/",
          "height": 176
        },
        "id": "6-hMcKzLQRop",
        "outputId": "53f84aa0-68de-47ac-817f-23fa58adb920"
      },
      "execution_count": null,
      "outputs": [
        {
          "output_type": "error",
          "ename": "TypeError",
          "evalue": "unsupported operand type(s) for +: 'int' and 'str'",
          "traceback": [
            "\u001b[0;31m---------------------------------------------------------------------------\u001b[0m",
            "\u001b[0;31mTypeError\u001b[0m                                 Traceback (most recent call last)",
            "\u001b[0;32m/tmp/ipython-input-11-1989821626.py\u001b[0m in \u001b[0;36m<cell line: 0>\u001b[0;34m()\u001b[0m\n\u001b[1;32m      1\u001b[0m \u001b[0mx\u001b[0m \u001b[0;34m=\u001b[0m \u001b[0;36m5\u001b[0m\u001b[0;34m\u001b[0m\u001b[0;34m\u001b[0m\u001b[0m\n\u001b[1;32m      2\u001b[0m \u001b[0my\u001b[0m \u001b[0;34m=\u001b[0m \u001b[0;34m\"John\"\u001b[0m\u001b[0;34m\u001b[0m\u001b[0;34m\u001b[0m\u001b[0m\n\u001b[0;32m----> 3\u001b[0;31m \u001b[0mprint\u001b[0m\u001b[0;34m(\u001b[0m\u001b[0mx\u001b[0m \u001b[0;34m+\u001b[0m \u001b[0my\u001b[0m\u001b[0;34m)\u001b[0m\u001b[0;34m\u001b[0m\u001b[0;34m\u001b[0m\u001b[0m\n\u001b[0m",
            "\u001b[0;31mTypeError\u001b[0m: unsupported operand type(s) for +: 'int' and 'str'"
          ]
        }
      ]
    },
    {
      "cell_type": "markdown",
      "source": [
        "Dalam fungsi print(), saat Anda mencoba menggabungkan string dan angka dengan operator +, Python akan memberi Anda kesalahan:"
      ],
      "metadata": {
        "id": "672RXfgjQRAB"
      }
    },
    {
      "cell_type": "code",
      "source": [
        "x = 5\n",
        "y = \"Ariel\"\n",
        "print(x, y)"
      ],
      "metadata": {
        "colab": {
          "base_uri": "https://localhost:8080/"
        },
        "id": "QFVXlyefQYD5",
        "outputId": "1fb4c7ef-b6bf-4bec-a6c2-256811b161ce"
      },
      "execution_count": null,
      "outputs": [
        {
          "output_type": "stream",
          "name": "stdout",
          "text": [
            "5 John\n"
          ]
        }
      ]
    },
    {
      "cell_type": "markdown",
      "source": [
        "Cara terbaik untuk mengeluarkan beberapa variabel dalam fungsi print() adalah dengan memisahkannya dengan koma, yang bahkan mendukung tipe data yang berbeda:"
      ],
      "metadata": {
        "id": "k5TilQHpQXpZ"
      }
    },
    {
      "cell_type": "markdown",
      "source": [
        "## **E. Python - Global Variables**"
      ],
      "metadata": {
        "id": "fR3CLpKiQoex"
      }
    },
    {
      "cell_type": "markdown",
      "source": [
        "### **a. Global Variables**"
      ],
      "metadata": {
        "id": "C11anCLI87IJ"
      }
    },
    {
      "cell_type": "code",
      "source": [
        "x = \"awesome\"\n",
        "\n",
        "def myfunc():\n",
        "  print(\"Python is \" + x)\n",
        "\n",
        "myfunc()"
      ],
      "metadata": {
        "colab": {
          "base_uri": "https://localhost:8080/"
        },
        "id": "H8weDijxQsdB",
        "outputId": "869b8533-b789-40b4-cfd9-ef5fcbfc01cd"
      },
      "execution_count": null,
      "outputs": [
        {
          "output_type": "stream",
          "name": "stdout",
          "text": [
            "Python is awesome\n"
          ]
        }
      ]
    },
    {
      "cell_type": "markdown",
      "source": [
        "Kode tersebut menunjukkan cara menggunakan variabel global di Python.\n",
        "\n",
        "x = \"awesome\": Ini mendefinisikan variabel x di luar fungsi apa pun. Karena didefinisikan di luar fungsi, x menjadi variabel global. Variabel global dapat diakses dari mana saja dalam program, termasuk di dalam fungsi.\\\n",
        "def myfunc():: Ini mendefinisikan sebuah fungsi bernama myfunc.\\\n",
        "print(\"Python is \" + x): Di dalam fungsi myfunc(), baris ini mencetak string \"Python is \" yang digabungkan dengan nilai dari variabel x.\\\n",
        "Karena x adalah variabel global, fungsi myfunc dapat mengakses dan menggunakan nilainya (\"awesome\").\\\n",
        "myfunc():\\\n",
        "Baris ini memanggil fungsi myfunc(), yang kemudian akan menjalankan kode di dalamnya dan mencetak output \"Python is awesome\".\\\n",
        "Jadi, kode ini mendemonstrasikan bahwa variabel yang didefinisikan di luar fungsi (variabel global) dapat diakses dan digunakan di dalam fungsi."
      ],
      "metadata": {
        "id": "lW11xe4dQ4Bx"
      }
    },
    {
      "cell_type": "code",
      "source": [
        "x = \"awesome\"\n",
        "\n",
        "def myfunc():\n",
        "  x = \"fantastic\"\n",
        "  print(\"Python is \" + x)\n",
        "\n",
        "myfunc()\n",
        "\n",
        "print(\"Python is \" + x)"
      ],
      "metadata": {
        "colab": {
          "base_uri": "https://localhost:8080/"
        },
        "id": "CqA6LC4jRBBZ",
        "outputId": "a0232c5e-e84a-4bf3-db0f-d6c46dd8e57b"
      },
      "execution_count": null,
      "outputs": [
        {
          "output_type": "stream",
          "name": "stdout",
          "text": [
            "Python is fantastic\n",
            "Python is awesome\n"
          ]
        }
      ]
    },
    {
      "cell_type": "markdown",
      "source": [
        "Kode ini menunjukkan konsep scope variabel di Python, khususnya perbedaan antara variabel global dan variabel lokal dalam fungsi.\n",
        "\n",
        "x = \"awesome\": Ini mendefinisikan variabel global x dengan nilai \"awesome\". Variabel ini dapat diakses dari mana saja dalam kode.\\\n",
        "def myfunc():: Ini mendefinisikan sebuah fungsi bernama myfunc.\\\n",
        "x = \"fantastic\": Di dalam fungsi myfunc(), baris ini mendefinisikan variabel lokal x dengan nilai \"fantastic\". Variabel x ini hanya ada di dalam lingkup (scope) fungsi myfunc dan tidak memengaruhi variabel global x yang didefinisikan di luar fungsi.\\\n",
        "print(\"Python is \" + x): Di dalam fungsi myfunc(), baris ini mencetak string \"Python is \" yang digabungkan dengan nilai dari variabel x. Karena x yang terdekat dan berada dalam lingkup lokal fungsi adalah yang bernilai \"fantastic\", maka outputnya adalah \"Python is fantastic\".\\\n",
        "myfunc(): Baris ini memanggil fungsi myfunc(), yang menjalankan kode di dalamnya dan menghasilkan output \"Python is fantastic\".\\\n",
        "print(\"Python is \" + x): Baris ini berada di luar fungsi myfunc(). Oleh karena itu, saat mencetak nilai x, ia akan menggunakan variabel global x yang nilainya masih \"awesome\". Outputnya adalah \"Python is awesome\".\\\n",
        "Jadi, kode ini menunjukkan bahwa meskipun ada variabel dengan nama yang sama (x) di dalam dan di luar fungsi, mereka adalah variabel yang berbeda karena memiliki scope yang berbeda. Perubahan pada variabel lokal di dalam fungsi tidak memengaruhi variabel global di luar fungsi."
      ],
      "metadata": {
        "id": "uzV4NeW4RgCh"
      }
    },
    {
      "cell_type": "markdown",
      "source": [
        "### **b. The global Keyword**"
      ],
      "metadata": {
        "id": "xzXIm0I3RmHI"
      }
    },
    {
      "cell_type": "code",
      "source": [
        "def myfunc():\n",
        "  global x\n",
        "  x = \"fantastic\"\n",
        "\n",
        "myfunc()\n",
        "\n",
        "print(\"Python is \" + x)"
      ],
      "metadata": {
        "colab": {
          "base_uri": "https://localhost:8080/"
        },
        "id": "oQr1uZQSRoCQ",
        "outputId": "38c11e25-d6a8-4c46-e572-12fb0823600a"
      },
      "execution_count": null,
      "outputs": [
        {
          "output_type": "stream",
          "name": "stdout",
          "text": [
            "Python is fantastic\n"
          ]
        }
      ]
    },
    {
      "cell_type": "markdown",
      "source": [
        "Biasanya, saat Anda membuat variabel di dalam suatu fungsi, variabel tersebut bersifat lokal, dan hanya dapat digunakan di dalam fungsi tersebut.\n",
        "\n",
        "Untuk membuat variabel global di dalam suatu fungsi, Anda dapat menggunakan kata kunci global."
      ],
      "metadata": {
        "id": "W-wTtPJlSs6I"
      }
    },
    {
      "cell_type": "code",
      "source": [
        "x = \"awesome\"\n",
        "\n",
        "def myfunc():\n",
        "  global x\n",
        "  x = \"fantastic\"\n",
        "\n",
        "myfunc()\n",
        "\n",
        "print(\"Python is \" + x)"
      ],
      "metadata": {
        "colab": {
          "base_uri": "https://localhost:8080/"
        },
        "id": "DaFvSFsBStnA",
        "outputId": "d7e4c1ef-5688-4ff5-b335-1cfb970f9ab1"
      },
      "execution_count": null,
      "outputs": [
        {
          "output_type": "stream",
          "name": "stdout",
          "text": [
            "Python is fantastic\n"
          ]
        }
      ]
    },
    {
      "cell_type": "markdown",
      "source": [
        "Untuk mengubah nilai variabel global di dalam suatu fungsi, rujuk variabel tersebut dengan menggunakan kata kunci global:"
      ],
      "metadata": {
        "id": "V9gaJzVOS-tP"
      }
    },
    {
      "cell_type": "markdown",
      "source": [
        "# **4. Python Data Types**"
      ],
      "metadata": {
        "id": "LExr0NUZ9O3Z"
      }
    },
    {
      "cell_type": "markdown",
      "source": [
        "## **A. Built-in Data Types**"
      ],
      "metadata": {
        "id": "Gr6SwZlc9aux"
      }
    },
    {
      "cell_type": "markdown",
      "source": [
        "\n",
        "Built-in Data Types\n",
        "\n",
        "Python has the following data types built-in by default, in these categories:\n",
        "\n",
        "Text Type:\tstr\\\n",
        "Numeric Types:\tint, float, complex\\\n",
        "Sequence Types:\tlist, tuple, range\\\n",
        "Mapping Type:\tdict\\\n",
        "Set Types:\tset, frozenset\\\n",
        "Boolean Type:\tbool\\\n",
        "Binary Types:\tbytes, bytearray, memoryview\\\n",
        "None Type:\tNoneType"
      ],
      "metadata": {
        "id": "X8wMBqY9UH9o"
      }
    },
    {
      "cell_type": "markdown",
      "source": [
        "## **B. Getting the Data Type**"
      ],
      "metadata": {
        "id": "aHm-MZ839j5E"
      }
    },
    {
      "cell_type": "code",
      "source": [
        "x = 5\n",
        "print(type(x))"
      ],
      "metadata": {
        "colab": {
          "base_uri": "https://localhost:8080/"
        },
        "id": "FvYgR7MfS_kA",
        "outputId": "21b18a9a-7968-42c3-ce16-ec5f9cebe4a5"
      },
      "execution_count": null,
      "outputs": [
        {
          "output_type": "stream",
          "name": "stdout",
          "text": [
            "<class 'int'>\n"
          ]
        }
      ]
    },
    {
      "cell_type": "markdown",
      "source": [
        "## **C. Setting the Data Type**"
      ],
      "metadata": {
        "id": "3df6bKmd9yYp"
      }
    },
    {
      "cell_type": "markdown",
      "source": [
        "![image.png](data:image/png;base64,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)"
      ],
      "metadata": {
        "id": "jzDAbGYY-ag4"
      }
    },
    {
      "cell_type": "code",
      "source": [
        "x = \"Hello World\"\n",
        "print(type(x))"
      ],
      "metadata": {
        "colab": {
          "base_uri": "https://localhost:8080/"
        },
        "id": "t7OBGd0LUqbX",
        "outputId": "d2f1d865-169f-4514-83d1-f18652eb772a"
      },
      "execution_count": null,
      "outputs": [
        {
          "output_type": "stream",
          "name": "stdout",
          "text": [
            "<class 'str'>\n"
          ]
        }
      ]
    },
    {
      "cell_type": "markdown",
      "source": [
        "x = \"Hello World\"\tstr\t\\\n",
        "x = 20\tint\t\\\n",
        "x = 20.5\tfloat\t\\\n",
        "x = 1j\tcomplex\n",
        "x = [\"apple\", \"banana\", \"cherry\"]\tlist\n",
        "x = (\"apple\", \"banana\", \"cherry\")\ttuple\n",
        "x = range(6)\trange\n",
        "x = {\"name\" : \"John\", \"age\" : 36}\tdict\n",
        "x = {\"apple\", \"banana\", \"cherry\"}\tset\n",
        "x = frozenset({\"apple\", \"banana\", \"cherry\"})\tfrozenset\n",
        "x = True\tbool\n",
        "x = b\"Hello\"\tbytes\n",
        "x = bytearray(5)\tbytearray\n",
        "x = memoryview(bytes(5))\tmemoryview\n",
        "x = None\tNoneType"
      ],
      "metadata": {
        "id": "XtfrLXIgU1eP"
      }
    },
    {
      "cell_type": "markdown",
      "source": [
        "## **D. Setting the Specific Data Type**"
      ],
      "metadata": {
        "id": "vrMtQtvx-UFZ"
      }
    },
    {
      "cell_type": "markdown",
      "source": [
        "![image.png](data:image/png;base64,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)"
      ],
      "metadata": {
        "id": "BYN_PSe9-j-B"
      }
    },
    {
      "cell_type": "code",
      "source": [
        "x = str(\"Hello World\")\n",
        "print(x)"
      ],
      "metadata": {
        "colab": {
          "base_uri": "https://localhost:8080/"
        },
        "id": "zAMPU7b9U8Mf",
        "outputId": "47c6abd8-1606-4ef5-d481-9a562c5165d6"
      },
      "execution_count": null,
      "outputs": [
        {
          "output_type": "stream",
          "name": "stdout",
          "text": [
            "Hello World\n"
          ]
        }
      ]
    },
    {
      "cell_type": "markdown",
      "source": [
        "x = str(\"Hello World\")\tstr\n",
        "x = int(20)\tint\n",
        "x = float(20.5)\tfloat\n",
        "x = complex(1j)\tcomplex\n",
        "x = list((\"apple\", \"banana\", \"cherry\"))\tlist\n",
        "x = tuple((\"apple\", \"banana\", \"cherry\"))\ttuple\n",
        "x = range(6)\trange\n",
        "x = dict(name=\"John\", age=36)\tdict\n",
        "x = set((\"apple\", \"banana\", \"cherry\"))\tset\n",
        "x = frozenset((\"apple\", \"banana\", \"cherry\"))\tfrozenset\n",
        "x = bool(5)\tbool\n",
        "x = bytes(5)\tbytes\n",
        "x = bytearray(5)\tbytearray\n",
        "x = memoryview(bytes(5))\tmemoryview"
      ],
      "metadata": {
        "id": "y3yiSpv5VCa_"
      }
    },
    {
      "cell_type": "markdown",
      "source": [
        "# **5. Python Numbers**\n",
        "\n"
      ],
      "metadata": {
        "id": "oGK9n9GEWSGW"
      }
    },
    {
      "cell_type": "markdown",
      "source": [
        "## **A. There are three numeric types in Python:**\n",
        "\n",
        "int\\\n",
        "float\\\n",
        "complex"
      ],
      "metadata": {
        "id": "31E7SeSZ-xcI"
      }
    },
    {
      "cell_type": "code",
      "source": [
        "x = 1    # int\n",
        "y = 2.8  # float\n",
        "z = 1j   # complex\n",
        "\n",
        "print(type(x))\n",
        "print(type(y))\n",
        "print(type(z))"
      ],
      "metadata": {
        "colab": {
          "base_uri": "https://localhost:8080/"
        },
        "id": "pbbaHH45WYxG",
        "outputId": "c2d6e378-b932-464a-ce72-5f2f89048bf2"
      },
      "execution_count": null,
      "outputs": [
        {
          "output_type": "stream",
          "name": "stdout",
          "text": [
            "<class 'int'>\n",
            "<class 'float'>\n",
            "<class 'complex'>\n"
          ]
        }
      ]
    },
    {
      "cell_type": "markdown",
      "source": [
        "### **a. int**"
      ],
      "metadata": {
        "id": "VmL8abtf_CDg"
      }
    },
    {
      "cell_type": "code",
      "source": [
        "x = 1\n",
        "y = 35656222554887711\n",
        "z = -3255522\n",
        "\n",
        "print(type(x))\n",
        "print(type(y))\n",
        "print(type(z))"
      ],
      "metadata": {
        "colab": {
          "base_uri": "https://localhost:8080/"
        },
        "id": "ZuI5qg6BWv11",
        "outputId": "1708e25e-0ce2-4e7f-ae54-8faf1bd890e2"
      },
      "execution_count": null,
      "outputs": [
        {
          "output_type": "stream",
          "name": "stdout",
          "text": [
            "<class 'int'>\n",
            "<class 'int'>\n",
            "<class 'int'>\n"
          ]
        }
      ]
    },
    {
      "cell_type": "markdown",
      "source": [
        "### **b.float**"
      ],
      "metadata": {
        "id": "LZad1N7Z_HUR"
      }
    },
    {
      "cell_type": "code",
      "source": [
        "x = 1.10\n",
        "y = 1.0\n",
        "z = -35.59\n",
        "\n",
        "print(type(x))\n",
        "print(type(y))\n",
        "print(type(z))"
      ],
      "metadata": {
        "colab": {
          "base_uri": "https://localhost:8080/"
        },
        "id": "CT_bQjLpW0M2",
        "outputId": "2b515d6d-987f-4e61-e9af-f691314621dd"
      },
      "execution_count": null,
      "outputs": [
        {
          "output_type": "stream",
          "name": "stdout",
          "text": [
            "<class 'float'>\n",
            "<class 'float'>\n",
            "<class 'float'>\n"
          ]
        }
      ]
    },
    {
      "cell_type": "code",
      "source": [
        "x = 35e3\n",
        "y = 12E4\n",
        "z = -87.7e100\n",
        "\n",
        "print(type(x))\n",
        "print(type(y))\n",
        "print(type(z))"
      ],
      "metadata": {
        "colab": {
          "base_uri": "https://localhost:8080/"
        },
        "id": "YwJxJKSVW3bO",
        "outputId": "a74b0ab5-ff9b-41c8-e2c2-c11a74eecbd8"
      },
      "execution_count": null,
      "outputs": [
        {
          "output_type": "stream",
          "name": "stdout",
          "text": [
            "<class 'float'>\n",
            "<class 'float'>\n",
            "<class 'float'>\n"
          ]
        }
      ]
    },
    {
      "cell_type": "markdown",
      "source": [
        "### **c. complex**"
      ],
      "metadata": {
        "id": "_FhPSZUK_MyQ"
      }
    },
    {
      "cell_type": "markdown",
      "source": [
        "Angka kompleks ditulis dengan \"j\" sebagai bagian imajiner:"
      ],
      "metadata": {
        "id": "0YW2_XYCW9MW"
      }
    },
    {
      "cell_type": "code",
      "source": [
        "x = 3+5j\n",
        "y = 5j\n",
        "z = -5j\n",
        "\n",
        "print(type(x))\n",
        "print(type(y))\n",
        "print(type(z))"
      ],
      "metadata": {
        "colab": {
          "base_uri": "https://localhost:8080/"
        },
        "id": "g8V8OIOaW9l2",
        "outputId": "513bebf5-2a60-4313-9733-c138223f33fe"
      },
      "execution_count": null,
      "outputs": [
        {
          "output_type": "stream",
          "name": "stdout",
          "text": [
            "<class 'complex'>\n",
            "<class 'complex'>\n",
            "<class 'complex'>\n"
          ]
        }
      ]
    },
    {
      "cell_type": "markdown",
      "source": [
        "### **d. Type Conversion**"
      ],
      "metadata": {
        "id": "AdP3ixDO_VCQ"
      }
    },
    {
      "cell_type": "markdown",
      "source": [
        "Anda dapat mengonversi dari satu tipe ke tipe lain dengan metode int(), float(), dan complex():"
      ],
      "metadata": {
        "id": "M2148cWvXDAH"
      }
    },
    {
      "cell_type": "code",
      "source": [
        "x = 1    # int\n",
        "y = 2.8  # float\n",
        "z = 1j   # complex\n",
        "\n",
        "#convert from int to float:\n",
        "a = float(x)\n",
        "\n",
        "#convert from float to int:\n",
        "b = int(y)\n",
        "\n",
        "#convert from int to complex:\n",
        "c = complex(x)\n",
        "\n",
        "print(a)\n",
        "print(b)\n",
        "print(c)\n",
        "\n",
        "print(type(a))\n",
        "print(type(b))\n",
        "print(type(c))"
      ],
      "metadata": {
        "colab": {
          "base_uri": "https://localhost:8080/"
        },
        "id": "7Jc01EXbXHb9",
        "outputId": "5e01d6ce-ea33-46d6-9b44-2728985ddf27"
      },
      "execution_count": null,
      "outputs": [
        {
          "output_type": "stream",
          "name": "stdout",
          "text": [
            "1.0\n",
            "2\n",
            "(1+0j)\n",
            "<class 'float'>\n",
            "<class 'int'>\n",
            "<class 'complex'>\n"
          ]
        }
      ]
    },
    {
      "cell_type": "markdown",
      "source": [
        "### **e. Random Number**"
      ],
      "metadata": {
        "id": "Tm9bjctF_b0o"
      }
    },
    {
      "cell_type": "markdown",
      "source": [
        "Python tidak memiliki fungsi random() untuk membuat angka acak, tetapi Python memiliki modul bawaan yang disebut random yang dapat digunakan untuk membuat angka acak:"
      ],
      "metadata": {
        "id": "QfsIjkc8XXim"
      }
    },
    {
      "cell_type": "code",
      "source": [
        "import random\n",
        "\n",
        "print(random.randrange(1, 10))"
      ],
      "metadata": {
        "colab": {
          "base_uri": "https://localhost:8080/"
        },
        "id": "OkpjLWxOXgJm",
        "outputId": "4f7cc9da-0499-4a91-88aa-5b0e1ed6ac21"
      },
      "execution_count": null,
      "outputs": [
        {
          "output_type": "stream",
          "name": "stdout",
          "text": [
            "2\n"
          ]
        }
      ]
    },
    {
      "cell_type": "markdown",
      "source": [
        "# **6. Python Casting**"
      ],
      "metadata": {
        "id": "N6mPGw2A_jKo"
      }
    },
    {
      "cell_type": "markdown",
      "source": [
        "## **A. Specify a Variable Type**"
      ],
      "metadata": {
        "id": "rhIVQ_ohT5d7"
      }
    },
    {
      "cell_type": "markdown",
      "source": [
        "Mungkin ada saatnya Anda ingin menentukan tipe pada variabel. Ini dapat dilakukan dengan casting. Python adalah bahasa berorientasi objek, dan karenanya menggunakan kelas untuk menentukan tipe data, termasuk tipe primitifnya.\n",
        "\n",
        "Casting dalam python dilakukan dengan menggunakan fungsi konstruktor:\n",
        "\n",
        "int() - membangun bilangan integer dari literal integer, literal float (dengan menghapus semua desimal), atau literal string (dengan syarat string tersebut mewakili bilangan bulat)\\\n",
        "float() - membangun bilangan float dari literal integer, literal float, atau literal string (dengan syarat string tersebut mewakili float atau integer)\\\n",
        "str() - membangun string dari berbagai tipe data, termasuk string, literal integer, dan literal float"
      ],
      "metadata": {
        "id": "50P3wKCrYAUF"
      }
    },
    {
      "cell_type": "markdown",
      "source": [
        "Integers:"
      ],
      "metadata": {
        "id": "JP63XTWDT_Ca"
      }
    },
    {
      "cell_type": "code",
      "source": [
        "x = int(1)   # x will be 1\n",
        "y = int(2.8) # y will be 2\n",
        "z = int(\"3\") # z will be 3\n",
        "\n",
        "print(x ,y ,z)"
      ],
      "metadata": {
        "colab": {
          "base_uri": "https://localhost:8080/"
        },
        "id": "FDsfDWaPYOqd",
        "outputId": "f2fdccf4-1da3-4167-d558-90117222ee3b"
      },
      "execution_count": null,
      "outputs": [
        {
          "output_type": "stream",
          "name": "stdout",
          "text": [
            "1 2 3\n"
          ]
        }
      ]
    },
    {
      "cell_type": "markdown",
      "source": [
        "Floats"
      ],
      "metadata": {
        "id": "4OzNkxiRUC4D"
      }
    },
    {
      "cell_type": "code",
      "source": [
        "x = float(1)     # x will be 1.0\n",
        "y = float(2.8)   # y will be 2.8\n",
        "z = float(\"3\")   # z will be 3.0\n",
        "w = float(\"4.2\") # w will be 4.2\n",
        "\n",
        "print(x ,y ,z ,w)"
      ],
      "metadata": {
        "colab": {
          "base_uri": "https://localhost:8080/"
        },
        "id": "rgHL8WRRYmdd",
        "outputId": "460271a4-5276-4a79-a7fc-9cca1a0d5b00"
      },
      "execution_count": null,
      "outputs": [
        {
          "output_type": "stream",
          "name": "stdout",
          "text": [
            "1.0 2.8 3.0 4.2\n"
          ]
        }
      ]
    },
    {
      "cell_type": "markdown",
      "source": [
        "Strings"
      ],
      "metadata": {
        "id": "m564ylNKUFkb"
      }
    },
    {
      "cell_type": "code",
      "source": [
        "x = str(\"s1\") # x will be 's1'\n",
        "y = str(2)    # y will be '2'\n",
        "z = str(3.0)  # z will be '3.0'\n",
        "\n",
        "print(x ,y ,z)"
      ],
      "metadata": {
        "colab": {
          "base_uri": "https://localhost:8080/"
        },
        "id": "h69acqTGYuRd",
        "outputId": "332eac74-b7a1-4d74-87fb-14ed91174844"
      },
      "execution_count": null,
      "outputs": [
        {
          "output_type": "stream",
          "name": "stdout",
          "text": [
            "s1 2 3.0\n"
          ]
        }
      ]
    },
    {
      "cell_type": "markdown",
      "source": [
        "# **7. Python Strings**"
      ],
      "metadata": {
        "id": "Z1RHEtzdUKmK"
      }
    },
    {
      "cell_type": "markdown",
      "source": [
        "## **A. Python Strings**"
      ],
      "metadata": {
        "id": "k-8M0c-sUPAT"
      }
    },
    {
      "cell_type": "markdown",
      "source": [
        "### **a. Strings**"
      ],
      "metadata": {
        "id": "zq6lYbEJVtPq"
      }
    },
    {
      "cell_type": "markdown",
      "source": [
        "String dalam python diapit oleh tanda kutip tunggal atau tanda kutip ganda.\n",
        "\n",
        "'hello' sama dengan \"hello\".\n",
        "\n",
        "Anda dapat menampilkan string literal dengan fungsi print():"
      ],
      "metadata": {
        "id": "yexlIh8AZB_1"
      }
    },
    {
      "cell_type": "code",
      "source": [
        "print(\"Hello\")\n",
        "print('Hello')"
      ],
      "metadata": {
        "colab": {
          "base_uri": "https://localhost:8080/"
        },
        "id": "9p-eyoufZKGs",
        "outputId": "c4310acb-b169-4ca6-dc1b-da1c0af5a8f2"
      },
      "execution_count": null,
      "outputs": [
        {
          "output_type": "stream",
          "name": "stdout",
          "text": [
            "Hello\n",
            "Hello\n"
          ]
        }
      ]
    },
    {
      "cell_type": "markdown",
      "source": [
        "### **b. Quotes Inside Quotes**"
      ],
      "metadata": {
        "id": "VQhrFwozVyTR"
      }
    },
    {
      "cell_type": "code",
      "source": [
        "print(\"It's alright\")\n",
        "print(\"He is called 'Ariel'\")\n",
        "print('He is called \"Ariel\"')"
      ],
      "metadata": {
        "colab": {
          "base_uri": "https://localhost:8080/"
        },
        "id": "NiwE73SPZTX9",
        "outputId": "ef898bad-4342-49ec-b038-2168f270c018"
      },
      "execution_count": null,
      "outputs": [
        {
          "output_type": "stream",
          "name": "stdout",
          "text": [
            "It's alright\n",
            "He is called 'Ariel'\n",
            "He is called \"Ariel\"\n"
          ]
        }
      ]
    },
    {
      "cell_type": "markdown",
      "source": [
        "### **c. Assign String to a Variable**"
      ],
      "metadata": {
        "id": "ObLY4MpnV4WC"
      }
    },
    {
      "cell_type": "markdown",
      "source": [
        "Menetapkan string ke variabel dilakukan dengan nama variabel diikuti tanda sama dengan dan string:"
      ],
      "metadata": {
        "id": "r-pCyyT6Zmul"
      }
    },
    {
      "cell_type": "code",
      "source": [
        "a = \"Hello\"\n",
        "print(a)"
      ],
      "metadata": {
        "colab": {
          "base_uri": "https://localhost:8080/"
        },
        "id": "FbTcUCNkZSfW",
        "outputId": "784eacdc-0174-425d-c56b-1aa3331d1c7e"
      },
      "execution_count": null,
      "outputs": [
        {
          "output_type": "stream",
          "name": "stdout",
          "text": [
            "Hello\n"
          ]
        }
      ]
    },
    {
      "cell_type": "markdown",
      "source": [
        "### **d. Multiline Strings**"
      ],
      "metadata": {
        "id": "XsSD0OKrV-RZ"
      }
    },
    {
      "cell_type": "markdown",
      "source": [
        "Anda dapat menetapkan string multiline ke suatu variabel dengan menggunakan tiga tanda kutip:"
      ],
      "metadata": {
        "id": "HQvXh09qZzMM"
      }
    },
    {
      "cell_type": "code",
      "source": [
        "a = \"\"\"Lorem ipsum dolor sit amet,\n",
        "consectetur adipiscing elit,\n",
        "sed do eiusmod tempor incididunt\n",
        "ut labore et dolore magna aliqua.\"\"\"\n",
        "print(a)"
      ],
      "metadata": {
        "colab": {
          "base_uri": "https://localhost:8080/"
        },
        "id": "GbCQscueZ2H9",
        "outputId": "02da996a-1759-49f6-a413-a09417291722"
      },
      "execution_count": null,
      "outputs": [
        {
          "output_type": "stream",
          "name": "stdout",
          "text": [
            "Lorem ipsum dolor sit amet,\n",
            "consectetur adipiscing elit,\n",
            "sed do eiusmod tempor incididunt\n",
            "ut labore et dolore magna aliqua.\n"
          ]
        }
      ]
    },
    {
      "cell_type": "code",
      "source": [
        "a = '''Lorem ipsum dolor sit amet,\n",
        "consectetur adipiscing elit,\n",
        "sed do eiusmod tempor incididunt\n",
        "ut labore et dolore magna aliqua.'''\n",
        "print(a)"
      ],
      "metadata": {
        "colab": {
          "base_uri": "https://localhost:8080/"
        },
        "id": "veLck32lZ_-k",
        "outputId": "ea661ad6-5306-4bfd-f7b9-9bf53695e7fb"
      },
      "execution_count": null,
      "outputs": [
        {
          "output_type": "stream",
          "name": "stdout",
          "text": [
            "Lorem ipsum dolor sit amet,\n",
            "consectetur adipiscing elit,\n",
            "sed do eiusmod tempor incididunt\n",
            "ut labore et dolore magna aliqua.\n"
          ]
        }
      ]
    },
    {
      "cell_type": "markdown",
      "source": [
        "### **e. Strings are Arrays**"
      ],
      "metadata": {
        "id": "G2fAx1XQWC4a"
      }
    },
    {
      "cell_type": "markdown",
      "source": [
        "\n",
        "\n",
        "Seperti banyak bahasa pemrograman populer lainnya, string dalam Python adalah array byte yang mewakili karakter unicode.\n",
        "\n",
        "Namun, Python tidak memiliki tipe data karakter, satu karakter hanyalah string dengan panjang 1.\n",
        "\n",
        "Tanda kurung siku dapat digunakan untuk mengakses elemen string."
      ],
      "metadata": {
        "id": "D9qtN4yBaDsk"
      }
    },
    {
      "cell_type": "code",
      "source": [
        "a = \"Hello, World!\"\n",
        "print(a[7])"
      ],
      "metadata": {
        "colab": {
          "base_uri": "https://localhost:8080/"
        },
        "id": "8deI_BOzaH6c",
        "outputId": "6a4adbd0-7157-4a65-d33f-2fd9e1743350"
      },
      "execution_count": null,
      "outputs": [
        {
          "output_type": "stream",
          "name": "stdout",
          "text": [
            "W\n"
          ]
        }
      ]
    },
    {
      "cell_type": "markdown",
      "source": [
        "### **f. Looping Through a String**"
      ],
      "metadata": {
        "id": "nJKqv0wLWIQ-"
      }
    },
    {
      "cell_type": "markdown",
      "source": [
        "\n",
        "\n",
        "Karena string adalah array, kita dapat melakukan pengulangan melalui karakter dalam string, dengan perulangan for."
      ],
      "metadata": {
        "id": "6FrTFkldaUll"
      }
    },
    {
      "cell_type": "code",
      "source": [
        "for x in \"Ariel Shakaramiro\":\n",
        "  print(x)"
      ],
      "metadata": {
        "colab": {
          "base_uri": "https://localhost:8080/"
        },
        "id": "QSWNGT6OaYxM",
        "outputId": "7d80274b-3894-47a4-ae3c-0405f2c122a3"
      },
      "execution_count": null,
      "outputs": [
        {
          "output_type": "stream",
          "name": "stdout",
          "text": [
            "A\n",
            "r\n",
            "i\n",
            "e\n",
            "l\n",
            " \n",
            "S\n",
            "h\n",
            "a\n",
            "k\n",
            "a\n",
            "r\n",
            "a\n",
            "m\n",
            "i\n",
            "r\n",
            "o\n"
          ]
        }
      ]
    },
    {
      "cell_type": "markdown",
      "source": [
        "### **g. String Length**"
      ],
      "metadata": {
        "id": "JCmEKh9aWL3S"
      }
    },
    {
      "cell_type": "markdown",
      "source": [
        "\n",
        "\n",
        "Untuk mendapatkan panjang string, gunakan fungsi len()"
      ],
      "metadata": {
        "id": "ZhX2NBpAaiSM"
      }
    },
    {
      "cell_type": "code",
      "source": [
        "a = \"Hello, World!\"\n",
        "print(len(a))"
      ],
      "metadata": {
        "colab": {
          "base_uri": "https://localhost:8080/"
        },
        "id": "iJ3v6WuBalfE",
        "outputId": "c3a6bc4d-acba-4ef5-f3bb-e2e3d4dae194"
      },
      "execution_count": null,
      "outputs": [
        {
          "output_type": "stream",
          "name": "stdout",
          "text": [
            "13\n"
          ]
        }
      ]
    },
    {
      "cell_type": "markdown",
      "source": [
        "### **h. Check String**"
      ],
      "metadata": {
        "id": "9YfosPNXWRVK"
      }
    },
    {
      "cell_type": "markdown",
      "source": [
        "\n",
        "\n",
        "Untuk memeriksa apakah frasa atau karakter tertentu ada dalam suatu string, kita dapat menggunakan kata kunci in."
      ],
      "metadata": {
        "id": "ap5ASMQ8arMc"
      }
    },
    {
      "cell_type": "code",
      "source": [
        "txt = \"The best things in life are free!\"\n",
        "print(\"best\" in txt)"
      ],
      "metadata": {
        "colab": {
          "base_uri": "https://localhost:8080/"
        },
        "id": "bMxQ34X1au7t",
        "outputId": "594c3960-38f8-407f-8b0f-dc0748e992c2"
      },
      "execution_count": null,
      "outputs": [
        {
          "output_type": "stream",
          "name": "stdout",
          "text": [
            "True\n"
          ]
        }
      ]
    },
    {
      "cell_type": "markdown",
      "source": [
        "Use it in an if statement:"
      ],
      "metadata": {
        "id": "RuHMAqZ0a8EU"
      }
    },
    {
      "cell_type": "code",
      "source": [
        "txt = \"The best things in life are free!\"\n",
        "if \"free\" in txt:\n",
        "  print(\"Yes, 'free' is present.\")"
      ],
      "metadata": {
        "colab": {
          "base_uri": "https://localhost:8080/"
        },
        "id": "ce36Xeora8cE",
        "outputId": "90754496-9b94-469e-b5d1-6edfe840e7f9"
      },
      "execution_count": null,
      "outputs": [
        {
          "output_type": "stream",
          "name": "stdout",
          "text": [
            "Yes, 'free' is present.\n"
          ]
        }
      ]
    },
    {
      "cell_type": "markdown",
      "source": [
        "### **i. Check if NOT**"
      ],
      "metadata": {
        "id": "GuriPRYPWWH6"
      }
    },
    {
      "cell_type": "markdown",
      "source": [
        "\n",
        "\n",
        "Untuk memeriksa apakah frasa atau karakter tertentu TIDAK ada dalam suatu string, kita dapat menggunakan kata kunci not in."
      ],
      "metadata": {
        "id": "RbKmahSQbEmM"
      }
    },
    {
      "cell_type": "code",
      "source": [
        "txt = \"The best things in life are free!\"\n",
        "print(\"expensive\" not in txt)"
      ],
      "metadata": {
        "colab": {
          "base_uri": "https://localhost:8080/"
        },
        "id": "WmOfOU3ubItc",
        "outputId": "520ffa8f-092b-4090-bb61-c34a8426ebcd"
      },
      "execution_count": null,
      "outputs": [
        {
          "output_type": "stream",
          "name": "stdout",
          "text": [
            "True\n"
          ]
        }
      ]
    },
    {
      "cell_type": "code",
      "source": [
        "txt = \"The best things in life are free!\"\n",
        "if \"expensive\" not in txt:\n",
        "  print(\"No, 'expensive' is NOT present.\")"
      ],
      "metadata": {
        "colab": {
          "base_uri": "https://localhost:8080/"
        },
        "id": "7cTBB6r4bRvc",
        "outputId": "57710f56-3281-4e1e-8bc9-bfe8aa346da0"
      },
      "execution_count": null,
      "outputs": [
        {
          "output_type": "stream",
          "name": "stdout",
          "text": [
            "No, 'expensive' is NOT present.\n"
          ]
        }
      ]
    },
    {
      "cell_type": "markdown",
      "source": [
        "## **B. Slicing Strings**"
      ],
      "metadata": {
        "id": "4nwBf9veUkgz"
      }
    },
    {
      "cell_type": "markdown",
      "source": [
        "### **a. Python - Slicing Strings**"
      ],
      "metadata": {
        "id": "8GLI17e9WfwZ"
      }
    },
    {
      "cell_type": "markdown",
      "source": [
        "\n",
        "\n",
        "Anda dapat mengembalikan serangkaian karakter dengan menggunakan sintaksis irisan.\n",
        "\n",
        "Tentukan indeks awal dan indeks akhir, dipisahkan dengan titik dua, untuk mengembalikan bagian dari string."
      ],
      "metadata": {
        "id": "nGpV6l8vcctb"
      }
    },
    {
      "cell_type": "markdown",
      "source": [
        "Get the characters from position 2 to position 5 (not included):"
      ],
      "metadata": {
        "id": "WiZI3C6UcmpD"
      }
    },
    {
      "cell_type": "code",
      "source": [
        "b = \"Hello, World!\"\n",
        "print(b[2:5])"
      ],
      "metadata": {
        "colab": {
          "base_uri": "https://localhost:8080/"
        },
        "id": "i-rf0I_0cgyr",
        "outputId": "fe0968df-8b09-486e-d4e1-57cb6e344cbc"
      },
      "execution_count": null,
      "outputs": [
        {
          "output_type": "stream",
          "name": "stdout",
          "text": [
            "llo\n"
          ]
        }
      ]
    },
    {
      "cell_type": "markdown",
      "source": [
        "### **b. Slice From the Start**"
      ],
      "metadata": {
        "id": "1t-9fCHIWkW5"
      }
    },
    {
      "cell_type": "markdown",
      "source": [
        "\n",
        "\n",
        "Dengan menghilangkan indeks awal, rentang akan dimulai pada karakter pertama:"
      ],
      "metadata": {
        "id": "5KrGwct8coVz"
      }
    },
    {
      "cell_type": "code",
      "source": [
        "b = \"Hello, World!\"\n",
        "print(b[:5])"
      ],
      "metadata": {
        "colab": {
          "base_uri": "https://localhost:8080/"
        },
        "id": "tvSipkfdcnUL",
        "outputId": "a97b758b-d1fd-49fd-abde-96709c5e8712"
      },
      "execution_count": null,
      "outputs": [
        {
          "output_type": "stream",
          "name": "stdout",
          "text": [
            "Hello\n"
          ]
        }
      ]
    },
    {
      "cell_type": "markdown",
      "source": [
        "### **c. Slice To the End**"
      ],
      "metadata": {
        "id": "QidURggXWtGJ"
      }
    },
    {
      "cell_type": "markdown",
      "source": [
        "\n",
        "\n",
        "Dengan menghilangkan indeks akhir, rentangnya akan sampai ke akhir:"
      ],
      "metadata": {
        "id": "ynRYFBkncy2D"
      }
    },
    {
      "cell_type": "code",
      "source": [
        "b = \"Hello, World!\"\n",
        "print(b[2:])"
      ],
      "metadata": {
        "colab": {
          "base_uri": "https://localhost:8080/"
        },
        "id": "6TVnjGxNc1qL",
        "outputId": "723fe9e6-ff8e-4c3b-d471-28795f0d63a0"
      },
      "execution_count": null,
      "outputs": [
        {
          "output_type": "stream",
          "name": "stdout",
          "text": [
            "llo, World!\n"
          ]
        }
      ]
    },
    {
      "cell_type": "markdown",
      "source": [
        "### **d. Negative Indexing**"
      ],
      "metadata": {
        "id": "GcQNzCJlWxLq"
      }
    },
    {
      "cell_type": "markdown",
      "source": [
        "\n",
        "\n",
        "Gunakan indeks negatif untuk memulai irisan dari akhir string:\n",
        "\n",
        "Contoh\n",
        "Dapatkan karakter:\n",
        "\n",
        "Dari: \"o\" di \"World!\" (posisi -5)\n",
        "\n",
        "Ke, tetapi tidak termasuk: \"d\" di \"World!\" (posisi -2):"
      ],
      "metadata": {
        "id": "3d-AxjrIc56L"
      }
    },
    {
      "cell_type": "code",
      "source": [
        "b = \"Hello, World!\"\n",
        "print(b[-9:-2])"
      ],
      "metadata": {
        "colab": {
          "base_uri": "https://localhost:8080/"
        },
        "id": "6-sU6ypUc_2L",
        "outputId": "b80dea51-11a5-4d76-9bcd-6ab22737e35f"
      },
      "execution_count": null,
      "outputs": [
        {
          "output_type": "stream",
          "name": "stdout",
          "text": [
            "o, Worl\n"
          ]
        }
      ]
    },
    {
      "cell_type": "markdown",
      "source": [
        "Kode yang Anda pilih mendemonstrasikan negative indexing atau pengindeksan negatif dalam Python untuk melakukan slicing atau mengiris string dari akhir.\n",
        "\n",
        "b = \"Hello, World!\": Baris ini menetapkan string \"Hello, World!\" ke variabel b.\\\n",
        "print(b[-5:-2]): Baris ini mencetak bagian dari string b menggunakan slicing dengan indeks negatif.\n",
        "Indeks negatif dihitung dari akhir string, di mana -1 adalah karakter terakhir.\\\n",
        "-5 merujuk pada karakter kelima dari akhir, yaitu huruf \"o\" di kata \"World!\".\\\n",
        "-2 merujuk pada karakter kedua dari akhir, yaitu huruf \"l\" di kata \"World!\".\\\n",
        "Sintaks [indeks_mulai:indeks_akhir] akan mengambil karakter dari indeks_mulai hingga indeks_akhir, tetapi tidak termasuk karakter pada indeks_akhir.\\\n",
        "Jadi, b[-5:-2] mengambil karakter dari posisi -5 (termasuk) hingga posisi -2 (tidak termasuk). Ini menghasilkan irisan string \"orl\".\n"
      ],
      "metadata": {
        "id": "6oFIUHNddYoT"
      }
    },
    {
      "cell_type": "markdown",
      "source": [],
      "metadata": {
        "id": "B0X6pmIcdcvk"
      }
    },
    {
      "cell_type": "markdown",
      "source": [
        "## **C. Modify Strings**"
      ],
      "metadata": {
        "id": "YUusUA_IUxuU"
      }
    },
    {
      "cell_type": "markdown",
      "source": [
        "**Python - Modify Strings**\n",
        "\n",
        "**Upper Case** Metode upper() mengembalikan string dalam huruf besar:"
      ],
      "metadata": {
        "id": "pAmbq7f1ezZz"
      }
    },
    {
      "cell_type": "code",
      "source": [
        "a = \"Hello, World!\"\n",
        "print(a.upper())"
      ],
      "metadata": {
        "colab": {
          "base_uri": "https://localhost:8080/"
        },
        "id": "NLFCWks7e_Xj",
        "outputId": "591ce739-fe71-482d-ef7d-536b9c73ff02"
      },
      "execution_count": null,
      "outputs": [
        {
          "output_type": "stream",
          "name": "stdout",
          "text": [
            "HELLO, WORLD!\n"
          ]
        }
      ]
    },
    {
      "cell_type": "markdown",
      "source": [
        "**Lower Case** Metode lower() mengembalikan string dalam huruf kecil:"
      ],
      "metadata": {
        "id": "zWavFV3TfDMj"
      }
    },
    {
      "cell_type": "code",
      "source": [
        "a = \"Hello, World!\"\n",
        "print(a.lower())"
      ],
      "metadata": {
        "colab": {
          "base_uri": "https://localhost:8080/"
        },
        "id": "ZeAcu619fHvT",
        "outputId": "61ccbb09-9d08-4e66-f22c-ce223600da83"
      },
      "execution_count": null,
      "outputs": [
        {
          "output_type": "stream",
          "name": "stdout",
          "text": [
            "hello, world!\n"
          ]
        }
      ]
    },
    {
      "cell_type": "markdown",
      "source": [
        "**Remove Whitespace**\\\n",
        "Whitespace adalah spasi sebelum dan/atau sesudah teks sebenarnya, dan sering kali Anda ingin menghapus spasi ini.\n",
        "\n",
        "Metode strip() menghapus spasi apa pun dari awal atau akhir:"
      ],
      "metadata": {
        "id": "oONFmZ_FfLzS"
      }
    },
    {
      "cell_type": "code",
      "source": [
        "a = \" Hello, World! \"\n",
        "print(a.strip()) # returns \"Hello, World!\""
      ],
      "metadata": {
        "colab": {
          "base_uri": "https://localhost:8080/"
        },
        "id": "x2paNho2fQra",
        "outputId": "4d69ce7d-d056-4f57-ddf5-ee82cac1aec7"
      },
      "execution_count": null,
      "outputs": [
        {
          "output_type": "stream",
          "name": "stdout",
          "text": [
            "Hello, World!\n"
          ]
        }
      ]
    },
    {
      "cell_type": "markdown",
      "source": [
        "**Replace String**\n",
        "\n",
        "Metode replace() mengganti string dengan string lain:"
      ],
      "metadata": {
        "id": "dLWRE0NFfcVb"
      }
    },
    {
      "cell_type": "code",
      "source": [
        "a = \"Hello, World!\"\n",
        "print(a.replace(\"o\", \"D\"))"
      ],
      "metadata": {
        "colab": {
          "base_uri": "https://localhost:8080/"
        },
        "id": "Co-0U9w1fjNq",
        "outputId": "3d1acabb-08b0-4b57-8348-061bff7a1772"
      },
      "execution_count": null,
      "outputs": [
        {
          "output_type": "stream",
          "name": "stdout",
          "text": [
            "HellD, WDrld!\n"
          ]
        }
      ]
    },
    {
      "cell_type": "markdown",
      "source": [
        "**Split String**\n",
        "\n",
        "Metode split() mengembalikan daftar di mana teks di antara pemisah yang ditentukan menjadi item daftar.\\\n",
        "Metode split() membagi string menjadi sub-string jika menemukan contoh pemisah:\n"
      ],
      "metadata": {
        "id": "56dubZC7gN7y"
      }
    },
    {
      "cell_type": "code",
      "source": [
        "a = \"Hello, World!\"\n",
        "print(a.split(\",\")) # returns ['Hello', ' World!']"
      ],
      "metadata": {
        "colab": {
          "base_uri": "https://localhost:8080/"
        },
        "id": "cD62Er4fgTeC",
        "outputId": "805b0997-b7f7-4f11-c341-82b7993d90a8"
      },
      "execution_count": null,
      "outputs": [
        {
          "output_type": "stream",
          "name": "stdout",
          "text": [
            "['Hello', ' World!']\n"
          ]
        }
      ]
    },
    {
      "cell_type": "markdown",
      "source": [
        "## **D. String Concatenation**"
      ],
      "metadata": {
        "id": "fEsb7a_4gcHC"
      }
    },
    {
      "cell_type": "markdown",
      "source": [
        "### **a. String Concatenation**"
      ],
      "metadata": {
        "id": "3Z46_jBTW6Nh"
      }
    },
    {
      "cell_type": "markdown",
      "source": [
        "\n",
        "Untuk menggabungkan, atau mengombinasikan, dua string, Anda dapat menggunakan operator +."
      ],
      "metadata": {
        "id": "38edUmC0dQeI"
      }
    },
    {
      "cell_type": "code",
      "source": [
        "a = \"Hello\"\n",
        "b = \"World\"\n",
        "c = a + b\n",
        "print(c)"
      ],
      "metadata": {
        "colab": {
          "base_uri": "https://localhost:8080/"
        },
        "id": "vpqlc7sBdZlP",
        "outputId": "87306148-5de6-49b1-b900-9954b2399ce9"
      },
      "execution_count": null,
      "outputs": [
        {
          "output_type": "stream",
          "name": "stdout",
          "text": [
            "HelloWorld\n"
          ]
        }
      ]
    },
    {
      "cell_type": "code",
      "source": [
        "a = \"Hello\"\n",
        "b = \"World\"\n",
        "c = a + \" \" + b\n",
        "print(c)"
      ],
      "metadata": {
        "colab": {
          "base_uri": "https://localhost:8080/"
        },
        "id": "C2fh-WeIdfg3",
        "outputId": "db5f7b04-f9db-49e3-ba96-113ba280c750"
      },
      "execution_count": null,
      "outputs": [
        {
          "output_type": "stream",
          "name": "stdout",
          "text": [
            "Hello World\n"
          ]
        }
      ]
    },
    {
      "cell_type": "markdown",
      "source": [
        "## **E. Format - Strings**"
      ],
      "metadata": {
        "id": "OSFTAjQFVDir"
      }
    },
    {
      "cell_type": "markdown",
      "source": [
        "### **a. Format Strings**"
      ],
      "metadata": {
        "id": "Q8njiHgfVIZS"
      }
    },
    {
      "cell_type": "markdown",
      "source": [
        "Seperti yang kita pelajari di bab Variabel Python, kita tidak dapat menggabungkan string dan angka seperti ini:"
      ],
      "metadata": {
        "id": "4yokzYN0duzY"
      }
    },
    {
      "cell_type": "code",
      "source": [
        "age = 36\n",
        "txt = \"My name is John, I am \" + age\n",
        "print(txt)"
      ],
      "metadata": {
        "colab": {
          "base_uri": "https://localhost:8080/",
          "height": 184
        },
        "id": "tOYXLso5d2PP",
        "outputId": "af9f4b81-ea37-4b38-b85a-a11fe3d17202"
      },
      "execution_count": null,
      "outputs": [
        {
          "output_type": "error",
          "ename": "TypeError",
          "evalue": "can only concatenate str (not \"int\") to str",
          "traceback": [
            "\u001b[0;31m---------------------------------------------------------------------------\u001b[0m",
            "\u001b[0;31mTypeError\u001b[0m                                 Traceback (most recent call last)",
            "\u001b[0;32m/tmp/ipython-input-3-982055754.py\u001b[0m in \u001b[0;36m<cell line: 0>\u001b[0;34m()\u001b[0m\n\u001b[1;32m      1\u001b[0m \u001b[0mage\u001b[0m \u001b[0;34m=\u001b[0m \u001b[0;36m36\u001b[0m\u001b[0;34m\u001b[0m\u001b[0;34m\u001b[0m\u001b[0m\n\u001b[0;32m----> 2\u001b[0;31m \u001b[0mtxt\u001b[0m \u001b[0;34m=\u001b[0m \u001b[0;34m\"My name is John, I am \"\u001b[0m \u001b[0;34m+\u001b[0m \u001b[0mage\u001b[0m\u001b[0;34m\u001b[0m\u001b[0;34m\u001b[0m\u001b[0m\n\u001b[0m\u001b[1;32m      3\u001b[0m \u001b[0mprint\u001b[0m\u001b[0;34m(\u001b[0m\u001b[0mtxt\u001b[0m\u001b[0;34m)\u001b[0m\u001b[0;34m\u001b[0m\u001b[0;34m\u001b[0m\u001b[0m\n",
            "\u001b[0;31mTypeError\u001b[0m: can only concatenate str (not \"int\") to str"
          ]
        }
      ]
    },
    {
      "cell_type": "markdown",
      "source": [
        "Kode ini mencoba menggabungkan string dengan angka menggunakan operator +.\n",
        "\n",
        "age = 36: Baris ini membuat variabel bernama age dan memberinya nilai integer 36.\n",
        "txt = \"My name is John, I am \" + age: Baris ini mencoba menggabungkan string \"My name is John, I am \" dengan nilai integer dari variabel age.\n",
        "print(txt): Baris ini mencoba mencetak hasil penggabungan.\n",
        "Mengapa Ini Menghasilkan Error?\n",
        "\n",
        "Dalam Python, Anda tidak bisa langsung menggabungkan (mengkonkatenasi) string (str) dengan angka (int atau float) menggunakan operator +. Operator + memiliki arti yang berbeda untuk string (penggabungan) dan untuk angka (penjumlahan). Python tidak secara otomatis mengubah angka menjadi string dalam kasus ini, sehingga muncul TypeError."
      ],
      "metadata": {
        "id": "fg0DCIgXd_XH"
      }
    },
    {
      "cell_type": "markdown",
      "source": [
        "Tetapi kita dapat menggabungkan string dan angka dengan menggunakan f-string atau metode format()!\\\n",
        "Untuk menentukan suatu string sebagai f-string, cukup letakkan f di depan literal string, dan tambahkan kurung kurawal {} sebagai tempat penampung untuk variabel dan operasi lainnya."
      ],
      "metadata": {
        "id": "VapHkOn1eDhw"
      }
    },
    {
      "cell_type": "markdown",
      "source": [
        "### **b. F-Strings**"
      ],
      "metadata": {
        "id": "KBaLCbcAXOsq"
      }
    },
    {
      "cell_type": "markdown",
      "source": [
        "F-String was introduced in Python 3.6, and is now the preferred way of formatting strings.\n",
        "\n",
        "To specify a string as an f-string, simply put an f in front of the string literal, and add curly brackets {} as placeholders for variables and other operations."
      ],
      "metadata": {
        "id": "AQf47G4bXV5Z"
      }
    },
    {
      "cell_type": "code",
      "source": [
        "age = 36\n",
        "txt = f\"My name is John, I am {age}\"\n",
        "print(txt)"
      ],
      "metadata": {
        "colab": {
          "base_uri": "https://localhost:8080/"
        },
        "id": "j2vylwQ5eAPX",
        "outputId": "8edf780b-7758-46ff-f570-9670c44e3a46"
      },
      "execution_count": null,
      "outputs": [
        {
          "output_type": "stream",
          "name": "stdout",
          "text": [
            "My name is John, I am 36\n"
          ]
        }
      ]
    },
    {
      "cell_type": "markdown",
      "source": [
        "### **c. Placeholders and Modifiers**"
      ],
      "metadata": {
        "id": "tLiMsQntXYz4"
      }
    },
    {
      "cell_type": "markdown",
      "source": [
        "\n",
        "Placeholder dapat berisi variabel, operasi, fungsi, dan pengubah untuk memformat nilai."
      ],
      "metadata": {
        "id": "yTY15EyQeReo"
      }
    },
    {
      "cell_type": "code",
      "source": [
        "price = 59\n",
        "txt = f\"The price is {price} dollars\"\n",
        "print(txt)"
      ],
      "metadata": {
        "colab": {
          "base_uri": "https://localhost:8080/"
        },
        "id": "jeD0ZGXdeXCP",
        "outputId": "c69bee12-1fd3-4801-f04c-5fdbbd66adeb"
      },
      "execution_count": null,
      "outputs": [
        {
          "output_type": "stream",
          "name": "stdout",
          "text": [
            "The price is 59 dollars\n"
          ]
        }
      ]
    },
    {
      "cell_type": "markdown",
      "source": [
        "Placeholder dapat menyertakan pengubah untuk memformat nilai.\n",
        "\n",
        "Pengubah disertakan dengan menambahkan titik dua : diikuti oleh tipe format yang sah, seperti .2f yang berarti angka titik tetap dengan 2 desimal:"
      ],
      "metadata": {
        "id": "WXGCRCFZeioG"
      }
    },
    {
      "cell_type": "code",
      "source": [
        "price = 59\n",
        "txt = f\"The price is {price:.2f} dollars\"\n",
        "print(txt)"
      ],
      "metadata": {
        "colab": {
          "base_uri": "https://localhost:8080/"
        },
        "id": "X2fxq38Aek2G",
        "outputId": "3aabd853-6b92-46af-8687-c9227306c443"
      },
      "execution_count": null,
      "outputs": [
        {
          "output_type": "stream",
          "name": "stdout",
          "text": [
            "The price is 59.00 dollars\n"
          ]
        }
      ]
    },
    {
      "cell_type": "markdown",
      "source": [
        "Placeholder dapat berisi kode Python, seperti operasi matematika:"
      ],
      "metadata": {
        "id": "yDFfGIHtevNP"
      }
    },
    {
      "cell_type": "code",
      "source": [
        "txt = f\"The price is {20 * 59} dollars\"\n",
        "print(txt)"
      ],
      "metadata": {
        "colab": {
          "base_uri": "https://localhost:8080/"
        },
        "id": "bA9LStYHevvn",
        "outputId": "da5fb19a-c9ab-480b-db1b-0fbcf6eaca37"
      },
      "execution_count": null,
      "outputs": [
        {
          "output_type": "stream",
          "name": "stdout",
          "text": [
            "The price is 1180 dollars\n"
          ]
        }
      ]
    },
    {
      "cell_type": "markdown",
      "source": [
        "## **F. Escape Characters**"
      ],
      "metadata": {
        "id": "0TilGH2-VP7a"
      }
    },
    {
      "cell_type": "markdown",
      "source": [
        "**Python - Escape Characters**\\\n",
        "Untuk memasukkan karakter yang ilegal dalam string, gunakan karakter escape.\n",
        "\n",
        "Karakter escape adalah garis miring terbalik \\ diikuti oleh karakter yang ingin Anda masukkan.\n",
        "\n",
        "Contoh karakter ilegal adalah tanda kutip ganda di dalam string yang dikelilingi oleh tanda kutip ganda:"
      ],
      "metadata": {
        "id": "5BfoJeijfBYv"
      }
    },
    {
      "cell_type": "code",
      "source": [
        "txt = \"We are the so-called \"Vikings\" from the north.\""
      ],
      "metadata": {
        "colab": {
          "base_uri": "https://localhost:8080/",
          "height": 110
        },
        "id": "nPPbDvgRfGzn",
        "outputId": "40a5553a-e8ae-400c-bb26-e448b319c35f"
      },
      "execution_count": null,
      "outputs": [
        {
          "output_type": "error",
          "ename": "SyntaxError",
          "evalue": "invalid syntax (ipython-input-8-7934146.py, line 1)",
          "traceback": [
            "\u001b[0;36m  File \u001b[0;32m\"/tmp/ipython-input-8-7934146.py\"\u001b[0;36m, line \u001b[0;32m1\u001b[0m\n\u001b[0;31m    txt = \"We are the so-called \"Vikings\" from the north.\"\u001b[0m\n\u001b[0m                                 ^\u001b[0m\n\u001b[0;31mSyntaxError\u001b[0m\u001b[0;31m:\u001b[0m invalid syntax\n"
          ]
        }
      ]
    },
    {
      "cell_type": "markdown",
      "source": [
        "Untuk memperbaiki masalah ini, gunakan karakter escape \\\":"
      ],
      "metadata": {
        "id": "7QSuptkafLw3"
      }
    },
    {
      "cell_type": "code",
      "source": [
        "txt = \"We are the so-called \\\"Vikings\\\" from the north.\""
      ],
      "metadata": {
        "id": "bd8cNQPxfMN_"
      },
      "execution_count": null,
      "outputs": []
    },
    {
      "cell_type": "markdown",
      "source": [
        "\\'\tSingle Quote\n",
        "\\\\\tBackslash\n",
        "\\n\tNew Line\n",
        "\\r\tCarriage Return\n",
        "\\t\tTab\n",
        "\\b\tBackspace\n",
        "\\f\tForm Feed\n",
        "\\ooo\tOctal value\n",
        "\\xhh\tHex value"
      ],
      "metadata": {
        "id": "isOjc7TqfQt_"
      }
    },
    {
      "cell_type": "markdown",
      "source": [
        "## **G. String Methods**"
      ],
      "metadata": {
        "id": "YUveFgVXVVWa"
      }
    },
    {
      "cell_type": "markdown",
      "source": [
        "**Python - String Methods**\\\n",
        "Python memiliki seperangkat metode bawaan yang dapat Anda gunakan pada string.\n",
        "\n",
        "capitalize() Mengubah karakter pertama menjadi huruf kapital\\\n",
        "casefold() Mengubah string menjadi huruf kecil\\\n",
        "center() Mengembalikan string yang dipusatkan\\\n",
        "count() Mengembalikan jumlah kali nilai tertentu muncul dalam string\\\n",
        "encode() Mengembalikan versi string yang dikodekan\\\n",
        "endswith() Mengembalikan true jika string diakhiri dengan nilai yang ditentukan\\\n",
        "expandtabs() Mengatur ukuran tab string\\\n",
        "find() Mencari string untuk nilai tertentu dan mengembalikan posisi tempat ditemukannya\\\n",
        "format() Memformat nilai tertentu dalam string\\\n",
        "format_map() Memformat nilai tertentu dalam string\\\n",
        "index() Mencari string untuk nilai tertentu dan mengembalikan posisi tempat ditemukannya\\\n",
        "isalnum() Mengembalikan True jika semua karakter dalam string adalah alfanumerik\\\n",
        "isalpha() Mengembalikan True jika semua karakter dalam string adalah alfabet\\\n",
        "isascii() Mengembalikan True jika semua karakter dalam string adalah karakter ascii\\\n",
        "isdecimal() Mengembalikan True jika semua karakter dalam string adalah desimal\\\n",
        "isdigit() Mengembalikan True jika semua karakter dalam string adalah digit\\\n",
        "isidentifier() Mengembalikan True jika string adalah identifier\\\n",
        "islower() Mengembalikan True jika semua karakter dalam string adalah huruf kecil\\\n",
        "isnumeric() Mengembalikan True jika semua karakter dalam string adalah numerik\\\n",
        "isprintable() Mengembalikan True jika semua karakter dalam string dapat dicetak\\\n",
        "isspace() Mengembalikan True jika semua karakter dalam string adalah spasi\\\n",
        "istitle() Mengembalikan True jika string mengikuti aturan judul\\\n",
        "isupper() Mengembalikan True jika semua karakter dalam string adalah huruf besar\\\n",
        "join() Menggabungkan elemen iterable ke akhir string\\\n",
        "ljust() Mengembalikan versi string yang dibenarkan ke kiri\\\n",
        "lower() Mengubah string menjadi huruf kecil\\\n",
        "lstrip() Mengembalikan versi trim kiri dari string\\\n",
        "maketrans() Mengembalikan tabel translasi yang akan digunakan dalam translasi\\\n",
        "partition() Mengembalikan tuple tempat string dibagi menjadi tiga bagian\\\n",
        "replace() Mengembalikan string tempat nilai yang ditentukan diganti dengan nilai yang ditentukan\\\n",
        "rfind() Mencari string untuk nilai yang ditentukan dan mengembalikan posisi terakhir tempat ditemukannya\\\n",
        "rindex() Mencari string untuk nilai yang ditentukan dan mengembalikan posisi terakhir tempat ditemukannya\\\n",
        "rjust() Mengembalikan versi string yang dibenarkan ke kanan\\\n",
        "rpartition() Mengembalikan tuple tempat string dibagi menjadi tiga bagian\\\n",
        "rsplit() Membagi string pada pemisah yang ditentukan, dan mengembalikan daftar\\\n",
        "rstrip() Mengembalikan versi string yang dipotong ke kanan\\\n",
        "split() Membagi string pada pemisah yang ditentukan, dan mengembalikan daftar\\\n",
        "splitlines() Membagi string pada jeda baris dan mengembalikan daftar\\\n",
        "startswith() Mengembalikan true jika string dimulai dengan nilai yang ditentukan\\\n",
        "strip() Mengembalikan versi string yang dipangkas\\\n",
        "swapcase() Menukar huruf besar/kecil, huruf kecil menjadi huruf besar dan sebaliknya\\\n",
        "title() Mengubah karakter pertama setiap kata menjadi huruf besar\\\n",
        "translate() Mengembalikan string yang diterjemahkan\\\n",
        "upper() Mengubah string menjadi huruf besar\\\n",
        "zfill() Mengisi string dengan sejumlah nilai 0 yang ditentukan di awal\\\n"
      ],
      "metadata": {
        "id": "fSKiwmq3fUwW"
      }
    },
    {
      "cell_type": "markdown",
      "source": [
        "# **8. Python Booleans**"
      ],
      "metadata": {
        "id": "r26l4w3-Xuep"
      }
    },
    {
      "cell_type": "markdown",
      "source": [
        "## **A. Boolean Values**"
      ],
      "metadata": {
        "id": "npXAfs4KX66B"
      }
    },
    {
      "cell_type": "markdown",
      "source": [
        "\n",
        "Nilai Boolean\n",
        "Dalam pemrograman, Anda sering kali perlu mengetahui apakah suatu ekspresi bernilai Benar atau Salah.\n",
        "\n",
        "Anda dapat mengevaluasi ekspresi apa pun dalam Python, dan mendapatkan satu dari dua jawaban, Benar atau Salah.\n",
        "\n",
        "Saat Anda membandingkan dua nilai, ekspresi tersebut dievaluasi dan Python mengembalikan jawaban Boolean:"
      ],
      "metadata": {
        "id": "MY7BzCFSiDz9"
      }
    },
    {
      "cell_type": "code",
      "source": [
        "print(10 > 9)\n",
        "print(10 == 9)\n",
        "print(10 < 9)"
      ],
      "metadata": {
        "colab": {
          "base_uri": "https://localhost:8080/"
        },
        "id": "brVepWCAiNal",
        "outputId": "151a31d8-bce9-423b-bd1c-1d9a8ca3b523"
      },
      "execution_count": null,
      "outputs": [
        {
          "output_type": "stream",
          "name": "stdout",
          "text": [
            "True\n",
            "False\n",
            "False\n"
          ]
        }
      ]
    },
    {
      "cell_type": "markdown",
      "source": [
        "Ketika Anda menjalankan suatu kondisi dalam pernyataan if, Python mengembalikan True atau False:"
      ],
      "metadata": {
        "id": "NDiyypuRiSMl"
      }
    },
    {
      "cell_type": "code",
      "source": [
        "a = 200\n",
        "b = 33\n",
        "\n",
        "if b > a:\n",
        "  print(\"b is greater than a\")\n",
        "else:\n",
        "  print(\"b is not greater than a\")"
      ],
      "metadata": {
        "colab": {
          "base_uri": "https://localhost:8080/"
        },
        "id": "DNYvAzOwiTDV",
        "outputId": "0bbb16e4-c11e-437f-d0e5-dc27ee7f4d68"
      },
      "execution_count": null,
      "outputs": [
        {
          "output_type": "stream",
          "name": "stdout",
          "text": [
            "b is not greater than a\n"
          ]
        }
      ]
    },
    {
      "cell_type": "markdown",
      "source": [
        "## **B. Evaluate Values and Variables**"
      ],
      "metadata": {
        "id": "otOfo6eeYAZP"
      }
    },
    {
      "cell_type": "markdown",
      "source": [
        "Mengevaluasi Nilai dan Variabel\n",
        "Fungsi bool() memungkinkan Anda mengevaluasi nilai apa pun, dan memberikan Anda Benar atau Salah sebagai balasannya,"
      ],
      "metadata": {
        "id": "PEvpMebpiead"
      }
    },
    {
      "cell_type": "code",
      "source": [
        "print(bool(\"Hello\"))\n",
        "print(bool(15))"
      ],
      "metadata": {
        "colab": {
          "base_uri": "https://localhost:8080/"
        },
        "id": "SXjHGt6aif7m",
        "outputId": "4d67431a-0dcc-47cf-d190-5889c615318b"
      },
      "execution_count": null,
      "outputs": [
        {
          "output_type": "stream",
          "name": "stdout",
          "text": [
            "True\n",
            "True\n"
          ]
        }
      ]
    },
    {
      "cell_type": "code",
      "source": [
        "x = \"Hello\"\n",
        "y = 15\n",
        "\n",
        "print(bool(x))\n",
        "print(bool(y))"
      ],
      "metadata": {
        "colab": {
          "base_uri": "https://localhost:8080/"
        },
        "id": "D55orc6pioXV",
        "outputId": "055682e0-02c0-4297-8d6d-bd339de775d2"
      },
      "execution_count": null,
      "outputs": [
        {
          "output_type": "stream",
          "name": "stdout",
          "text": [
            "True\n",
            "True\n"
          ]
        }
      ]
    },
    {
      "cell_type": "markdown",
      "source": [
        "## **C. Most Values are True**"
      ],
      "metadata": {
        "id": "oHk6q_61YEri"
      }
    },
    {
      "cell_type": "markdown",
      "source": [
        "\n",
        "Hampir semua nilai dievaluasi menjadi Benar jika memiliki beberapa jenis konten.\n",
        "\n",
        "Semua string adalah Benar, kecuali string kosong.\n",
        "\n",
        "Semua angka adalah Benar, kecuali 0.\n",
        "\n",
        "Semua daftar, tupel, set, dan kamus adalah Benar, kecuali yang kosong."
      ],
      "metadata": {
        "id": "pGTadRyMis09"
      }
    },
    {
      "cell_type": "code",
      "source": [
        "bool(\"abc\")\n",
        "bool(123)\n",
        "bool([\"apple\", \"cherry\", \"banana\"])"
      ],
      "metadata": {
        "colab": {
          "base_uri": "https://localhost:8080/"
        },
        "id": "fG5lQ461i0nW",
        "outputId": "0a628046-a00a-49be-828a-bd52b28dbf22"
      },
      "execution_count": null,
      "outputs": [
        {
          "output_type": "execute_result",
          "data": {
            "text/plain": [
              "True"
            ]
          },
          "metadata": {},
          "execution_count": 14
        }
      ]
    },
    {
      "cell_type": "markdown",
      "source": [
        "## **D. Some Values are False**"
      ],
      "metadata": {
        "id": "0RB__kBOYI3g"
      }
    },
    {
      "cell_type": "markdown",
      "source": [
        "\n",
        "Faktanya, tidak banyak nilai yang bernilai False, kecuali nilai kosong, seperti (), [], {}, \"\", angka 0, dan nilai None. Dan tentu saja nilai False bernilai False."
      ],
      "metadata": {
        "id": "ZB3zFRNci26l"
      }
    },
    {
      "cell_type": "code",
      "source": [
        "bool(False)\n",
        "bool(None)\n",
        "bool(0)\n",
        "bool(\"\")\n",
        "bool(())\n",
        "bool([])\n",
        "bool({})"
      ],
      "metadata": {
        "colab": {
          "base_uri": "https://localhost:8080/"
        },
        "id": "aMDOmIQgi7bN",
        "outputId": "acc1bce9-0750-4573-e461-67940cfafb8e"
      },
      "execution_count": null,
      "outputs": [
        {
          "output_type": "execute_result",
          "data": {
            "text/plain": [
              "False"
            ]
          },
          "metadata": {},
          "execution_count": 15
        }
      ]
    },
    {
      "cell_type": "markdown",
      "source": [
        "Satu nilai lagi, atau objek dalam kasus ini, dievaluasi menjadi Salah, dan itu jika Anda memiliki objek yang dibuat dari kelas dengan fungsi __len__ yang mengembalikan 0 atau Salah:"
      ],
      "metadata": {
        "id": "oA-T9rupjAtt"
      }
    },
    {
      "cell_type": "code",
      "source": [
        "class myclass():\n",
        "  def __len__(self):\n",
        "    return 0\n",
        "\n",
        "myobj = myclass()\n",
        "print(bool(myobj))"
      ],
      "metadata": {
        "colab": {
          "base_uri": "https://localhost:8080/"
        },
        "id": "kqRSxlvyjAbt",
        "outputId": "23c309b0-e2c7-4e3a-caf6-784b81c7b3bf"
      },
      "execution_count": null,
      "outputs": [
        {
          "output_type": "stream",
          "name": "stdout",
          "text": [
            "False\n"
          ]
        }
      ]
    },
    {
      "cell_type": "markdown",
      "source": [
        "Kode ini mendemonstrasikan bagaimana sebuah objek yang dibuat dari kelas kustom dapat berperilaku seperti nilai boolean False jika kelas tersebut memiliki metode __len__ yang mengembalikan 0.\n",
        "\n",
        "class myclass():: Ini mendefinisikan sebuah kelas Python bernama myclass.\n",
        "def __len__(self):: Di dalam kelas myclass, ini mendefinisikan metode khusus bernama __len__. Metode ini dipanggil ketika Anda menggunakan fungsi bawaan len() pada objek dari kelas ini. Dalam kasus ini, metode ini diatur untuk selalu mengembalikan nilai integer 0.\n",
        "myobj = myclass(): Ini membuat sebuah instance (objek) baru dari kelas myclass dan menugaskannya ke variabel myobj.\n",
        "print(bool(myobj)): Ini menggunakan fungsi bawaan bool() untuk mengevaluasi nilai boolean dari objek myobj dan kemudian mencetak hasilnya.\n",
        "Mengapa Outputnya False?\n",
        "\n",
        "Dalam Python, banyak objek dievaluasi menjadi True dalam konteks boolean (seperti dalam pernyataan if). Namun, beberapa objek dianggap False. Objek yang kosong, seperti string kosong (\"\"), list kosong ([]), tuple kosong (()), dictionary kosong ({}), set kosong ({}), dan nilai None, semuanya dievaluasi menjadi False.\n",
        "\n",
        "Python juga memiliki aturan khusus untuk objek yang memiliki metode __len__. Jika metode __len__ ada dan mengembalikan 0, maka objek tersebut akan dievaluasi menjadi False ketika dilewatkan ke fungsi bool() atau digunakan dalam konteks boolean.\n",
        "\n",
        "Karena kelas myclass memiliki metode __len__ yang mengembalikan 0, objek myobj dievaluasi sebagai False oleh fungsi bool().\n",
        "\n",
        "Jadi, kode ini menunjukkan bagaimana Anda dapat membuat objek kustom yang mengevaluasi menjadi False dalam konteks boolean dengan mendefinisikan metode __len__ yang mengembalikan 0."
      ],
      "metadata": {
        "id": "BnF-VdsFjPAM"
      }
    },
    {
      "cell_type": "markdown",
      "source": [
        "## **E. Functions can Return a Boolean**"
      ],
      "metadata": {
        "id": "XKczm89rYNKR"
      }
    },
    {
      "cell_type": "markdown",
      "source": [
        "\n",
        "Anda dapat membuat fungsi yang mengembalikan Nilai Boolean:"
      ],
      "metadata": {
        "id": "va7CPq_wjxSc"
      }
    },
    {
      "cell_type": "code",
      "source": [
        "def myFunction() :\n",
        "  return True\n",
        "\n",
        "print(myFunction())"
      ],
      "metadata": {
        "colab": {
          "base_uri": "https://localhost:8080/"
        },
        "id": "4K5Nx7xij21t",
        "outputId": "cf14b626-3ce8-4390-c1ea-d23f126d2f3c"
      },
      "execution_count": null,
      "outputs": [
        {
          "output_type": "stream",
          "name": "stdout",
          "text": [
            "True\n"
          ]
        }
      ]
    },
    {
      "cell_type": "code",
      "source": [
        "def myFunction() :\n",
        "  return True\n",
        "\n",
        "if myFunction():\n",
        "  print(\"YES!\")\n",
        "else:\n",
        "  print(\"NO!\")"
      ],
      "metadata": {
        "colab": {
          "base_uri": "https://localhost:8080/"
        },
        "id": "qRTIhURXjQF9",
        "outputId": "9389bd09-1801-43a9-9224-bcf060595e7f"
      },
      "execution_count": null,
      "outputs": [
        {
          "output_type": "stream",
          "name": "stdout",
          "text": [
            "YES!\n"
          ]
        }
      ]
    },
    {
      "cell_type": "markdown",
      "source": [
        "Python juga memiliki banyak fungsi bawaan yang mengembalikan nilai boolean, seperti fungsi isinstance(), yang dapat digunakan untuk menentukan apakah suatu objek memiliki tipe data tertentu:"
      ],
      "metadata": {
        "id": "xtw0HFGxkDb1"
      }
    },
    {
      "cell_type": "code",
      "source": [
        "x = 200\n",
        "print(isinstance(x, int))"
      ],
      "metadata": {
        "colab": {
          "base_uri": "https://localhost:8080/"
        },
        "id": "jAk4VPOAkFA0",
        "outputId": "59de498b-7fc0-4b88-f8a9-a4d08cd6b035"
      },
      "execution_count": null,
      "outputs": [
        {
          "output_type": "stream",
          "name": "stdout",
          "text": [
            "True\n"
          ]
        }
      ]
    },
    {
      "cell_type": "markdown",
      "source": [
        "# **9. Python Operators**"
      ],
      "metadata": {
        "id": "rnhVpYrxn8GD"
      }
    },
    {
      "cell_type": "code",
      "source": [
        "print(10 + 5)"
      ],
      "metadata": {
        "colab": {
          "base_uri": "https://localhost:8080/"
        },
        "id": "9MmKtxBmn7NC",
        "outputId": "876f26bc-3a12-44a7-af0b-fe04bb87b6f9"
      },
      "execution_count": null,
      "outputs": [
        {
          "output_type": "stream",
          "name": "stdout",
          "text": [
            "15\n"
          ]
        }
      ]
    },
    {
      "cell_type": "markdown",
      "source": [
        "## **A. Python Arithmetic Operators**"
      ],
      "metadata": {
        "id": "ZLiiiK3uobwj"
      }
    },
    {
      "cell_type": "code",
      "source": [
        "x = 12\n",
        "y = 3\n",
        "\n",
        "print(x + y)\n",
        "print(x - y)\n",
        "print(x * y)\n",
        "print(x / y)\n",
        "print(x % y)\n",
        "print(x ** y) #same as 2*2*2*2*2\n",
        "print(x // y)\n",
        "\n",
        "#the floor division // rounds the result down to the nearest whole number"
      ],
      "metadata": {
        "colab": {
          "base_uri": "https://localhost:8080/"
        },
        "id": "h-qn7c5xoAzb",
        "outputId": "cf3de357-283f-4140-80b0-5e02c758f6b6"
      },
      "execution_count": null,
      "outputs": [
        {
          "output_type": "stream",
          "name": "stdout",
          "text": [
            "15\n",
            "9\n",
            "36\n",
            "4.0\n",
            "0\n",
            "1728\n",
            "4\n"
          ]
        }
      ]
    },
    {
      "cell_type": "markdown",
      "source": [
        "## **B. Python Assignment Operators**"
      ],
      "metadata": {
        "id": "VLDjl-ZJoguK"
      }
    },
    {
      "cell_type": "code",
      "source": [
        "x = 5\n",
        "\n",
        "print(x)\n",
        "# x = 5"
      ],
      "metadata": {
        "colab": {
          "base_uri": "https://localhost:8080/"
        },
        "id": "jQyhkHinoDV7",
        "outputId": "aa2a8410-8565-4e9b-8402-1a814d4d9080"
      },
      "execution_count": null,
      "outputs": [
        {
          "output_type": "stream",
          "name": "stdout",
          "text": [
            "5\n"
          ]
        }
      ]
    },
    {
      "cell_type": "code",
      "source": [
        "x = 5\n",
        "\n",
        "x += 3\n",
        "\n",
        "print(x)\n",
        "# x = x + 3"
      ],
      "metadata": {
        "colab": {
          "base_uri": "https://localhost:8080/"
        },
        "id": "o3Q0kdREqJHB",
        "outputId": "a047f583-825b-4149-c45c-4c6dc0f956d8"
      },
      "execution_count": null,
      "outputs": [
        {
          "output_type": "stream",
          "name": "stdout",
          "text": [
            "8\n"
          ]
        }
      ]
    },
    {
      "cell_type": "code",
      "source": [
        "x = 5\n",
        "\n",
        "x -= 3\n",
        "\n",
        "print(x)\n",
        "# x = x - 3"
      ],
      "metadata": {
        "colab": {
          "base_uri": "https://localhost:8080/"
        },
        "id": "iq000nD5qLMJ",
        "outputId": "ee78dd6d-56af-486e-d1b5-bff0e48353ad"
      },
      "execution_count": null,
      "outputs": [
        {
          "output_type": "stream",
          "name": "stdout",
          "text": [
            "2\n"
          ]
        }
      ]
    },
    {
      "cell_type": "code",
      "source": [
        "x = 5\n",
        "\n",
        "x *= 3\n",
        "\n",
        "print(x)\n",
        "# x = x * 3"
      ],
      "metadata": {
        "colab": {
          "base_uri": "https://localhost:8080/"
        },
        "id": "poTm11ERqa0B",
        "outputId": "9af8e15c-e0cd-4c30-e0bb-7633591d7ca2"
      },
      "execution_count": null,
      "outputs": [
        {
          "output_type": "stream",
          "name": "stdout",
          "text": [
            "15\n"
          ]
        }
      ]
    },
    {
      "cell_type": "code",
      "source": [
        "x = 5\n",
        "\n",
        "x /= 3\n",
        "\n",
        "print(x)\n",
        "# x = x / 3"
      ],
      "metadata": {
        "colab": {
          "base_uri": "https://localhost:8080/"
        },
        "id": "semNEa8Aqc1h",
        "outputId": "969b876f-4873-470f-9453-602dc7022e2f"
      },
      "execution_count": null,
      "outputs": [
        {
          "output_type": "stream",
          "name": "stdout",
          "text": [
            "1.6666666666666667\n"
          ]
        }
      ]
    },
    {
      "cell_type": "code",
      "source": [
        "x = 5\n",
        "\n",
        "x%=3\n",
        "\n",
        "print(x)\n",
        "# x = x % 3"
      ],
      "metadata": {
        "colab": {
          "base_uri": "https://localhost:8080/"
        },
        "id": "KHSB7NAlqecS",
        "outputId": "aec5eab8-c6c0-4bb7-c1fc-b3c536bfb8af"
      },
      "execution_count": null,
      "outputs": [
        {
          "output_type": "stream",
          "name": "stdout",
          "text": [
            "2\n"
          ]
        }
      ]
    },
    {
      "cell_type": "code",
      "source": [
        "x = 5\n",
        "\n",
        "x//=3\n",
        "\n",
        "print(x)\n",
        "# x = x // 3"
      ],
      "metadata": {
        "colab": {
          "base_uri": "https://localhost:8080/"
        },
        "id": "PA0dot8xqfEa",
        "outputId": "8057a13a-f35f-4bca-a065-13d12821b83e"
      },
      "execution_count": null,
      "outputs": [
        {
          "output_type": "stream",
          "name": "stdout",
          "text": [
            "1\n"
          ]
        }
      ]
    },
    {
      "cell_type": "code",
      "source": [
        "x = 5\n",
        "\n",
        "x **= 3\n",
        "\n",
        "print(x)\n",
        "# x = x ** 3"
      ],
      "metadata": {
        "colab": {
          "base_uri": "https://localhost:8080/"
        },
        "id": "HX34n6rbqiMR",
        "outputId": "a2398ab3-7801-4216-e0b2-2afa4dfeb319"
      },
      "execution_count": null,
      "outputs": [
        {
          "output_type": "stream",
          "name": "stdout",
          "text": [
            "125\n"
          ]
        }
      ]
    },
    {
      "cell_type": "code",
      "source": [
        "x = 5\n",
        "\n",
        "x &= 3\n",
        "\n",
        "print(x)\n",
        "# \tx = x & 3"
      ],
      "metadata": {
        "colab": {
          "base_uri": "https://localhost:8080/"
        },
        "id": "ufyFiWVSqqyZ",
        "outputId": "30696f94-ac15-4282-ae3e-f7ab697b38ef"
      },
      "execution_count": null,
      "outputs": [
        {
          "output_type": "stream",
          "name": "stdout",
          "text": [
            "1\n"
          ]
        }
      ]
    },
    {
      "cell_type": "code",
      "source": [
        "x = 5\n",
        "\n",
        "x |= 3\n",
        "\n",
        "print(x)\n",
        "# x = x | 3"
      ],
      "metadata": {
        "colab": {
          "base_uri": "https://localhost:8080/"
        },
        "id": "SJqVEil5qtWB",
        "outputId": "50b042c5-8cde-4c19-a99e-23ba57712ce4"
      },
      "execution_count": null,
      "outputs": [
        {
          "output_type": "stream",
          "name": "stdout",
          "text": [
            "7\n"
          ]
        }
      ]
    },
    {
      "cell_type": "code",
      "source": [
        "x = 5\n",
        "\n",
        "x ^= 3\n",
        "\n",
        "print(x)\n",
        "# x = x ^ 3"
      ],
      "metadata": {
        "colab": {
          "base_uri": "https://localhost:8080/"
        },
        "id": "kRs27P9sqvG5",
        "outputId": "a4dcb048-20e2-46fd-e083-3f03c5977041"
      },
      "execution_count": null,
      "outputs": [
        {
          "output_type": "stream",
          "name": "stdout",
          "text": [
            "6\n"
          ]
        }
      ]
    },
    {
      "cell_type": "code",
      "source": [
        "x = 5\n",
        "\n",
        "x >>= 3\n",
        "\n",
        "print(x)\n",
        "# x = x >> 3"
      ],
      "metadata": {
        "colab": {
          "base_uri": "https://localhost:8080/"
        },
        "id": "mHtUzIaxqyGJ",
        "outputId": "43dae10b-a118-474b-d331-a8463586aedb"
      },
      "execution_count": null,
      "outputs": [
        {
          "output_type": "stream",
          "name": "stdout",
          "text": [
            "0\n"
          ]
        }
      ]
    },
    {
      "cell_type": "code",
      "source": [
        "x = 5\n",
        "\n",
        "x <<= 3\n",
        "\n",
        "print(x)\n",
        "# x = x << 3"
      ],
      "metadata": {
        "colab": {
          "base_uri": "https://localhost:8080/"
        },
        "id": "mBolh9Twq0Hq",
        "outputId": "220d0af8-3920-49f5-9f98-e8e9cfd6f339"
      },
      "execution_count": null,
      "outputs": [
        {
          "output_type": "stream",
          "name": "stdout",
          "text": [
            "40\n"
          ]
        }
      ]
    },
    {
      "cell_type": "code",
      "source": [
        "print(x := 3)\n",
        "\"\"\"\n",
        "x = 3\n",
        "print(x)\n",
        "\"\"\""
      ],
      "metadata": {
        "colab": {
          "base_uri": "https://localhost:8080/",
          "height": 54
        },
        "id": "VuRJIMVFq2Di",
        "outputId": "4dbfcb8f-5747-41aa-e92d-7aaf471e8db4"
      },
      "execution_count": null,
      "outputs": [
        {
          "output_type": "stream",
          "name": "stdout",
          "text": [
            "3\n"
          ]
        },
        {
          "output_type": "execute_result",
          "data": {
            "text/plain": [
              "'\\nx = 3\\nprint(x)\\n'"
            ],
            "application/vnd.google.colaboratory.intrinsic+json": {
              "type": "string"
            }
          },
          "metadata": {},
          "execution_count": 57
        }
      ]
    },
    {
      "cell_type": "markdown",
      "source": [
        "## **C. Python Comparison Operators**"
      ],
      "metadata": {
        "id": "rCzHHiFGsTI5"
      }
    },
    {
      "cell_type": "markdown",
      "source": [
        "![image.png](data:image/png;base64,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)"
      ],
      "metadata": {
        "id": "BEFd3Sskr-JK"
      }
    },
    {
      "cell_type": "code",
      "source": [
        "x = 5\n",
        "y = 3\n",
        "\n",
        "print(x == y)\n",
        "# returns False because 5 is not equal to 3\n",
        "print(x != y)\n",
        "# returns True because 5 is not equal to 3\n",
        "print(x > y)\n",
        "# returns True because 5 is greater than 3\n",
        "print(x < y)\n",
        "# returns False because 5 is not less than 3\n",
        "print(x >= y)\n",
        "# returns True because five is greater, or equal, to 3\n",
        "print(x <= y)\n",
        "# returns False because 5 is neither less than or equal to 3"
      ],
      "metadata": {
        "colab": {
          "base_uri": "https://localhost:8080/"
        },
        "id": "kTNkUKzhsauZ",
        "outputId": "96e0807b-4624-4ba3-a7f2-46ad5b7869c8"
      },
      "execution_count": null,
      "outputs": [
        {
          "output_type": "stream",
          "name": "stdout",
          "text": [
            "False\n",
            "True\n",
            "True\n",
            "False\n",
            "True\n",
            "False\n"
          ]
        }
      ]
    },
    {
      "cell_type": "markdown",
      "source": [
        "## **D. Python Logical Operators**"
      ],
      "metadata": {
        "id": "6LZyF1AEYpr3"
      }
    },
    {
      "cell_type": "markdown",
      "source": [
        "\n",
        "![image.png](data:image/png;base64,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)"
      ],
      "metadata": {
        "id": "Vyr74nJOszYh"
      }
    },
    {
      "cell_type": "code",
      "source": [
        "x = 5\n",
        "\n",
        "print(x > 3 and x < 10)\n",
        "\n",
        "# mengembalikan True karena 5 lebih besar dari 3 DAN 5 lebih kecil dari 10\n",
        "\n",
        "print(x > 3 or x < 4)\n",
        "\n",
        "# mengembalikan True karena salah satu kondisinya benar (5 lebih besar dari 3, tetapi 5 tidak kurang dari 4)\n",
        "\n",
        "print(not(x > 3 and x < 10))\n",
        "\n",
        "# mengembalikan False karena not digunakan untuk membalikkan hasil"
      ],
      "metadata": {
        "colab": {
          "base_uri": "https://localhost:8080/"
        },
        "id": "G1i62u_As4Bg",
        "outputId": "8ec743fb-d5a9-4185-e3af-d0918cac452a"
      },
      "execution_count": null,
      "outputs": [
        {
          "output_type": "stream",
          "name": "stdout",
          "text": [
            "True\n",
            "True\n",
            "False\n"
          ]
        }
      ]
    },
    {
      "cell_type": "markdown",
      "source": [
        "## **E. Python Identity Operators**"
      ],
      "metadata": {
        "id": "Ita22ewRYulw"
      }
    },
    {
      "cell_type": "markdown",
      "source": [
        "\n",
        "![image.png](data:image/png;base64,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)"
      ],
      "metadata": {
        "id": "k-yhXIEAtj4R"
      }
    },
    {
      "cell_type": "code",
      "source": [
        "x = [\"apple\", \"banana\"]\n",
        "y = [\"apple\", \"banana\"]\n",
        "z = x\n",
        "\n",
        "print(x is z)\n",
        "# mengembalikan True karena z adalah objek yang sama dengan x\n",
        "print(x is y)\n",
        "# mengembalikan False karena x bukan objek yang sama dengan y, meskipun keduanya memiliki konten yang sama\n",
        "print(x == y)\n",
        "# untuk menunjukkan perbedaan antara \"is\" dan \"==\": perbandingan ini mengembalikan True karena x sama dengan y\n",
        "print(x is not z)\n",
        "# mengembalikan False karena z adalah objek yang sama dengan x\n",
        "print(x is not y)\n",
        "# mengembalikan True karena x bukan objek yang sama dengan y, meskipun keduanya memiliki konten yang sama\n",
        "print(x != y)\n",
        "# untuk menunjukkan perbedaan antara \"bukan\" dan \"!=\": perbandingan ini mengembalikan False karena x sama dengan y"
      ],
      "metadata": {
        "colab": {
          "base_uri": "https://localhost:8080/"
        },
        "id": "49LrV4w_toY4",
        "outputId": "4cc5d2e2-a744-4f54-fba2-e6c91e3b9b38"
      },
      "execution_count": null,
      "outputs": [
        {
          "output_type": "stream",
          "name": "stdout",
          "text": [
            "True\n",
            "False\n",
            "True\n",
            "False\n",
            "True\n",
            "False\n"
          ]
        }
      ]
    },
    {
      "cell_type": "markdown",
      "source": [
        "## **F. Python Membership Operators**"
      ],
      "metadata": {
        "id": "TQzI4rB0Y4Cw"
      }
    },
    {
      "cell_type": "markdown",
      "source": [
        "\n",
        "![image.png](data:image/png;base64,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)"
      ],
      "metadata": {
        "id": "_fwNmCYeuXVP"
      }
    },
    {
      "cell_type": "code",
      "source": [
        "x = [\"apple\", \"banana\"]\n",
        "\n",
        "print(\"banana\" in x)\n",
        "# mengembalikan True karena urutan dengan nilai \"pisang\" ada dalam list\n",
        "print(\"pineapple\" not in x)\n",
        "# mengembalikan True karena urutan dengan nilai \"nanas\" tidak ada dalam list"
      ],
      "metadata": {
        "colab": {
          "base_uri": "https://localhost:8080/"
        },
        "id": "mq1OJR8fuauY",
        "outputId": "332e993f-2498-47bf-f307-20b512f93125"
      },
      "execution_count": null,
      "outputs": [
        {
          "output_type": "stream",
          "name": "stdout",
          "text": [
            "True\n",
            "True\n"
          ]
        }
      ]
    },
    {
      "cell_type": "markdown",
      "source": [
        "## **G. Python Bitwise Operators**"
      ],
      "metadata": {
        "id": "48sQOEvoY94h"
      }
    },
    {
      "cell_type": "markdown",
      "source": [
        "\n",
        "![image.png](data:image/png;base64,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)"
      ],
      "metadata": {
        "id": "AKUts1S0u76f"
      }
    },
    {
      "cell_type": "markdown",
      "source": [
        "Menetapkan setiap bit menjadi 1 jika kedua bit adalah 1\n",
        "Menetapkan setiap bit menjadi 1 jika salah satu dari dua bit adalah 1\n",
        "Menetapkan setiap bit menjadi 1 jika hanya satu dari dua bit adalah 1  \n",
        "Membalikkan semua bit\n",
        "Zero fill left shift Geser ke kiri dengan mendorong nol dari kanan dan membiarkan bit paling kiri jatuh\n",
        "Signed right shift Geser ke kanan dengan mendorong salinan bit paling kiri dari kiri, dan membiarkan bit paling kanan jatuh"
      ],
      "metadata": {
        "id": "D7TtNhEGvUuP"
      }
    },
    {
      "cell_type": "code",
      "source": [
        "print(6 & 3)\n",
        "\n",
        "\"\"\"\n",
        "Operator & membandingkan setiap bit dan menetapkannya ke 1 jika keduanya bernilai 1, jika tidak maka ditetapkan ke 0:\n",
        "\n",
        "6 = 0000000000000110\n",
        "3 = 0000000000000011\n",
        "--------------------\n",
        "2 = 0000000000000010\n",
        "====================\n",
        "\n",
        "Angka desimal dan nilai binernya:\n",
        "0 = 0000000000000000\n",
        "1 = 0000000000000001\n",
        "2 = 0000000000000010\n",
        "3 = 0000000000000011\n",
        "4 = 0000000000000100\n",
        "5 = 0000000000000101\n",
        "6 = 0000000000000110\n",
        "7 = 0000000000000111\n",
        "\"\"\""
      ],
      "metadata": {
        "colab": {
          "base_uri": "https://localhost:8080/",
          "height": 127
        },
        "id": "V1QO118EvAoA",
        "outputId": "b7d02703-e69d-46df-eb0f-2a94b9dae773"
      },
      "execution_count": null,
      "outputs": [
        {
          "output_type": "stream",
          "name": "stdout",
          "text": [
            "2\n"
          ]
        },
        {
          "output_type": "execute_result",
          "data": {
            "text/plain": [
              "'\\nOperator & membandingkan setiap bit dan menetapkannya ke 1 jika keduanya bernilai 1, jika tidak maka ditetapkan ke 0:\\n\\n6 = 0000000000000110\\n3 = 0000000000000011\\n--------------------\\n2 = 0000000000000010\\n====================\\n\\nAngka desimal dan nilai binernya:\\n0 = 0000000000000000\\n1 = 0000000000000001\\n2 = 0000000000000010\\n3 = 0000000000000011\\n4 = 0000000000000100\\n5 = 0000000000000101\\n6 = 0000000000000110\\n7 = 0000000000000111\\n'"
            ],
            "application/vnd.google.colaboratory.intrinsic+json": {
              "type": "string"
            }
          },
          "metadata": {},
          "execution_count": 65
        }
      ]
    },
    {
      "cell_type": "markdown",
      "source": [
        "Kode ini mendemonstrasikan penggunaan operator Bitwise AND (&) dalam Python.\n",
        "\n",
        "print(6 & 3): Baris ini menggunakan operator Bitwise AND (&) pada dua angka, 6 dan 3, kemudian mencetak hasilnya.\n",
        "Bagaimana Operator Bitwise AND Bekerja?\n",
        "\n",
        "Operator Bitwise AND membandingkan setiap bit (digit biner, 0 atau 1) dari dua angka pada posisi yang sama. Jika kedua bit pada posisi yang sama adalah 1, maka bit hasilnya pada posisi tersebut adalah 1. Jika salah satu atau kedua bit adalah 0, maka bit hasilnya adalah 0.\n",
        "\n",
        "Mari kita lihat representasi biner dari angka 6 dan 3:\n",
        "\n",
        "Angka 6 dalam biner (dengan 8 bit untuk contoh): 0000 0110\n",
        "Angka 3 dalam biner (dengan 8 bit untuk contoh): 0000 0011\n",
        "Sekarang, kita bandingkan bit per bit dari kanan ke kiri:\n",
        "\n",
        "Bit paling kanan: 0 (dari 6) & 1 (dari 3) = 0\n",
        "Bit kedua dari kanan: 1 (dari 6) & 1 (dari 3) = 1\n",
        "Bit ketiga dari kanan: 1 (dari 6) & 0 (dari 3) = 0\n",
        "Bit keempat dari kanan: 0 (dari 6) & 0 (dari 3) = 0\n",
        "Dan seterusnya, semua bit di sebelah kiri adalah 0 & 0 = 0.\n",
        "Jadi, hasil dalam biner adalah 0000 0010.\n",
        "\n",
        "Hasil Desimal\n",
        "\n",
        "Representasi biner 0000 0010 setara dengan angka desimal 2.\n",
        "\n",
        "Oleh karena itu, output dari print(6 & 3) adalah 2."
      ],
      "metadata": {
        "id": "DcUvOlxiwOxn"
      }
    },
    {
      "cell_type": "code",
      "source": [
        "print(6 | 3)\n",
        "\n",
        "\n",
        "\n",
        "\"\"\"\n",
        "The | operator compares each bit and set it to 1 if one or both is 1, otherwise it is set to 0:\n",
        "\n",
        "6 = 0000000000000110\n",
        "3 = 0000000000000011\n",
        "--------------------\n",
        "7 = 0000000000000111\n",
        "====================\n",
        "\"\"\""
      ],
      "metadata": {
        "colab": {
          "base_uri": "https://localhost:8080/",
          "height": 72
        },
        "id": "UDuzmUVVwiiO",
        "outputId": "8e3955f5-15bf-41e4-c0c1-4fd82f39e635"
      },
      "execution_count": null,
      "outputs": [
        {
          "output_type": "stream",
          "name": "stdout",
          "text": [
            "7\n"
          ]
        },
        {
          "output_type": "execute_result",
          "data": {
            "text/plain": [
              "'\\nThe | operator compares each bit and set it to 1 if one or both is 1, otherwise it is set to 0:\\n\\n6 = 0000000000000110\\n3 = 0000000000000011\\n--------------------\\n7 = 0000000000000111\\n====================\\n'"
            ],
            "application/vnd.google.colaboratory.intrinsic+json": {
              "type": "string"
            }
          },
          "metadata": {},
          "execution_count": 66
        }
      ]
    },
    {
      "cell_type": "code",
      "source": [
        "print(6 ^ 3)\n",
        "\n",
        "\n",
        "\n",
        "\"\"\"\n",
        "The ^ operator compares each bit and set it to 1 if only one is 1, otherwise (if both are 1 or both are 0) it is set to 0:\n",
        "\n",
        "6 = 0000000000000110\n",
        "3 = 0000000000000011\n",
        "--------------------\n",
        "5 = 0000000000000101\n",
        "====================\n",
        "\"\"\""
      ],
      "metadata": {
        "colab": {
          "base_uri": "https://localhost:8080/",
          "height": 90
        },
        "id": "3K5IuYrvwl6_",
        "outputId": "8d54ec84-def9-4ff1-955d-124cd9a858b4"
      },
      "execution_count": null,
      "outputs": [
        {
          "output_type": "stream",
          "name": "stdout",
          "text": [
            "5\n"
          ]
        },
        {
          "output_type": "execute_result",
          "data": {
            "text/plain": [
              "'\\nThe ^ operator compares each bit and set it to 1 if only one is 1, otherwise (if both are 1 or both are 0) it is set to 0:\\n\\n6 = 0000000000000110\\n3 = 0000000000000011\\n--------------------\\n5 = 0000000000000101\\n====================\\n'"
            ],
            "application/vnd.google.colaboratory.intrinsic+json": {
              "type": "string"
            }
          },
          "metadata": {},
          "execution_count": 67
        }
      ]
    },
    {
      "cell_type": "code",
      "source": [
        "print(~3)\n",
        "\n",
        "\n",
        "\n",
        "\"\"\"\n",
        "The ~ operator inverts each bit (0 becomes 1 and 1 becomes 0).\n",
        "\n",
        "Inverted 3 becomes -4:\n",
        " 3 = 0000000000000011\n",
        "-4 = 1111111111111100\n",
        "\n",
        "Decimal numbers and their binary values:\n",
        " 4 = 0000000000000100\n",
        " 3 = 0000000000000011\n",
        " 2 = 0000000000000010\n",
        " 1 = 0000000000000001\n",
        " 0 = 0000000000000000\n",
        "-1 = 1111111111111111\n",
        "-2 = 1111111111111110\n",
        "-3 = 1111111111111101\n",
        "-4 = 1111111111111100\n",
        "\"\"\""
      ],
      "metadata": {
        "colab": {
          "base_uri": "https://localhost:8080/",
          "height": 109
        },
        "id": "ZY69vIxRwuz3",
        "outputId": "566fff2e-08c4-4686-ac31-d7a11d73b0d9"
      },
      "execution_count": null,
      "outputs": [
        {
          "output_type": "stream",
          "name": "stdout",
          "text": [
            "-4\n"
          ]
        },
        {
          "output_type": "execute_result",
          "data": {
            "text/plain": [
              "'\\nThe ~ operator inverts each bit (0 becomes 1 and 1 becomes 0).\\n\\nInverted 3 becomes -4:\\n 3 = 0000000000000011\\n-4 = 1111111111111100\\n\\nDecimal numbers and their binary values:\\n 4 = 0000000000000100\\n 3 = 0000000000000011\\n 2 = 0000000000000010\\n 1 = 0000000000000001\\n 0 = 0000000000000000\\n-1 = 1111111111111111\\n-2 = 1111111111111110\\n-3 = 1111111111111101\\n-4 = 1111111111111100\\n'"
            ],
            "application/vnd.google.colaboratory.intrinsic+json": {
              "type": "string"
            }
          },
          "metadata": {},
          "execution_count": 68
        }
      ]
    },
    {
      "cell_type": "code",
      "source": [
        "print(3 << 2)\n",
        "\n",
        "\n",
        "\n",
        "\"\"\"\n",
        "The << operator inserts the specified number of 0's (in this case 2) from the right and let the same amount of leftmost bits fall off:\n",
        "\n",
        "If you push 00 in from the left:\n",
        " 3 = 0000000000000011\n",
        "becomes\n",
        "12 = 0000000000001100\n",
        "\n",
        "Decimal numbers and their binary values:\n",
        " 0 = 0000000000000000\n",
        " 1 = 0000000000000001\n",
        " 2 = 0000000000000010\n",
        " 3 = 0000000000000011\n",
        " 4 = 0000000000000100\n",
        " 5 = 0000000000000101\n",
        " 6 = 0000000000000110\n",
        " 7 = 0000000000000111\n",
        " 8 = 0000000000001000\n",
        " 9 = 0000000000001001\n",
        "10 = 0000000000001010\n",
        "11 = 0000000000001011\n",
        "12 = 0000000000001100\n",
        "\"\"\"\n"
      ],
      "metadata": {
        "colab": {
          "base_uri": "https://localhost:8080/",
          "height": 146
        },
        "id": "jUVEVtYewvon",
        "outputId": "f1e8203f-15de-45f1-ddde-b82d631800d5"
      },
      "execution_count": null,
      "outputs": [
        {
          "output_type": "stream",
          "name": "stdout",
          "text": [
            "12\n"
          ]
        },
        {
          "output_type": "execute_result",
          "data": {
            "text/plain": [
              "\"\\nThe << operator inserts the specified number of 0's (in this case 2) from the right and let the same amount of leftmost bits fall off:\\n\\nIf you push 00 in from the left:\\n 3 = 0000000000000011\\nbecomes\\n12 = 0000000000001100\\n\\nDecimal numbers and their binary values:\\n 0 = 0000000000000000\\n 1 = 0000000000000001\\n 2 = 0000000000000010\\n 3 = 0000000000000011\\n 4 = 0000000000000100\\n 5 = 0000000000000101\\n 6 = 0000000000000110\\n 7 = 0000000000000111\\n 8 = 0000000000001000\\n 9 = 0000000000001001\\n10 = 0000000000001010\\n11 = 0000000000001011\\n12 = 0000000000001100\\n\""
            ],
            "application/vnd.google.colaboratory.intrinsic+json": {
              "type": "string"
            }
          },
          "metadata": {},
          "execution_count": 69
        }
      ]
    },
    {
      "cell_type": "code",
      "source": [
        "print(8 >> 2)\n",
        "\n",
        "\n",
        "\n",
        "\"\"\"\n",
        "The >> operator moves each bit the specified number of times to the right. Empty holes at the left are filled with 0's.\n",
        "\n",
        "If you move each bit 2 times to the right, 8 becomes 2:\n",
        " 8 = 0000000000001000\n",
        "becomes\n",
        " 2 = 0000000000000010\n",
        "\n",
        "Decimal numbers and their binary values:\n",
        " 0 = 0000000000000000\n",
        " 1 = 0000000000000001\n",
        " 2 = 0000000000000010\n",
        " 3 = 0000000000000011\n",
        " 4 = 0000000000000100\n",
        " 5 = 0000000000000101\n",
        " 6 = 0000000000000110\n",
        " 7 = 0000000000000111\n",
        " 8 = 0000000000001000\n",
        " 9 = 0000000000001001\n",
        "10 = 0000000000001010\n",
        "11 = 0000000000001011\n",
        "12 = 0000000000001100\n",
        "\"\"\"\n"
      ],
      "metadata": {
        "colab": {
          "base_uri": "https://localhost:8080/",
          "height": 146
        },
        "id": "cZJxQhP1wxwX",
        "outputId": "cffcd44f-0383-4941-e38f-95c8ff395483"
      },
      "execution_count": null,
      "outputs": [
        {
          "output_type": "stream",
          "name": "stdout",
          "text": [
            "2\n"
          ]
        },
        {
          "output_type": "execute_result",
          "data": {
            "text/plain": [
              "\"\\nThe >> operator moves each bit the specified number of times to the right. Empty holes at the left are filled with 0's.\\n\\nIf you move each bit 2 times to the right, 8 becomes 2:\\n 8 = 0000000000001000\\nbecomes\\n 2 = 0000000000000010\\n\\nDecimal numbers and their binary values:\\n 0 = 0000000000000000\\n 1 = 0000000000000001\\n 2 = 0000000000000010\\n 3 = 0000000000000011\\n 4 = 0000000000000100\\n 5 = 0000000000000101\\n 6 = 0000000000000110\\n 7 = 0000000000000111\\n 8 = 0000000000001000\\n 9 = 0000000000001001\\n10 = 0000000000001010\\n11 = 0000000000001011\\n12 = 0000000000001100\\n\""
            ],
            "application/vnd.google.colaboratory.intrinsic+json": {
              "type": "string"
            }
          },
          "metadata": {},
          "execution_count": 70
        }
      ]
    },
    {
      "cell_type": "markdown",
      "source": [
        "## **H. Operator Precedence**"
      ],
      "metadata": {
        "id": "hgCvbujmw6oH"
      }
    },
    {
      "cell_type": "markdown",
      "source": [
        "![image.png](data:image/png;base64,iVBORw0KGgoAAAANSUhEUgAAAhUAAAHgCAYAAAASU59JAAAAAXNSR0IArs4c6QAAAARnQU1BAACxjwv8YQUAAAAJcEhZcwAADsMAAA7DAcdvqGQAAE4zSURBVHhe7d1tbFTX3e/9X+5XBTvUgGvkCzjBPrFLIKQGBLKAqnEuI6QCcpoGkcPDCxoIQigC1EQJCsktNUQkSiNAEUIEKC94OEG0aaxAJRQXUwUii8jAFQKhJscmF1AOjgGX2CTv7nutvdee2TOeMTPMtvHD9yNt2E+zn2bPrP/6r7XHD1VWz///BAAAkKOHxk6YRlABAABy9v+4/wEAAHJCUAEAACJBUAEAACJBUAEAACJBUAEAACJBUAEAACJBUAEAACJBUAEAACJBUAEAACJx37+ouWrrh1pY6iasO2e0cfE7qnOTve6pV3R43WTlq0UH56/XdjcbeHCWaOcn81TmpgIdp97XvDdPuqletHyTjteUZPxZDT7j4eNNNQ8AAveRqZipt/fbL5ZONWx+Tk/ON8PmM+oYNlkb9r+iarcWgIANdP3PysZTncqf/qKOP4jPyq71/uc1h+B/+xr/PAgoAKSSfaYiqO00H9aTa/a5mV1rMLHpO+ZLdFiev1LCa2xw8qIqh7lJ41Ltc1qxy4wEWQdTo2pom6xKL4B5Xt/W+NuM8+e/eixFjTDYVyyD4YRqadWv79aG6XnmmM/o+vTJKnvQ2RYMMMF9mZg9Cz4bsfu9u8+CEawfE7pPuyzz7nvF9ttwqkiV5h73ttcc/1zZ1yu4/8Of0aRlcf5nrW5m8JkJMhXJxx58Ju14/PyD47DIcgADV9aZiuriIu//jrYW7//ApbZO7//8QhNwhF38k6nZvK+GO2a8dJ52Lrczgy+ioAZ3WJfM3LKaTVplFweG2YDCjRtBLckbau3+81T5vK3x7dMKmy3x1nLbDAcU9osyeI3NqGxd4q0ZyLcBhRsHelrwWSkunmn+7f6zYANfLzg3BXHs3k8KKBKWhQJ9qSRWkHcnv63ee+3BZjNhPh9rX5+pujef96cNf/tBoBAWHHuQtbTHbj6T65I+x+Y4Hpf5HnCf0fzp85KWAxgoeryj5vXrtkZyUnUXQ1+kT83S417NpkQLP/lQx2NZhiI98pQ34guCgeALzQYJ3vpmsNmSe6ieWe5nKNqu+dmHXee9L2yVTkz4Uot9KZOlQG/L8LPgNZnY5bGAeImmeAF3p746ma7WH292CbIeqQQVhO3n/P+7VAzSiR17q771Ao59Ou0FIiWa4lUeAi06YjMTx67pupsDYGDKOqiou97q/Z/8xVNW6FKbSRmM7sW/9PwhVW0osEQ7vWYMVyuKZSbuLbtjAnpW8FnxA+5A6s+CzRj4WTmndJ4JLpIzAQ/YnXY/WAcw6GWfqdh1OKkpw3jqFc31ak2uRtLFTFWPt1+krlZ17IS+stswNZq5r9sUsG/V1t16O5ypCHtqtIq9kaBWlCRFLajuZJOfbh0/y+8Ut3yiXwtsPs/TIXggguYM2/fByx5k8lkIOli6phFfkBXI0+Mz46/LxapJfkXh0jm/CSVopkkrOPZh5ar2jjXInrTodDeZEQAD1300f5zUq4v99teyGtcUEeu30PVRTn8dvyPXpdogE2G34feziKV1zZDQ4SzZsXd0xKVWvTRxuPOlJ5569ZbbNLF5zbzgyRQ7L3icLqHdGehpQdPGh7FOjvG+D91/Fmy/iWCe3zRiM3X+58z2MbKfw/Dr4s0jmQteH/TPCJpKYkG5tzxVwB8cu+1H0fX4AAw+9/07FffStYc7gL4k/vQTT2MAiEaPd9QEAACDQ49lKgAAwOBCpgIAAESCoAIAAESCoAIAAESCoAIAAESCoAIAAESCoAIAAESCoAIAAESCoAIAAETiocrq+fz4FQAAyBmZCgAAEAmCCgAAEAmCCgAAEAmCCgAAEAmCCgAAEAmCCgAAEAmCCgAAEImsf6dieMFP3Vjubrf/240BAID+jkwFAACIRHRBRcGjOvTLR/WMm5SKtWP2JK1xUwAevEUbtmjn6qluCgCiFVFQYQKIacP1zblv9JGbI13Xyq+lOQmBBjCY1OitHVu0PzS8tcAt6g2VL2jnjpe0yE0CQE+LJKhYM/VRjbh6Uevb3YzA1XM6erdY/+uxh90MYLD5QWf3rNXilWbYc0FF1Zv0cqVbBAADTAQdNW0zR6EufHpOW92cBLZZZJL0vz8LZzF8dNTEwGYzFZVq37Ne7zbY6al6+b2lKmhYq9f0kvZXj/HWsu5+uVcrtjV647aJokpXpbFjNNQLSszr9YJ2Lptgpi03z27TZiOWDVPrlTEaN9ZbqMt1ZvuH/H1V5Pvz1HFB237/gcYlbDs+/3NvJX/fc912dKVeizfWeqMJ88Ov8faf4rjcucb2H9oWgIEr90zFmEKNvdWWOqCw2jt16yfDNa3ATQODVeVUlef/oPYrZvzQH/3shTfUq/WJZxMyGEOH39Eeb5ktpE1wsqxETbGMR4vKF7ygGW5d8yGU/umW1V3VOFPQz1Cj3j10QXdNAHHEzg8FDvFt79VZTdBc1yQzY/UmzZUp/L1la3XEhB9ec82ClzR3uAkk3PxtzdI47xXpj2vG6mdVcTu0rdujQscLYKDqhac/OnTrRzcKDDpDVLHM9anwCuBwTT7oa1HlCum4u82NsSBAlaNUlLCdCRqaPyz0mqs6f8iNXrljAonuxbfdqGu3vRHPuOFDpLFV7pj8zERR0VR/m/kTtNr1z/h82wc6YF/QzXF93nrT39Z7fpBxwLwmdj4ABqxeCCryNeInP+r/Jve3AAaFUJ8KL+vgz120YWmoJl+vy/7sbriMQ2z4o1+wR8w2w8T3sdZvkmn4QCu86Uua6AUc4X4haY4ryMSYYGeZ9xo6jAKDQe5BxdU2XRlRmP7R0YI8jfjxB9mML4C4u7ev+iNejb8bDTfUqjGqCj0Kumh1uPkjGpdv/6ChT1TFC//KF/TyAr9ZxH9qpVav2SaTjiEqsP0rujmuRRtc4OEFJDZoGqnRdFAFBrwIMhXXdeFWgWalecJjzf8sltpudOmkCQxmB+ouSE8s9ZsNFpS4uemYwnxPaH0zzB1+497NCaZAr78yRnPta1wzRHc+37ZeR4L17bDMHJepDXze2KKiajdvh59hec1rbkl/XAf+eTPeLLKjSkVf/jmWpQEwcEX0M932CZAxuvXFF4mPlY6ZpL+V/KBdKZ78sHj6AwCAgSOiPhXXtfKL23p0UtIvaj4mHU0TUAAAgIGFPygGAAAikXVQAQAAkEovPFIKAAAGA4IKAAAQCYIKAAAQCYIKAAAQCYIKAAAQCYIKAAAQCYIKAAAQCYIKAAAQCYIKAAAQCYIKAAAQCYIKAAAQiYfGTpjG3/4AAAA5I1MBAAAiQVABAAAiQVABAAAiQVABAAAiQVABAAAiQVABAAAikfUjpYUjR7ix3LXdvOXGAABAf0emAgAARIKgAkAWlmjnJ5u0yk1lY9XWD7VzuZsAMCBF0/xRPkv/KLigX51Kbs4YoR2/maBrfz2hP7g5YTR/YGCzBfA8lbmpwKXa57Ril5vo46pf360NhfV6cs0+NydDT72iw+sKdGT+em13swAMfLllKn5WoX8smaMd6tDF9gL9Zckz+ku5v+iN2c/o9OwCXbvWIU2fo9O/qdBSfxEwiHSqYfNzenJ+fOgvAQUAZCuCTIXNRjypaXmt+nhfUkaifJZOTy/S903HU2QxyFRgoLOZiird3Py8Xj3mZjleBmB6qw66mnzCtKvlX28uUVmpv35CdmP5Jh2vKfHH75zRxsXvqM6M+lmFVl0qNa/zFrbEtu8Jvy60zDZLzDXTMq/Lt4uCbXrHMdmfZ3Scel/z3iwx5zRRp73XztTb+19U5TC3QmybSfPd9srMfqacC84jcZ34+fnXTM0y557nLfP3e9IbB9C3RZCpmCadb9YXp/6lXyRnKh75lz5uatbfNY1MBQapPFWu+1DHP4kPtl9B3ZvPa+OpIi3cusRrKlgbCjB8pvA3BbCX3ahtUVmN68dgC/qaolj2Y+PFcm2w2wiYIOS0y4gcNEHJ3Ndn+vO918nsI9im/H07+YXt2uIte18NmqyFtu/DsXe05VSnKeAPe6/pWrCf1KuL3fbMEDsfO3/3GXV4QYZZ5oKesFVbTUDR5m/3yfmHpZrdevspt9Bcs+K2P/nLNp+Rps+7rz4cAHpfbkHFd2f1q31HtdLUZcYXtOu3+z7Sb5v8RX/49CNN+bRdo0ebes6po5ry17Pa6y8CBpH0zR82sDioeTq+rlxfbQ4HFFaLTgeZiV3ndUlFesQWuqUFym+uj2U+6k42qaN0YrzQbT4f286lNhMQBOzrTKCyMAhubMaicLSq3eKOiydcwX9S37Z5I5mx2Q+3zQ3T/czCvc3UI4XmutQG/TT26XRznh6f6QIgc82+OukCmGPXdN0fA9APRPP0R9OJlM0b0i2tTNNJE0AgTyNdM0ePss0QoeAmVQYhK8lZE5vVADCo8Ugp8IDYPhALddhL8RcHzRspVL9epbI7Taqz2YnmdnWUVsWaCqpnlis/lJ1Iy75umGvW8MzU26+Hmk3uW6u+dVmTssJMMxU2G5Knyppg/0s0pTSUnQDQbxFUAD0qdZ+KWMdM+6im13ehSAsTfv8h3lThrRdkFcy682pbY9vcML5JGzN53NN7ne2bERzHi3rcds68h7o363WpdJ73msNB/4yA2eaR5vhxzi0MZSrCy/a/EmtmCWxf874aCv3tHv9knlTbtTMrgP6Hn+kG+hrvqQt+4wFA/0OmAgAARIJMBQAAiETWQQUAAEAqNH8AAIBIEFQAAIBIEFQAAIBIEFQAAIBIEFQAAIBIEFQAAIBIEFQAAIBIEFQAAIBIEFQAAIBIEFQAAIBIEFQAAIBIPFRZPZ+//QEAAHJGpgIAAESCoAIAAESCoAIAAESCoAIAAESCoAIAAESCoAIAAESCoAIAAEQi69+pGF7wUzeWu9vt/3ZjqQ3UfQEAMBCRqQAAAJEgqAAQM2P1Ju1cPdVNIVGN3trxkha5qX5pwUva/94LmuEmE9nz26SXK91kggjOvfIF7Uy7bwwUNH84NH8gevaLuEznV/5RB9wcf16l2ves17sNblYfYoOKZfqzVmxrdHMwoNigovKOtv3+A33uZsVlem/2jXt40YYtmjtWuly3Vq8dis+rur034f4N1vP9oLPuuBPnh8XXQfbIVAAA+qW7V66qqDJ99sMLHFSvxSvX+sOeFpUv26K3FkgHNrp5K+t12QskgmkCilxEk6kYM0l/G9WmXzdedzOKtWP2oxpx9awWfP29VPCoDk0r1q2vP9PKq24VI5rsQS/uy57nYz/Rf33xhda3S888Nk3Lx/yoo5+e01a3ikWmAr57Zyq8mpXMjTp2jIbaxR0XYrVImzVY/cQQO9cTr5H529AVadxYs9y85sztCfp5uIbWTY3U2+7wm7ps9jnOm3NVR9wxhjMVyVmLxFrgVL383lJV5HuLzLGYL+6NtW4ivW63adPjy4ap9Yo5LleDTDznKne8RvJ1Cp3P5bp6qTqxJp147GH+tSzqGKKh7lwu1+1Ve2VwbuFaa/j9THoPjLtfxrdv9zfxn8Gx+9eqoMFN2/emeoxdYGReK/bOM5P7wQgfi39dJ/j3lxW6dom6Xov4duLnLnNu8Rq+vXfqNfq9Z6VD/nn470eDfz+497TeXjM7bgrzPd6+u7l/Eq5P/N5MFryn9cOXxq51qvvJ27d7jZVwfB7/vPtq9rC/6aFMxXWt/PQb3RozTmvM1Jr/2bWQj04v7uvqOf366x/1C7MPG8zMSRFQANkaOvyO9ng1pL06qwmaa754rc+3rXc1JzPsuaCi6nCb9hAV3f6zv8x8Sf+x7oJUOjVWY1v08zG63JCq4HBMoXDebfuIKcTnbqhxCzIzY/WzqrgdrwEeuT0qorZyU5iYAsLbbt1VjTMFg7/dWr3m9uXvb4KWhft+hM7ntUO1OvKlVD41WF6jiWOvqr5LQBEYolZT4Mf2WW0LSLefK0NC20kWeg/M+6MnqjLoc2AKsOqR8VqxqTnbY89ExvdDwrGY/ZmAotUEIN4yc37dC10LbzvPduljcWBjuGZvC+xGXbsdXKepmllqApuxZf7+xw7T0CuXugQFae8fGwhUywQS7hjqdM9784C591NmK+y+O+6YY030eetNU4uM6n5FspyCijVTf6m/zTbDYwXSiEf98dmTvMLdK+y/luaYeXP0TSSFfGx/dvjlo3rGzY96X/H9uHOxGYqpNpAwTGBxVPZcH5W+JqBA7u42N7rC3345eyOOrUFt0X47hGuanh/U1BgqJBsa1RQEJOYLtsoUoue9WmwaoS/6A/80H5gsv2S9L+axVbFOfwe2dRPAZCV03Ffu6K4btWwN07sWZujSFp5UcH3eaAprV7DOWF2pcSkKtrgf1G5q+TEdLTrpaqyXb/9ggr6g1pws9B403FCrP3YPV9XeMUQVLgUvE/i92937lCDD+yF8LJWjVNRxQUcy3kfoWth7yhxrQQZBj72HvOtUOVXlJliwgepEc34zikbq8j+7ZrDS3j82EDCB5dzgPG3G4l73prmG9SbIDIJxPFg5BRVbGz/Trz81w9ft0q1v/PGkmnvnrXZ1uvFcxfZnh8++0UdufiCSfRU8qllDr2uX2ceuqz/xAhWvyeP/BE071o+6cutHNw50Z6RGJ9X0pJu6ds80q00PV6noy72xWmO4gO2qUe82mFr2z2s0Y2qJ9GV9N4VoBA790T8uU1gt8wqAHn4qYsFLWv3EzVgN9kg4CEjFFjRewWZrztLZuns3zfQO8z793j+H8z/3C87MnrbJ9n7oZYcu6bIp/BeZe6/VBBE2yBj38xe8a58QsAW6u39s84x7n70hZVNNoiBbMdpNe2xQmj8s3mTm2EBHt29EFAQjWc911LR9Gx6TTjSe0wlTsz/02MNuQQ+Icl/t32iBC1g++voLF8T4fSgs249ijqltrGw0tTszvqnAnw90VavzSelzr9acIiWbTmurq316Nbh7OFSvs8OrvMI3fao/mSmsKseEsiWJ4rV024TgRo1FG9yjh6bwXuF1dAuCJ1v4dV9QptvmPcWu21SNHu6NdMsraKqXquJ2wwNpKy8qctfA1t6DvgM2ve/S+baj4LYvQ5kQ25fgHsFZVveDZbMW+SWa6QJbr0DN1IIqVeTfI+MVc1XtNlNm7j1vfRtkjJ2gCsWzPmFp7x8vEAhnHcz9tDqDpjmXragI308usExoPjHXf9kTQ1JmTxCNaIIK29cg1knTKtYOr7Okn7XY2mj7PFT0UGDRi/saM8nvmOmdq21y+VG/mEZggfQObNyrptKlfirXDF5tO4OaVyzzUO2/bn/lyAxqpo062fxDl6aAlGzq2TsmW+jWp+jAaNvwG0zBEKxXZrbrFhgH/nnTS+H7y2wN+s9+we0VoOn7L3S3zW7ZgMkUWqu91z2rcje7W176Xg+kALEBjZ5w7/uCYWo1x+Gxx2QCP//83f3gOgzafjB302aY7ud+sGr1Wl38vVpW6man5TfNePvw+n6k6iTp91nx1wuCoOR7zwbU5r80GYG0948NMrx+LcGypea9zqw9217z5GtiA7cjil/v/ctK1LQn6OCKnsDvVDi9uS+gZ9gsQbwXfjpde79HyNa2f36pZ7adLZsVMDVe/2mDvi6z9w7o63qu+QNAr/J71D+YVH8gXce83mcK6QUT1Gpqvv2j7XyMCtI0FQD9CZkKh0wFAAC5yTqoAAAASIXmDwAAEAmCCgAAEAmCCgAAEAmCCgAAEAmCCgAAEAmCCgAAEAmCCgAAEAmCCgAAEAmCCgAAEAmCCgAAEAmCCgAAEImHxk6Yxt/+AAAAOSNTAQAAIkFQAQAAIkFQAQAAIkFQAQAAIkFQAQAAIkFQAQAAIpH1I6WFI0e4scy03bzlxlLLdntWT2wznaj3da/tAQDQX5GpAAAAkSCoAPqw6td36/DrM91UsiXa+ckmrXJT3Vm19UPtXN51PArdH2NPmKm398fPIdP9Z3LeUV+b1Oz79qGOm8Eed+/sM5G9Zse3LvEnnnpFh/e/omp/Kq1MrnPv3wv3y74Hu/X2U26yNyzfpOMZXGfrQdwTUYkmqCifpX9Mj67JIeZnFfrHbyq01E3mrlR/WTJLb7ipsKXT5+R8Dm/MfkanlzwT3465LqcjPX70L67wSPoi8b7Q7+cLzX75JwQR+7Ri/nptd1OZ2r7mOa3Y5Say1vXLuO7N5zXvzZNuqvdluv9Mzju3a5OZ6terVNZ8WE/Of+6BXreYY+9o3uJ3VOcm08nkOj/oewEPXm5BhS30l8zRDnXoYnuBKbCf0V/K3bIIvFFRqrbzZ7XXTedq6fQyFTZd0B/cdFypni7v1N9P5dDfwVyL/8xv1uZ9Z9VWPsEELiaAmS59/Nfojh/9Uaf5dEzWwlitY4kWjpeZh8GqrDBPHW0tbgoYWHILKr47q1/t+0KaWKpp0/9D/7XvI/22yS3LlSukP45qe90EDumDjSx13IkFEL+YXSGdOpH7NtHvfVV/RsWTXKp5+UQVX2zSdX/Kk5wytqnPrinkmXr7+cnKV4kWxrIfic0f3uu2btJhl1pPl2pNTK36TQne+nZwKXE/mxKfH6y/aus8lSlPlevsfH/fqY4/eF2X88rg+NKJb/dFVQ5zM434/rtmUbx9umNIOG+big6OI/SahHWSrk18vr+fnVvj16jr+5WG2e/CUil/+osJ+41Lt0/Dy1QFy8IZq6TjSXddQ+e8YXqem2mEmj/C18sTStknvM8JxxI/zl65FxLeu2y2G7629j5Oz9vO/tBnwHwuwp+JhGuU6XtWU+JmWomf3a5ZyDh7LMn3ZGw6zfvwIEWQqZgmnW/WF6f+pV9EmKlYWjJKuvbf0dXyy/9DJTf+laKQH6FZo6WLLTk+lfHdf+tifoVOL6lQYWee+eo/G12Ahf6t+YS+KqwyBYj5QqiSjrx5zS3Ixkm9uvuMOtSig/Of05Np0tX5he3aYpfPf18Nmqy1CV9+Xa3aagroNj8V779mtPclbNPY/jwzbDZBUY3/hbd9zWFdUqcaNttlXZte7BfvwsIz2ui299X4FxO+6JKPL57B6V7ydhvuuAUJ9ungKenxmcE5L9GU0hZzvZPT8eYLvabInYMZNpsPqinokyVem8NSTTgIyFNx25/c689I0+elLBC62LVeB5tN/ePU++a1z+vVY26+k36f5pjXTdb1WnfMtdLChAIzdDyp7g1b+ITOeeOpTrcg0fZacy7jZ8W2u2pSiS7VJ2/P3McmwI0diznOm8Vd77OeuhfsNfT36+/7+vTfJQRn6babfG0v+bPTym+rj69bOk9r5a5vbYvyw9co4/cs6uxUZu9Db4sgU3FUK039aXxBu34bWaYiguaIBCO0Y2KevjhrPs3JyidoWsclrfzOTd+3W1r51480xTZ/5HWar34bYIT6V2AQMwFBfaup3b+oxy8ezroPRDY6Lp5wBcBJ1V3sNF+w4dpRspl6pNAECLX73LQ5zjVBAWJrUq4GZL4Y871592ZT+/FCyD+GsiBLY4SP79s2byQjidtNr+6k+QIKvvCXT1RZ8/kU17tFN+/42RavkDv2jl7t0o8i+drs0+nmvFDA0qmvTrpg5di1hMzT/etmn0+NVvGdMzoYHOeu87o0rFzVscI0dDyplBYov7m+SxDTxTETACvYrh+Une5ybfz3rqwmqLHv06sp+lH01L3gFabdZBxSbzf52t5bYhNV6Po2t6tjWIHbbxbvWeQyex96W25BRaDphH4VWQAQYXNEIG3g0E2wcZ/esM0eTR0qTOhfgUFv12FTu77HF3+fYb+056nYq02bGpCpifebPiBeoejXTr1a9rlUhYgJnhb7tbvTk/zCKTGdPZjZwl+qrDGFf9qgzO/Qaq/fFv3OL9yDJ0l6QbYZh4HsQb4P6UQTVEQqouaIkDceKVLLtykCh5/9D43XDZ3IOUvhlM/S07bZwwa4of4VgF+QdU13B+IZBVs7dKM5WaKF001NMWWhGrA1HVNjtwWIxwQTW+Mp9evXXQBka7n+2D1dajO10apgGzNVPf5exxDwa5/pCndvu7FabolGhvpUJLJZoRZzDLs1tzBNLdE2BbgvX/ulbJsCumZ0kq+NfV8yDQr9LE/27dvd7NNmQ4aFmghsgX+nSXX3yjwEbO26dGKsicZmEdKpe7Nel0qrdLiqKE3N3pyfa3rxmslsWr/QbzYL66l7wYplEWw2wB+7B//axjJNGb/uXu71nsWzSdXFRf5ITJEeCZbNLO/2M1YcNGs8NUuPx+79zN6H3tb3gorImiOcbjp8Rvp0ie1fMrFDmz81wUu4f0WUGRcMSP6X+DyXzp1oCgC3INmxd3SkOdxRsyu/A6Ddjp9puPcjlO+roTDY94t6vM2mjl3BXGPnmcEULvFMhd9vIdxRM8x+uR1sm6wNwfYu3vsYPN6XZar+D766N/8UOs4qFafsU+F4TQOm0IylwZPYbEZsW7bTYqsOrula2CVem3lSbfqgMIFX4N9f2jv9Pvdphde3xT/m4zXSwQweA40x986WU0X+vWOGuYWp+1T4/BR+vtIFLWZ57D22x2KCj91dj6Wn7gWv30dwnz+feSc+2x/o+n287l66fc9qbbOnnf+h1o73VnfCnyOzrLA1bTYw8XwLdD1272f2PvS2PvYz3SO04zfTpBNHuw0qstmm/e2IX3yboq+HDQJmme+fezzyyc90o7+wvcTntr3fP38nwPbon3ReT6Yo3Psb20HRdurj9xru0wC6FwajPpapsJ0duw8osvWHT9N0HrWdTPkNCaBPsKnhzFLjfV9ZofpJ35m+aSDdC4MRf1DsHshUAACQmayDCgAAgFT64NMfAACgPyKoAAAAkSCoAAAAkSCoAAAAkSCoAAAAkSCoAAAAkSCoAAAAkSCoAAAAkSCoAAAAkSCoAAAAkXiosno+P9MNAAByRqYCAABEgqACAABEgqACAABEgqACAABEgqACAABEgqACAABEgqACAABEIuvfqRhe8FM3lpnb7f92Y6lluz3rXtsEAAC9j0wFAACIBEEF0EfMWL1J+zfUuKlECcsqX9DO917QDH+qi0UbtuitBW6iL1nwkvZ3c9zZq9FbOzbp5Uo3+UDYY3hJi9wUMNgRVAA9zQYBO7akDRiy1vCBVvz+A31ux71tJxZqBzau1WuH3MSg1UMBR5frXavXVv5RB9wUMNgRVAA9bMbUEunLC7o8towaLYABLZqOmmMm6W+j2vTrxutuRhwdNTG4TdXL7z0rHVqva9VbNPGfSVkE2yRQPcZNGFfqtXhjrT+ebpmtLS+Q9vy+UTPfW6qKfLe844K2/f4DjdsQ3o/df3ydy3XBfFuTN9X4K9K4sUO8ZXe/3KsV2xq98WS2+WX1E/56Vsbbsce6bIKG+lOxY/SyLElss83csW4iWC92ru419ppU3nHb8Pdd1DFEQ935BftO2Jau6sjKP+qyPYfhN01wN0bjzNzLdXvVXhm6fm69WNYh4fr/oLN7/mzmJV/vG5q7o0znY6+L5noD/RWZCqAnVU5VuVp0skE68M+rGvfzUBOILTCrR5rCaq0Wr1yrbV/+4BYY3S2LadS7hy7orlcYmvVSFNaLNpgC7rYJRuzylfVSdbhJYIiKbv/ZX7bngvREVdpMyufb1rtt+OsWVYebANJtxxSkJqBoNQWrt6zuqjc3JVOAzx1uCmm3j23NpvB1i7o3RK0Nbvvevp/1zu/Axnpd9gIBuywUKJhA47zbx2uHzPX7vXut3eeXIzU33G8ldP0X191Uwdjeu95Af5VTULFm6i/1t9lmeKxAGvGoPz57kta45fel4FEd8rbjDztCFTWgv1lUPUFqbvQLn0OXTC25Ml7IjB2moVca9K4JOLroblnGpmr0cFOw1rnMh2p1/soQlU+d6qZ/UFOjqyk33FCrP5aGrWlv0X47hDMPnjTbqRylIlObPxLOzKRz5Y7u5k/Qatdf4fNtH2TYT+EHtZvav6ehUU0dQ0zh76ZTuXIpcbs2G+HOK5yJ6XL9D/3RZRy6E+X1BvqnnIKKrY2f6defmuHrdunWN/74p+e01S2/L+3faIG3HX9Y2U3lBujbajTRFHBDn1jqCq4qU/sOFzL9hU3pV6noy72xWvZdtyQytvOpV7u/pIneteqFpzoyygYByAbNH0BPWVCmcbYfhFdYusGmvUun+o9V2tp5qPPmuOGhmnJ3yzLWqGu3h6iiOmhysUFOqLacpdZW9zpbi/fHumdr4/klmumCgxlFI/2RFGyfDf8xWPs0xV6dDWcc8ofFmkIW/byb1OWCKlXkX9X5TDIjMTd1zWUjul7/UFZpwUsZPKYb7fUG+qNogoqr51J20gQGM1sAXv5nkAp3bIperqA1tfM9th3fpd+rhodqyt0tCzPr1V8Z46+X4jcgDmw0BfTwqlimRHXr76NJpdG85qrGVfvHsr9yZIaZChMg1N1UxTL/dctK3ewUPm9sUVGw/R1+vwSvuSF8fmaYqOTUpSnE3fb3e1mHoP9ErY58Kbcsze9IJG07+fqvCB37/mr5wUqvXG+g/+JnugEAQCRo/gAAAJEgqAAAAJHIuvkDAAAgFTIVAAAgEgQVAAAgEgQVAAAgEgQVAAAgEgQVAAAgEgQVAAAgEgQVAAAgEgQVAAAgEgQVAAAgEgQVAAAgEgQVAAAgEg+NnTCNv/0BAAByRqYCAABEgqACAABEgqACAABEgqACAABEgqACAABEgqACAABEIutHSgtHjnBjuWu7ecuNpdab+wIAALkhUwEAACJBUAE8KE+9osP7X1G1m7wf1a/v1uHXZ7qpXC3Rzk82aZWb6o7d7/FPPjRDZutHYvkmHc/memV6fe16PXAeq7Z+mPa9sct2LncTmqm399traYatS9w8oH8iqAB6jC2kXWERDOFC7tg7mrf4HdXZ8fss2OrefF7z3jzppnrLEi2cLjVsfk5Pzl+v7T1UKOcsfH3vm30Pd+vtp9xkRLaveU4rdrmJ5fNUqTPaON9czzX7/ICN4AL9VIRBRan+smSW3nBTYUunz9E/pufaP2KEdvzmGf2l3E2Glc/S6d9UaKmbBPqOTlf42uF9NWiy1kaWWXhAnhqtYrXq22NuGjmpLi6S2q7lGPwAfUM0HTV/VqF/zClV26mP9NsmN895Y/Yzejq/WZv/elZ73bxA9h01beBSIaXYjw1c1o2+kXI/Fh010ftsLbdKNzc/r1e9AtimuX8n7XbTtob/vLRl8QlV739RlcPsOsYdU2tdfE0LP5mo0zYTYGbZdPnctvf9rIRtBqhqN+u8I5la7Vr9yZ9vt7dusvL9rehSbVAbtvuNb7/jlNtOF/Z44/tM3J4NjuxxJ25LzWfUUDg56diTswNJr1GLDibso0DXm0tUVuotDB23kXROqbdv+ddazTLbyfPX2y2t9a6vW99et5oSb21P82EvM9DdMdjrvtDNSzjusITtBtfJvWfmNSot8Y8/dOx22ZRzZh/NSe/Z6TMqnhKf9t8rJV1zd9xAH5R7psILKEbp4tE0AYXOakqagj57zfrtvuNqm/hMl8zH3lNHNeV8vtalyZYAD0aeKtcFzR+2YEhVwz+pV3efUYdXaD2nJ72Cp0U375RoitfuvkRTTMGWP36W13Ria7YdF090Lbifn6zrpjD0syKHdbPYz4is2vqiHr/4fixb8tX432WQzjeF9LpyfRVkWTY36fHnbdNN0rGueSfFsSczr1nstmOGjaeKtDAhvW8KZFPAestrW1RWFTQR2WMInZNZ1r08Fbf9yV83+Ths4FBTFMsabTzV6RYEUh/D9jWHdSmWbUoRUNhjDG3XXidT94nJL2zXFjvfZakWxvpROMfe0RZ7LDZQMOut+H8Tp23wV/3671TZ5k/b4WDb6HgTGtDH5BZU2GaHOfn6+76jWvmdm+fxmyr+89/HNeVTU3WI1C2t/OtxXRz9pE7PDn16raYTmnJKenrJHO34mZsHPFDh5g8z1EoLM+p/cFJ1FztVbAOD5RNVfOqwKZTKVW2CgbJC6auTyZmGk/q2zSyrCToH7tOrXjZiph4x6+dPfzEU2ORpZNJHpwuviSMUENna9LAClbnFWbO1edevZMP0PDcz0KLTQWaiud0EKI49BlO7Pxgsu6fOFNfFKS1QfnO9yxilkuYY7skGf/518jpemiDh1dDxxoM///25H3XXW83xz4v1x9n+ZqrADegbcgsqbCF+tEP/2aUQtwX/R/r7T1MU/DmzAcuTGn8tRcBig5zp0sddghygj9h13tR8i/RIBh3/6k6aWm9hiVZNKjKF5T4TZEiPz3xFU0pT92ewnf9s4LJFv/ML8FA2wKbzY4GNGWLNC91y2YfYkKqmnoF7Zgn6s3gW5vQkP2iK7mkcZ9d6//rb5hwvMOuDnWIBJ/fmj+/O6ldHb2j8nK6dKP/w6Uf6WBURdqK0fSqeVOH5j/SrU4l9JGyfitMTO7R53wn9wc0D+pzlE1V2p0l1aWvMIceu6bqpoS4s9Nf3gozpk1XWfD51Gt7VZO0TIV5TQaFNk7sMRqxJwVj+yr2bP+y+VaK5oQJy1euhbWQtHgiVFSZnKtKwxzDMz85YXofG+2WzD6UTY4VxxsdwLzZgcsGbDepswJRvAsEordrqnj6xT7PMt80xmQWlwIMQzdMfNrDYd9Z84XXtz2ADi83XRml5JE9/pO6kaTMU3XXSBB6ccJ8KM9RIB1P1OzAFxpHmEi2068QeO92n082hFPqxE/rqjpluS9W3wKzbNlkbYvspUsNufz/b1/jt+fFlBRk8ubFPKzafMZ/poNnkQxPcpHlCIeWxh4SXm2FuYaaZCnMMta2x67d2vJt9P8wxbLF9Oe7jGA6ekjuGFBkC+54UzvO2aYcN01t1MMdOlHVv1uuSbe4w27NZj+3n4tfg+CfzVHzqT9004wAPFj/TDWDQSXiaBkBkCCoADAJJj7WmfTQVQC4IKgAAQCSyDioAAABSiaajJgAAGPQIKgAAQCQIKgAAQCQIKgAAQCQIKgAAQCQIKgAAQCQIKgAAQCQIKgAAQCQIKgAAQCQIKgAAQCQIKgAAQCQeqqyez9/+AAAAOSNTAQAAIkFQAQAAIkFQAQAAIkFQAQAAIkFQAQAAIkFQAQAAIkFQAQAAIpH171QML/ipG8vM7fZ/uzEAADCQkakAAACRIKgAHpTKF7TzvRc0w03ejxmrN2nn6qluCgAerJybP9ZM/aXmjPDHr3z9mVZe9ccDNH9g8KrRWzuqNM5NeTouaNvvP9DnbjLGBhjLhql+5R91wM16YLxjmaChV+q1eGOtm2kE88PnkHDcWZwvgAEpt0xFwaOaNaJdRz/9TL/+ul1jRxW7BQB8P+jsnrVavNIOe3VWE7Ssj2cWZkwtkb68oMtjy7TIzYu7qsu3J2juAjfZRfh812pbc4lW79iklyvdYgADWm5BRXunbrnRZx7+iTrvdrgpAKn9oKbGRn801vwxVS8vmKChGqO5O7ZovzfP1vpfihXqizZsiTdzLHjJrZPU/GG3Z1/vhrdiBb/Z/nvx+d03l0zVzFKZY/xA56+M0cQUwcP5ugsqMvvKpNnm823rte1LqaK6xs0BMJDl2Kfiuo5e/YnmzP6l/pcuasHX37v5AHxDVLEsKNCXqiL/pq41uEUxjXr30AXd1VUdsTV8r7ngqto7gkK9RhPHSkNLp/qBRNFI3W1uTGpS8AOT1rogS1Cv9iI/eFi0YanKm/e6+XvVVPps+sxB5VSVq0UnzTEe+OdVjft5imCg4QPVd5utSPR5601p+KiMghAA/VtOQcUzj03T8sLb+q9bUt7QfK855NAvH9UzbjmAxOaAxXXS3FAGIr1GnWz+QUU2MFhQpqIv63VWJZppgoFxw20mwWU7Yhp17bZZVh1kImr17ja7zlSNNusPfWJpKLAZogITpKSyqHqCFAQshy7p8tjKlAHIgSyyFQAGjxyCioc1rVD6r3PfaH3jN7oy4lH9bVqx8u526iO3BoAktqDWSI3OoI/B540tpoY/Rot+PtIEEbUmyJDKp76giWNTZTtMQb/RD1z26Fk/gNgQzzJcjmUw/OG1Q25BApcRiQUgttPlELPPFM0lQbYixaJkNrOi2zeSMisABqIcmz9+ohH59v/rWvnFdXXqR/3X/7nuLQGQwoIyjevwmxfuqeGGWsdWae5wf30vyHhigsZduZTiCZEaveX6Wdh+DIvrrromB5fBCGcVFryQuvnDHpt94iMUfCzec0FyzS7JvGyFOZ6hbjoV2+dj9RM3dST8FAmAASuHoOJ7rT93XSMe+6X+NtsM04brm6s/6hfTpmlTgVsFGPTCfSrMUC0dSfWIpa35Xwl31LRqdf6K4v0nGhrV1GGmbyc9t+0x696eoNWx/YzU2UP+fg5s9J86iS8bljLTsejnY3T5n0mFv92na3bpwjtmNx6TeL6rS1u0rS88JgugV/Az3QAAIBI5Nn8AAAD4CCoAAEAksm7+AAAASIVMBQAAiARBBQAAiARBBQAAiARBBQAAiARBBQAAiARBBQAAiARBBQAAiARBBQAAiARBBQAAiARBBQAAiARBBQAAiMRDYydM429/AACAnJGpAAAAkSCoAAAAkSCoAAAAkSCoAAAAkSCoAAAAkSCoAAAAkcj6kdLCkSPcWGbabt5yYwAAYCAjUwEAACJBUAE8KE+9osP7X1G1m7wf1a/v1uHXZ7opAHiwImn+eGP2M3o6v1mb/3pWe928AM0fGLyWaOcn81Tmpjx3zmjj4ndU5yZjbICxrkBH5q/Xdjer1y3fpOM10sHwMaSYt2rrh1pY6ibUqYbNz+vVY/6UDXI2TM/zJzwtidsDMKDlnqn4WYX+U2f1cUepni538wA4ttB9Tk/Ot8P7atBkre2rmYVd67XxVJEWbl3iZpigqKbIHH9SQKHD7nzMsLlJj6/7UDuXuxWs5vjyxO0BGOhyDireqBili2eb9YdPz0rTZ+kNNx9AKp366uRJfzTW/DFTbz8/Wfkq0cJPPtRxb57NcmzSKn9NrzCPNXPY7IFrNklo/rDbs693Q7ygN9vfH5/fXXNJ3Zt/UkPhPO+1q7bOU/GpP8WyEHb7c0tbdHDNPjfDOPaOtpzqVNmk1IFD3fVWqXB0Tk08APqP3IKK8ll6Wpe08js70ayPm/L09OxYXhSA8lRpavJ+gf6iKoe16tugkI45qVd3n1GH11Rgavhe80iLbt4p0RQvMFiiKeZjlT9+lh9IFBep4+KJpCYUPzC5XusyCPMP62axHzys2vqiHr/4vpv/vr4a/zu9/ZS3KAX/WIpr/IzEvDddAGSVFij/Trv5xCfqLnBYNakkxbECGKhyCyqaTmjKp81uQtp76mjCNIBw84cZaqWFoQxEeidVd7FTxTYwWD5RxacOq0HlqjbBQFmh4tmOmJP6ts0sM8GAn4nYp1e9gGCmHjHr509/MRTY5GlkJrH//WYYSue5fX2ouW3vJwYmAAY0nv4AetOu86amX6RH0mYK4upONpmCvcTU9otMELHPBBnS4zNf0ZTSVNkOafsaP3DZot/5hXqoL8OlWAbDH1bscgu6sBmPcn1lAqGDbUn9P5rb1TGsILHjqWEzJ2q7Fs9GuD4VG091mmBmXgYBFICBgqAC6E3LJ6rsTpPqUgQFXRy7puum1r+w0F/fCzKmT1ZZ8/kUT1Ms0U7Xz6Luzef1ZG2LyzS4DEZV6NHV5a+kbf6ofv13evyi349i+5rDuj491FRy7B0daS5J7Hj51CtaOz1Pl86F+lk49ji8jpo5PjYLoP8gqAB6VLhPhRns45mpHikNCmy7TqwQ3qfTzYr3STh2Ql/dMdNtJmDowqzbNlkbYvspUsNufz/b1/hPncSXFaTMdPiPg7bqSKy5Yp9W1Laa448319hsyEHFmzeOr/OzGukyHzawsBmPDRk1+QDo7/iZbgAAEAkyFQAAIBIEFQAAIBJZN38AAACkQqYCAABEgqACAABEgqACAABEgqACAABEgqACAABEgqACAABEgqACAABEgqACAABEgqACAABEgqACAABE4qHK6vn8TDcAAMgZmQoAABAJggoAABAJggoAABAJggoAABAJggoAABAJggoAABAJggoAABCJrH+nYnjBT91YZm63/9uNAQCAgSyaTMWYSfrb1GI3AQAABiOaP4AHpfIF7XzvBc1wk/djxupN2rl6qpsCgAcrmuYPm6kY1aZfN153M+Jo/sDgVaO3dlRpnJvydFzQtt9/oM/dZIwNMJYNU/3KP+qAm/Wg2EBl9RND3JR0uW6tXjvkJrzjnKChbtJKWA5gUCNTAfSoH3R2z1otXmmHvTqrCVrWhzMLXkBR2qJt3vHaoV6q3pKUDbmqI8HyPRdUVP2SFrklAAY3ggqgV/2gpsZGfzTW/DFVLy+wtf8xmrtji/Z782yWI15YL9oQKtgXvOTWSWr+sNuzr3fDWwv82bLbfy8+P31zSY3mPiGdPRTOpNTqtbqrGlo6NXUzTcMNtWqkRle6aQCDGkEF0KOGqGJZUKAvVUX+TV1rcItiGvXuoQu6G2QAvOaRq2rvGKOJXmBQo4ljFSvYZxSN1N3mxqQmFD8waa2LZxjai/zgYdGGpSpv3uvm71VT6bN6OVUQUDlKRUpxfFfu6G7+sMRmnMCCMo3raNHJLucEYDAiqAB6VLj5wwx10txQBiK9Rp1s/kFFNjAwBXfRl/U6qxLNNMHAuOGKZztiGnXttlkWa6qo1bvb7DpTNdqsP/SJpaHAZogKTJBy/1xGxQ6Vd1L3EQEwKBFUAL3p0CVdzrC54PPGFmn4GC36+UgTRNSaIEMqn/qCJo5Nle2QDmz0A5c9etYv8DfUuCV+Z8pYYGOGlB0r0zVljB2moR13zHEHXEZlzwXdzZ+gubFmFgCDHUEF0JuyaS6whfzYKs0d7q/vBRlPTNC4K5dSPCFSo7dcP4vPt63X4rqrJiAZZaZdBqMy9OjqghdSN3+oVke+lCrM8nj/CbPd6jEpmluMhg+0wuuouSnN9gAMNgQVQI8K96kwQ7V0JFVzgSmg66+EO2patTp/RfECvaFRTR1m+rYJGLow696eoNWx/YyMdbg8sNF/6iS+bFjKTIdlA5JtzSXxdXdUSXVrtcJrSknBBhZ1N71zjHcMBTBY8TsVAAAgEmQqAABAJKIJKq6eS5mlAAAAg0fWzR8AAACp0PwBAAAiQVABAAAiQVABAAAiQVABAAAiQVABAAAiQVABAAAiQVABAAAiQVABAAAiQVABAAAiQVABAAAiQVABAAAi8dDYCdP42x8AACBnZCoAAEAkCCoAAEAkCCoAAEAkCCoAAEAkCCoAAEAkCCoAAEAksn6ktHDkCDeWu7abt9xYan15Xxx7ZvrSvgAAPYtMBQAAiARBBfqgUv1lyTP6S7mbRK9ZtfVD7VzuJvqEJdr5ySatclMJlm/S8f2vqNpNRqXvXYOAvRa79fZTbvJBe+oVHU733kTEvheHX5/pphL13fdpcOt3QcXS6XN0enapmwL6vurXd+v4Jx/Ghx4oCKOyfc1zWrHLTfQJ+7Ri/nptd1ORS1Ewhq9Bd4UaHqy+d69mZqDfU2QqUvlZhf6xZJbecJNReGP2M/rH9Oj6D2RmhHb8Zo52/MxNRsAGdT1/Hs367b6P9NsmN9mP2YBiw/RWHZz/nJ50w8aL5VpIDQvAANT/OmqWz9LpR/6lKZ82uxmZyXpfdj/TpY/3ndAf3Kyw7I/dFvBPavy14/rVqew6FN5fZ0fbhFChwqau+7u/7fmB0dP5zdr817Pa6+bdS7b7skHLuvI8b7zlVGJgEV4mtXZ5b+61r95n09VVurn5eb16zM1KZlP4NSX++J0z2rj4HdWZUS8YGS91DMtTfrCsvkAbgnWbD+vJNfu8UW/dwlZdKi1RmTenxQQxrnYf3r7Rcep9zXvzpDdua0xzzboyr8tXpxrMcX5b86GmnHM1wITX+su987C1+3WT/eMK78udr4kJVVbqv0/J+1sYJBlD59o9u82JOh3sI2HfRng7CcuSj7dA15vN9XH7v1Rrz3Gm3t7/oiqH+fOCbZWZ4/SugRKvnX3N6UnmmrXFz8m7RlXt9z6XjN8HI+HaJB1j+LySeNsp7FS+uWc85h7Z2FZlgtqu70XyduPL/Pew+I6579yyS7Xv62ZVsG7ydS03xxteN5Q9SDjn+H2SfL96r0m41vF9dHdt7LLgXu32M5BC+F683/ci+ZrF7nv7mvBn1Yitm3QfxK5XeH5on9lcq74it0yFLXiXPJM4eE0TtgBNmr8k2hpzXA/tq+mEphzt0H9Gdty3tPKvH+nvP30yofnGFtSJxx5FXwI/oJAplLMNYNLxAgqd1ZRwQJH2/b9/e08d1ZR9H+njG25GTKmeLu80gcRH3vIpaYK9PuWp0So2wc+36T7w9ku5psh8KcQzGBu2LnELrSZt8bIb76tBk7Vh0nk/27H5jDpKJya2ZZvLftplQg6awnNhsJ1d6/3XeMNhXZ/+u4Q2+fzCdreP5C8m80UZOrYnN5vozntrzXxTcF83X27e/FppYUJzTp6K2/7kXnNGmj7PP07zpbmw0HxZevuy52q+gL31s5G8b/PlH2OXleur0PE+/nz4uMyXsCmAgteVVdllJ/XqbnMtvQLIzE8ODMy1O2gKClsg2NfZL//tteacxs+KbXfVpBJdqk96XSoZvw/+ex1kslZtNYVYmwkg3esu+bPTym+rj69bOk9r5d4Lc8754eM22338on9edp9fjQ8fT56u19v5/uvKan4n7fanDzbn6fGZian7r9wyf13XlOTd2/Kvq7fM3Cfhezt0v67Yle5e86W7Nl2k+wwksQV1/F605/5iQt+M5P2tdU0V97pmsfve3kfp3u8U99Q9vweyuFZ9QW5BhS14Y1/ybvAyCH4BmrjsqFZ+578sV9//u92NWT24r+/O6ldHb2j8nOg6Df7hU1NgqkKnf1OhpW468dhzTPt7TTdlajsaVfOBH7T957+Pd80OpX3/e0K72jqL9HSPBacPQGmB8pvrY4V53cmmxGCh7VpCYXXpnJ+Z0LFruq4iPRIqlNR8PlYr237OFLaFo10BYmtXQX+OeV0K8o6LJ9IUiC26aWqgletcZ7hj7+hV7wvQBEqmJnXQjlu7zuvSsHJVx46lU1+ddLVh7zid5nZ1DDOBkeu/UPfmO2lrkWkl7zvMC+D84/XO1WYshhWEzrdFp4PX2WNxo1k7dkJfBQWbKQzmloa2261M34eT+rbNGzFm6pFCUxOtde97BjrawoFW6L3wrn9wPex2TeE5/UV3PLb2naeRscKpUzfDH+M7Tapz9+iltk5T6MZr2jZjGAua7b0Q3Jf23jaB3EJv+2awNevYPWmE7te095qT+tqkkPYzkKisMC8UCJ5U3cVOlU2KF+Lh/dll/vne+5rFrrWn+/c7wb2+B7K4Vn1B/8tUmIIssfbdg/uyBfScUboYWQHdtcYfeabCBkL7LqkwskAodYbF0wOZivSC4PELaZbdVz8ILlIV/r0s25punKnFL/ZrQzblb78cc+pcZr785nnHcF5TvC/anniKwWUcYkP69Pf9M9el3tTITSFUPdN8wE4dzmgf9/8+9BybSo9fK1drjpJN44e23yUTFBPxvdaDMr1mPfd+9/1r1e8yFd7TH66W7+uhfdkCc06+/h5ZhiV1jT/yTIXHdnQ8K02PrnNocobFk/b970n++/3xjTwVDnez+qx9OnhKplaR+HSBTb96tQxbeyytihWutpDKT6iV3A9TQ6oqSchAxGqvXm0+QzYl61Kwtpf9xlOuxmYDpWGhFPTyiSoL1WTTiZ2z9zTH+2owta1YLc+2J2fyaKK373hWpLq4yB+xvACuRHNDX7CrXu+hp2x2HVZD4TyvA+6RWB+FJdppvuD9c0wt+/fB1sxDzQ3ZvH/d8mv8fhOQs/yVnIO86ter4veCy0zFmyrMffl66uaItPfafev6GQiz2Zb4uc9U9fi8eBYwwRItnB4sy/6aZfx+Z/M9EPm1ih5Pf6RiMxTddNK8H2/Mvr9OmvfPBhbHdXH0tMhq9Daw2HxtlJb34NMfQebm6VFSiQmKYhkJr1nHZUPs8vxmfRxR9qgn1b35vPngF8XTwGbYUFjv13Bs7b22NZay3zC+SRtd58uslc5z2/drSEHHM68PQJCyfT6L1JVN85uCM3bM9gkW79hMULD5jIpr/PnHbbt52hponE3pxl7jjjGo5dl+CR0Z1fjNvkPXa+14N9vjH1fsXM2wsDCx+Sgl8x4cse3v9jUpHvUNX794wOCnxRPS0l5wlaZpxrjf92H7Gtsefx/v3z1sX+P66djt2qGmIH3fn27Fmzi8eyS4F7x72/axcNs37/njCjfNhKS917KU5jOQzH4mD7YF5+73kwhnHOJNHPNUfCq+LJtr1t373eWeyuZ7IKpr1YP4mW4n231x7JnpS/saqPwe4vWxp0H6F9v2bDsC9q0e7N3resz2PbCdItMVZOhZUX0GvKc/wk/3IGtkKgA8QCUaqXs3n/Ql1a//ztSE4x3rrLJCJXXUAwYnMhXOYKrt9+dj78699gUA6FlZBxUAAACp0PwBAAAiQVABAAAiQVABAAAi8UA7avaWgdoxsbfQARIAkAkyFQAAIBKRBBVdfzq7/xt45+T/THhUP9sNAECyAZGpsD/tHNVfEe0PbMBDcAAA6GsiCSr2njoa+6ubA8XAOyf/D3H13t8eAQAMNjl21CzVX5ZUyPsbaZ3N2pxQCIeWGd833fuPab0xe45G/7tT08r9vz4Yfo2tna8rz/PGY/uyf0l0eugvFXpau/whsOw6T6Y/p+6OL5DNvuw5Pa0bKiwv1cN2xo2z8b/ymXBu7py8P8Xu1o3p1BdH7/GXVEPbSjxmc66/Gaa2jlJNG2WnU2+LjpoAgEzkmKmwfwnzI0052qzv3ZzA0ullKjQFWPAnsTOrIedp2ugObXbbVPkEvWFnm0Jx3egb/nwz2L+UuW52aexPb398Q2o55S+bkvNfFk1/TmmPLwcl5fbPq9vjPquWUWXxv8jp/ZVUd06npKdt/47vzupXZnpzU6cXHPjnm8GfZnfXyb6ui7xSjbd/jt1bLk2rCP4eNQAA2emxPhV72zv1cPmTOm0L/yy0nHeZge/uqM2bYwKUgjx9f+2/YxmDvS039H3+sAfSiTLV8eXi+6YLLghqV1tQ5g/P18M3/hUPjpr+pZa8/FjWJ1qt+rsL+Ox7BgDA/eq5jpqudjzl2//Q6SXPZB1cAACA/qXngoqADS5sU0IOmQUv6zH6f8Re/0ZFqR7uuBPqvyEVFgygpyFud+j7Uf8Ra1qxTUklnR1qcdPWwz8tcGMAAPQNuQUVtu3fZiFs58G8Uq0LZSTsY55ehsItbwuaDe6HCUw+7nDbN8PT+c3aHHRoNP5w1vZveNLtb1Zu/Ry6Oade891Z7WrK09PufNeVd+rjUIfRvacuqWVUhTvfOX4/jG54v7nhbSfPb5Iy44PpEVwAQO/gZ7qNKM+pN/fVW3j6AwCQiZ5v/gAAAIMCQQUAAIhE1s0fAAAAqZCpAAAAkSCoAAAAkSCoAAAAkSCoAAAAkSCoAAAAkSCoAAAAkSCoAAAAkSCoAAAAkXiosno+P34FAAByRqYCAABEgqACAABEgqACAABEgqACAABEgqACAABEgqACAABEgqACAABEIuvfqRhe8FM31nNut//bjQEAgP6CTAUAAIgEQQXQb9TorR0vaZGbylrlC9r53gua4SYBIGoPpvmj4FEdmiT978++0UduVhjNHxgYbBBQqfY96/Vug5v1INmgYoG05/cf6HM3K8YuWzZBQzsuaFuw3Js3TPUr/6gD3kpGsJ6b1JV6Ld5Y23V+WLAOgAGPTAUA56ou356guSbwSMkLHErUtGetFq/0hyOq0n6b/Wj4QCvcvG1f/uAHEm6agAIYPHILKmzGYeqj2vTLX+pvs+0wSWvcIqlYO7x5/rBjjJ33sL/utGLl/aRYy92yQ4897L0CGDym6uX3tmj/Dn94K1yQ28LbzfeGWJNFUvNH0nr+NhK3uz/L5pLzdRdUZLabqolkUfUE6cs/J2RdDmys1+X8Es2sdDMADGq5ZypGFGtEy2f69aef6eitAs3yAgQbPDwqfe3P//Wn30iPTdOmgu+1/jMz/cV1df54Xbu8ZZ9pwdff+9sCBolFG5aq4nZQm6+XqjfpZa9gNoHDsglqrXO1/Lqr3vpdJa2354JUNNXMb9S7v3fzzLDty5Gau6HGf0kmGj5QfcpsxVSNHi61tja66cBVtXcMUcFYNwlgUMs9qDDBwVH3vXfl7o/+iPI14iftuhD7PryuC7d+ohH5bhIY1GwB/YPO1gXNArU6f2WIyqeaoKBylIo6LujIIbconeT1TDDw2jZX4C94KZapWP3EEH9eFg50k60AgO7QpwIYSGyTSPVInXX9Hrz+DdkKshU28RHTqGu3pSIvGxI2RgX5P6j9ipsEMKj1UFDRoVs/FmiC14/CKHhUs0b8qFsdbtr6yRCRMcXgZAvoIaqoDpolajRx7A9qamw0BfoNtYb6KMwoGumPJPPWCzVTmGDirdVBgX9T11y/h3HDs89UWF624onEpznsPD3xrGum8S3aUKVxHS062ReebgHwwPVQUPG91p+7rhGPuY6a04p16+svtL7dLW7/RiduFWgOHTUx4JngYVm446Tfd+LAxr06O7zKzauS6oLHTmv1Wt3N2GuWlXobScGst8cU/NVuu8tK1O4FJR+o/soYzXX7qxp+H5kKy9uOGw+YeSv2tKg8dD5zVa/FqR5RBTAo8TPdQB82Y/UmrR7ewGOZAPoFggqgj1m0YYvmxtoGr+pI+MenAKAPI6gAAACRyDqoAAAASIVHSgEAQCQIKgAAQCQIKgAAQCQIKgAAQCQIKgAAQCQIKgAAQCQIKgAAQCQIKgAAQCQIKgAAQCQIKgAAQCQIKgAAQCQeGjthGn/7AwAA5IxMBQAAiARBBQAAiARBBQAAiARBBQAAiARBBQAAiARBBQAAiETWj5QWjhzhxnpO281bbgwAAPQXZCoAAEAkCCoAAEAkHnhQsXT6HP1jes83qQAPzFOv6PAnH+r41iVuhhPM3/+Kqt0sf94mrfImlminXR4ewusCQB9DpgLoYdUzy6VTZ3SpdKILFsJadKltshYud5NddKph83N6cr4/bLxYrg2f7NbbT7nFANCH5BhUjNCO3zyj00vc8JsKLXVL3pg9Rzumz4otS8hGlMfnryvPczOBgWimqsdLX518R6ebSzQlRfBwuvaMiqsyy0DUvfm8Np6SKmuSsh4A0AfkGFTc0sq/fqQp+/xh87VRWh4LHvI0bXSHNttlR5tNIDFBb9jZP6swAYb0cfCapk5vbWBAemqWHleT6o5J28+1qGxSimDg2Ds60m22IlHd9VapcDTNIAD6nJybP96YHc9UJGcdWs6f1V478t0dtXlzpKUlo6SmC/qDmwYGslU1k6WLJ1RnJ3ad16XSqpRNF9uzyFYAQF+VW1BRPktPj2ol6wCktERTSqX86S+6jpbzVKY8PT5zplseEmQrUixKVl1cJLVd8wMVAOhDcu+o2dmhFm+kVE9n0D9ib3unHh79P/y+Fz+r0HL6VGCgWj5RZc2HY50svWHzGWn8rJQZCS9bMX2y8t10KtWv79aG6a06uGafmwMAfUduQUXTBX1hgol1XvPHf6gtk0xF+DWzpL+T3cAAtWpSiS6dSyr8j53QVypXdaqnN2y2otmNx+Spcl38kdIN45u0cf56bXdLAaAv4We6AQBAJHJv/gAAADAIKgAAQCSybv4AAABIhUwFAACIBEEFAACIBEEFAACIBEEFAACIBEEFAACIBEEFAACIBEEFAACIBEEFAACIBEEFAACIBEEFAACIxEOV1fP5mW4AAJAzMhUAACASBBUAACASBBUAACASBBUAACASBBUAACASBBUAACASBBUAACASWf9OxfCCn7qx3N1u/7cbAwAA/R2ZCgAAEAmCCgAAEAmaP4AeNmP1Jq1+Yoibki7XrdVrh9xE5QvauWyChrpJK2E5APQjZCqAHuQFFKUt2rZyrRZ7Q71UvUU7V091a1hXdSRYvueCiqpf0iK3BAD6k5yDimcem6a/zf6lP/zyUT0Tmn/osUe1I8UyYHCo0dwnpLOHPtDnbo5Uq9fqrmpo6VTNcHMSNNxQq0ZqdKWbBoB+JLegYswkLS+8rV2ffqZfm2FX23Atn1rsFkp5Y4boglt29G6x5oxxC4DBoHKUinRT1xrcdODKHd3NH6ZxbjLBgjKN62jRyeTXAEA/kFNQ8czDP1Fn2w195KY/un5bnUPzYhmJzquXtdWNb238TCuvugkAIWM0d8cW7bdD5R1t+304swEA/Qd9KoCekq4pY+wwDe24o8tuMtanYs8F3c2foLkL3GwA6GdyCio++v5H5RWOimUm1vzPYuXd7YxlLoDBrVZHvpQqFrwQ6j9Ro7eqx+huc2PXbETDB1rhddTcpJfpUwGgH8otU3H1nNdXYrnrjDln6HXtarzuFgL4fNt6bWsu0eqgeWNHlVS3Viu2Nbo1ktjAou6mKpZt0VtkLAD0M/xOBQAAiAR9KgAAQCQIKgAAQCSybv4AAABIhUwFAACIBEEFAACIBEEFAACIBEEFAACIBEEFAACIBEEFAACIBEEFAACIBEEFAACIBEEFAACIBEEFAACIBEEFAACIBEEFAACIxENjJ0zjD4oBAIAcSf8/k5wEqa3ebVkAAAAASUVORK5CYII=)"
      ],
      "metadata": {
        "id": "cot6Np8BxDGv"
      }
    },
    {
      "cell_type": "code",
      "source": [
        "print((6 + 3) - (6 + 3))\n",
        "\"\"\"\n",
        "Tanda kurung memiliki prioritas tertinggi, dan perlu dievaluasi terlebih dahulu.\n",
        "Perhitungan di atas menunjukkan 9 - 9 = 0\n",
        "\"\"\""
      ],
      "metadata": {
        "colab": {
          "base_uri": "https://localhost:8080/",
          "height": 72
        },
        "id": "fDcQBuMxw8Nn",
        "outputId": "35e8b163-ce38-48c5-d83f-d432d954ded6"
      },
      "execution_count": null,
      "outputs": [
        {
          "output_type": "stream",
          "name": "stdout",
          "text": [
            "0\n"
          ]
        },
        {
          "output_type": "execute_result",
          "data": {
            "text/plain": [
              "'\\nTanda kurung memiliki prioritas tertinggi, dan perlu dievaluasi terlebih dahulu.\\nPerhitungan di atas menunjukkan 9 - 9 = 0\\n'"
            ],
            "application/vnd.google.colaboratory.intrinsic+json": {
              "type": "string"
            }
          },
          "metadata": {},
          "execution_count": 73
        }
      ]
    },
    {
      "cell_type": "code",
      "source": [
        "print(100 + 5 * 3)\n",
        "\"\"\"\n",
        "Eksponen memiliki prioritas lebih tinggi daripada pengurangan, dan perlu dievaluasi terlebih dahulu.\n",
        "Perhitungan di atas menunjukkan 100 - 27 = 73\n",
        "\"\"\""
      ],
      "metadata": {
        "colab": {
          "base_uri": "https://localhost:8080/",
          "height": 72
        },
        "id": "m0p2oEtIw-dH",
        "outputId": "d5117788-9770-4d40-c44a-aeadbc34fa33"
      },
      "execution_count": null,
      "outputs": [
        {
          "output_type": "stream",
          "name": "stdout",
          "text": [
            "115\n"
          ]
        },
        {
          "output_type": "execute_result",
          "data": {
            "text/plain": [
              "'\\nEksponen memiliki prioritas lebih tinggi daripada pengurangan, dan perlu dievaluasi terlebih dahulu.\\nPerhitungan di atas menunjukkan 100 - 27 = 73\\n'"
            ],
            "application/vnd.google.colaboratory.intrinsic+json": {
              "type": "string"
            }
          },
          "metadata": {},
          "execution_count": 75
        }
      ]
    },
    {
      "cell_type": "code",
      "source": [
        "print(100 + ~3)\n",
        "\n",
        "\"\"\"\n",
        "Bitwise NOT memiliki prioritas lebih tinggi daripada penjumlahan, dan perlu dievaluasi terlebih dahulu.\n",
        "Perhitungan di atas berbunyi 100 + -4 = 96\n",
        "\"\"\"\n"
      ],
      "metadata": {
        "colab": {
          "base_uri": "https://localhost:8080/",
          "height": 72
        },
        "id": "NabkEApSxYAu",
        "outputId": "9a180c7f-58ee-4789-a79c-a22b5bb93040"
      },
      "execution_count": null,
      "outputs": [
        {
          "output_type": "stream",
          "name": "stdout",
          "text": [
            "96\n"
          ]
        },
        {
          "output_type": "execute_result",
          "data": {
            "text/plain": [
              "'\\nBitwise NOT memiliki prioritas lebih tinggi daripada penjumlahan, dan perlu dievaluasi terlebih dahulu.\\nPerhitungan di atas berbunyi 100 + -4 = 96\\n'"
            ],
            "application/vnd.google.colaboratory.intrinsic+json": {
              "type": "string"
            }
          },
          "metadata": {},
          "execution_count": 81
        }
      ]
    },
    {
      "cell_type": "code",
      "source": [
        "print(100 + 5 * 3)\n",
        "\n",
        "\"\"\"\n",
        "Perkalian memiliki prioritas lebih tinggi daripada penjumlahan, dan perlu dievaluasi terlebih dahulu.\n",
        "Perhitungan di atas berbunyi 100 + 15 = 115\n",
        "\"\"\"\n"
      ],
      "metadata": {
        "colab": {
          "base_uri": "https://localhost:8080/",
          "height": 72
        },
        "id": "m42-wIaCyTq2",
        "outputId": "842f322c-4b9c-42b8-9276-6f7dc95bf590"
      },
      "execution_count": null,
      "outputs": [
        {
          "output_type": "stream",
          "name": "stdout",
          "text": [
            "115\n"
          ]
        },
        {
          "output_type": "execute_result",
          "data": {
            "text/plain": [
              "'\\nPerkalian memiliki prioritas lebih tinggi daripada penjumlahan, dan perlu dievaluasi terlebih dahulu.\\nPerhitungan di atas berbunyi 100 + 15 = 115\\n'"
            ],
            "application/vnd.google.colaboratory.intrinsic+json": {
              "type": "string"
            }
          },
          "metadata": {},
          "execution_count": 82
        }
      ]
    },
    {
      "cell_type": "code",
      "source": [
        "print(100 - 5 * 3)\n",
        "\n",
        "\"\"\"\n",
        "Pengurangan memiliki prioritas lebih rendah daripada perkalian, dan kita perlu menghitung perkalian terlebih dahulu.\n",
        "Perhitungan di atas berbunyi 100 - 15 = 85\n",
        "\"\"\"\n"
      ],
      "metadata": {
        "colab": {
          "base_uri": "https://localhost:8080/",
          "height": 72
        },
        "id": "BvXPkggKyW2u",
        "outputId": "5c80ce24-5b7a-480d-f41f-cfdef24c1561"
      },
      "execution_count": null,
      "outputs": [
        {
          "output_type": "stream",
          "name": "stdout",
          "text": [
            "85\n"
          ]
        },
        {
          "output_type": "execute_result",
          "data": {
            "text/plain": [
              "'\\nPengurangan memiliki prioritas lebih rendah daripada perkalian, dan kita perlu menghitung perkalian terlebih dahulu.\\nPerhitungan di atas berbunyi 100 - 15 = 85\\n'"
            ],
            "application/vnd.google.colaboratory.intrinsic+json": {
              "type": "string"
            }
          },
          "metadata": {},
          "execution_count": 83
        }
      ]
    },
    {
      "cell_type": "code",
      "source": [
        "print(8 >> 4 - 2)\n",
        "\n",
        "\"\"\"\n",
        "Pergeseran bit ke kanan memiliki prioritas lebih rendah daripada pengurangan, dan kita perlu menghitung pengurangan terlebih dahulu.\n",
        "Perhitungan di atas berbunyi 8 >> 2 = 2\n",
        "\n",
        "Penjelasan lebih lanjut:\n",
        "Operator >> memindahkan setiap bit ke kanan sebanyak jumlah yang ditentukan. Lubang kosong di sebelah kiri diisi dengan angka 0.\n",
        "\n",
        "Jika Anda memindahkan setiap bit 2 kali ke kanan, 8 menjadi 2:\n",
        "8 = 00000000000001000\n",
        "menjadi\n",
        "2 = 00000000000000010\n",
        "\n",
        "Decimal numbers and their binary values:\n",
        " 0 = 0000000000000000\n",
        " 1 = 0000000000000001\n",
        " 2 = 0000000000000010\n",
        " 3 = 0000000000000011\n",
        " 4 = 0000000000000100\n",
        " 5 = 0000000000000101\n",
        " 6 = 0000000000000110\n",
        " 7 = 0000000000000111\n",
        " 8 = 0000000000001000\n",
        " 9 = 0000000000001001\n",
        "10 = 0000000000001010\n",
        "11 = 0000000000001011\n",
        "12 = 0000000000001100\n",
        "\"\"\"\n"
      ],
      "metadata": {
        "colab": {
          "base_uri": "https://localhost:8080/",
          "height": 182
        },
        "id": "B6UbaGQWzZy2",
        "outputId": "d3d53a2b-4f02-42f2-8758-10e39ddefab0"
      },
      "execution_count": null,
      "outputs": [
        {
          "output_type": "stream",
          "name": "stdout",
          "text": [
            "2\n"
          ]
        },
        {
          "output_type": "execute_result",
          "data": {
            "text/plain": [
              "'\\nPergeseran bit ke kanan memiliki prioritas lebih rendah daripada pengurangan, dan kita perlu menghitung pengurangan terlebih dahulu.\\nPerhitungan di atas berbunyi 8 >> 2 = 2\\n\\nPenjelasan lebih lanjut:\\nOperator >> memindahkan setiap bit ke kanan sebanyak jumlah yang ditentukan. Lubang kosong di sebelah kiri diisi dengan angka 0.\\n\\nJika Anda memindahkan setiap bit 2 kali ke kanan, 8 menjadi 2:\\n8 = 00000000000001000\\nmenjadi\\n2 = 00000000000000010\\n\\nDecimal numbers and their binary values:\\n 0 = 0000000000000000\\n 1 = 0000000000000001\\n 2 = 0000000000000010\\n 3 = 0000000000000011\\n 4 = 0000000000000100\\n 5 = 0000000000000101\\n 6 = 0000000000000110\\n 7 = 0000000000000111\\n 8 = 0000000000001000\\n 9 = 0000000000001001\\n10 = 0000000000001010\\n11 = 0000000000001011\\n12 = 0000000000001100\\n'"
            ],
            "application/vnd.google.colaboratory.intrinsic+json": {
              "type": "string"
            }
          },
          "metadata": {},
          "execution_count": 84
        }
      ]
    },
    {
      "cell_type": "code",
      "source": [
        "print(6 & 2 + 1)\n",
        "\n",
        "\"\"\"\n",
        "Bitwise AND memiliki prioritas lebih rendah daripada penjumlahan, dan kita perlu menghitung penjumlahan terlebih dahulu.\n",
        "Perhitungan di atas berbunyi 6 & 3 = 2\n",
        "​\n",
        "Penjelasan lebih lanjut:\n",
        "Operator & membandingkan setiap bit dan menyetelnya ke 1 jika keduanya bernilai 1, jika tidak, maka akan ditetapkan ke 0:\n",
        "​\n",
        "6 = 0000000000000110\n",
        "3 = 0000000000000011\n",
        "--------------------\n",
        "2 = 0000000000000010\n",
        "=====\n",
        "​\n",
        "Decimal numbers and their binary values:\n",
        "0 = 0000000000000000\n",
        "1 = 0000000000000001\n",
        "2 = 0000000000000010\n",
        "3 = 0000000000000011\n",
        "4 = 0000000000000100\n",
        "5 = 0000000000000101\n",
        "6 = 0000000000000110\n",
        "7 = 0000000000000111\n",
        "\"\"\"\n"
      ],
      "metadata": {
        "colab": {
          "base_uri": "https://localhost:8080/",
          "height": 164
        },
        "id": "AsPI9w_7yZkO",
        "outputId": "fa3f07ce-4465-4a30-e025-303774c9d4b5"
      },
      "execution_count": null,
      "outputs": [
        {
          "output_type": "stream",
          "name": "stdout",
          "text": [
            "2\n"
          ]
        },
        {
          "output_type": "execute_result",
          "data": {
            "text/plain": [
              "'\\nBitwise AND memiliki prioritas lebih rendah daripada penjumlahan, dan kita perlu menghitung penjumlahan terlebih dahulu.\\nPerhitungan di atas berbunyi 6 & 3 = 2\\n\\u200b\\nPenjelasan lebih lanjut:\\nOperator & membandingkan setiap bit dan menyetelnya ke 1 jika keduanya bernilai 1, jika tidak, maka akan ditetapkan ke 0:\\n\\u200b\\n6 = 0000000000000110\\n3 = 0000000000000011\\n--------------------\\n2 = 0000000000000010\\n=====\\n\\u200b\\nDecimal numbers and their binary values:\\n0 = 0000000000000000\\n1 = 0000000000000001\\n2 = 0000000000000010\\n3 = 0000000000000011\\n4 = 0000000000000100\\n5 = 0000000000000101\\n6 = 0000000000000110\\n7 = 0000000000000111\\n'"
            ],
            "application/vnd.google.colaboratory.intrinsic+json": {
              "type": "string"
            }
          },
          "metadata": {},
          "execution_count": 85
        }
      ]
    },
    {
      "cell_type": "code",
      "source": [
        "print(6 ^ 2 + 1)\n",
        "\n",
        "\"\"\"\n",
        "Bitwise XOR memiliki prioritas lebih rendah daripada penjumlahan, dan kita perlu menghitung penjumlahan terlebih dahulu.\n",
        "Perhitungan di atas berbunyi 6 ^ 3 = 5\n",
        "\n",
        "Penjelasan lebih lanjut:\n",
        "Operator ^ membandingkan setiap bit dan menetapkannya ke 1 jika hanya satu yang bernilai 1, jika tidak (jika keduanya bernilai 1 atau keduanya bernilai 0) ditetapkan ke 0:\n",
        "\n",
        "6 = 00000000000000110\n",
        "3 = 00000000000000011\n",
        "--------------------\n",
        "5 = 00000000000000101\n",
        "====================\n",
        "\n",
        "Decimal numbers and their binary values:\n",
        "0 = 0000000000000000\n",
        "1 = 0000000000000001\n",
        "2 = 0000000000000010\n",
        "3 = 0000000000000011\n",
        "4 = 0000000000000100\n",
        "5 = 0000000000000101\n",
        "6 = 0000000000000110\n",
        "7 = 0000000000000111\n",
        "\"\"\"\n"
      ],
      "metadata": {
        "colab": {
          "base_uri": "https://localhost:8080/",
          "height": 164
        },
        "id": "aE6sNuQXybQW",
        "outputId": "51966524-8820-40ca-bc1d-0052ec6eb8fb"
      },
      "execution_count": null,
      "outputs": [
        {
          "output_type": "stream",
          "name": "stdout",
          "text": [
            "5\n"
          ]
        },
        {
          "output_type": "execute_result",
          "data": {
            "text/plain": [
              "'\\nBitwise XOR memiliki prioritas lebih rendah daripada penjumlahan, dan kita perlu menghitung penjumlahan terlebih dahulu.\\nPerhitungan di atas berbunyi 6 ^ 3 = 5\\n\\nPenjelasan lebih lanjut:\\nOperator ^ membandingkan setiap bit dan menetapkannya ke 1 jika hanya satu yang bernilai 1, jika tidak (jika keduanya bernilai 1 atau keduanya bernilai 0) ditetapkan ke 0:\\n\\n6 = 00000000000000110\\n3 = 00000000000000011\\n--------------------\\n5 = 00000000000000101\\n====================\\n\\nDecimal numbers and their binary values:\\n0 = 0000000000000000\\n1 = 0000000000000001\\n2 = 0000000000000010\\n3 = 0000000000000011\\n4 = 0000000000000100\\n5 = 0000000000000101\\n6 = 0000000000000110\\n7 = 0000000000000111\\n'"
            ],
            "application/vnd.google.colaboratory.intrinsic+json": {
              "type": "string"
            }
          },
          "metadata": {},
          "execution_count": 86
        }
      ]
    },
    {
      "cell_type": "code",
      "source": [
        "print(6 | 2 + 1)\n",
        "\n",
        "\"\"\"\n",
        "Bitwise OR memiliki prioritas lebih rendah daripada penjumlahan, dan kita perlu menghitung penjumlahan terlebih dahulu.\n",
        "Perhitungan di atas berbunyi 6 | 3 = 7\n",
        "\n",
        "Penjelasan lebih lanjut:\n",
        "Operator | membandingkan setiap bit dan menetapkannya ke 1 jika satu atau keduanya bernilai 1, jika tidak, ditetapkan ke 0:\n",
        "\n",
        "6 = 00000000000000110\n",
        "3 = 00000000000000011\n",
        "--------------------\n",
        "7 = 00000000000000111\n",
        "====================\n",
        "\n",
        "Decimal numbers and their binary values:\n",
        "0 = 0000000000000000\n",
        "1 = 0000000000000001\n",
        "2 = 0000000000000010\n",
        "3 = 0000000000000011\n",
        "4 = 0000000000000100\n",
        "5 = 0000000000000101\n",
        "6 = 0000000000000110\n",
        "7 = 0000000000000111\n",
        "\"\"\"\n"
      ],
      "metadata": {
        "colab": {
          "base_uri": "https://localhost:8080/",
          "height": 164
        },
        "id": "6D6vkHW-yhN3",
        "outputId": "411701c7-0d8b-42f2-de58-168e349b2203"
      },
      "execution_count": null,
      "outputs": [
        {
          "output_type": "stream",
          "name": "stdout",
          "text": [
            "7\n"
          ]
        },
        {
          "output_type": "execute_result",
          "data": {
            "text/plain": [
              "'\\nBitwise OR memiliki prioritas lebih rendah daripada penjumlahan, dan kita perlu menghitung penjumlahan terlebih dahulu.\\nPerhitungan di atas berbunyi 6 | 3 = 7\\n\\nPenjelasan lebih lanjut:\\nOperator | membandingkan setiap bit dan menetapkannya ke 1 jika satu atau keduanya bernilai 1, jika tidak, ditetapkan ke 0:\\n\\n6 = 00000000000000110\\n3 = 00000000000000011\\n--------------------\\n7 = 00000000000000111\\n====================\\n\\nDecimal numbers and their binary values:\\n0 = 0000000000000000\\n1 = 0000000000000001\\n2 = 0000000000000010\\n3 = 0000000000000011\\n4 = 0000000000000100\\n5 = 0000000000000101\\n6 = 0000000000000110\\n7 = 0000000000000111\\n'"
            ],
            "application/vnd.google.colaboratory.intrinsic+json": {
              "type": "string"
            }
          },
          "metadata": {},
          "execution_count": 87
        }
      ]
    },
    {
      "cell_type": "code",
      "source": [
        "print(5 == 4 + 1)\n",
        "\n",
        "\"\"\"\n",
        "Perbandingan \"seperti\" memiliki prioritas lebih rendah daripada penjumlahan, dan kita perlu menghitung penjumlahan terlebih dahulu.\n",
        "Perhitungan di atas berbunyi 5 == 5 = Benar\n",
        "\"\"\"\n"
      ],
      "metadata": {
        "colab": {
          "base_uri": "https://localhost:8080/",
          "height": 72
        },
        "id": "pqRPP1eMyiq2",
        "outputId": "88d1b330-918c-48ab-a7f0-b74ca50c98f9"
      },
      "execution_count": null,
      "outputs": [
        {
          "output_type": "stream",
          "name": "stdout",
          "text": [
            "True\n"
          ]
        },
        {
          "output_type": "execute_result",
          "data": {
            "text/plain": [
              "'\\nPerbandingan \"seperti\" memiliki prioritas lebih rendah daripada penjumlahan, dan kita perlu menghitung penjumlahan terlebih dahulu.\\nPerhitungan di atas berbunyi 5 == 5 = Benar\\n'"
            ],
            "application/vnd.google.colaboratory.intrinsic+json": {
              "type": "string"
            }
          },
          "metadata": {},
          "execution_count": 88
        }
      ]
    },
    {
      "cell_type": "code",
      "source": [
        "print(not 5 == 5)\n",
        "\n",
        "\"\"\"\n",
        "Operator logika NOT memiliki prioritas lebih rendah daripada perbandingan \"serupa\", dan kita perlu menghitung perbandingannya terlebih dahulu.\n",
        "Perhitungan di atas berbunyi: tidak Benar = Salah\n",
        "\"\"\"\n"
      ],
      "metadata": {
        "colab": {
          "base_uri": "https://localhost:8080/",
          "height": 72
        },
        "id": "geEq9GaUylFO",
        "outputId": "9897a4db-a3e6-44dd-e3b5-41f1e985f124"
      },
      "execution_count": null,
      "outputs": [
        {
          "output_type": "stream",
          "name": "stdout",
          "text": [
            "False\n"
          ]
        },
        {
          "output_type": "execute_result",
          "data": {
            "text/plain": [
              "'\\nOperator logika NOT memiliki prioritas lebih rendah daripada perbandingan \"serupa\", dan kita perlu menghitung perbandingannya terlebih dahulu.\\nPerhitungan di atas berbunyi: tidak Benar = Salah\\n'"
            ],
            "application/vnd.google.colaboratory.intrinsic+json": {
              "type": "string"
            }
          },
          "metadata": {},
          "execution_count": 89
        }
      ]
    },
    {
      "cell_type": "code",
      "source": [
        "print(1 or 2 and 3)\n",
        "\n",
        "\"\"\"\n",
        "Operator and memiliki prioritas lebih tinggi daripada or, dan kita perlu menghitung ekspresi and terlebih dahulu.\n",
        "Perhitungan di atas berbunyi: 1 atau 3 = 1\n",
        "\"\"\"\n"
      ],
      "metadata": {
        "colab": {
          "base_uri": "https://localhost:8080/",
          "height": 72
        },
        "id": "z6yvh4XSymVm",
        "outputId": "54fe4e43-3f5e-4d05-ee41-6dded22d63d4"
      },
      "execution_count": null,
      "outputs": [
        {
          "output_type": "stream",
          "name": "stdout",
          "text": [
            "1\n"
          ]
        },
        {
          "output_type": "execute_result",
          "data": {
            "text/plain": [
              "'\\nOperator and memiliki prioritas lebih tinggi daripada or, dan kita perlu menghitung ekspresi and terlebih dahulu.\\nPerhitungan di atas berbunyi: 1 atau 3 = 1\\n'"
            ],
            "application/vnd.google.colaboratory.intrinsic+json": {
              "type": "string"
            }
          },
          "metadata": {},
          "execution_count": 90
        }
      ]
    },
    {
      "cell_type": "code",
      "source": [
        "print(4 or 5 + 10 or 8)\n",
        "\n",
        "\"\"\"\n",
        "Operator or memiliki prioritas lebih rendah daripada penjumlahan, dan kita perlu menghitung penjumlahan terlebih dahulu.\n",
        "Perhitungan di atas berbunyi: 4 atau 15 atau 8 = 4\n",
        "\"\"\"\n"
      ],
      "metadata": {
        "colab": {
          "base_uri": "https://localhost:8080/",
          "height": 72
        },
        "id": "AZYm92Fcym2e",
        "outputId": "a18ee61f-e01e-4aac-ea9d-1aeaec0948a5"
      },
      "execution_count": null,
      "outputs": [
        {
          "output_type": "stream",
          "name": "stdout",
          "text": [
            "4\n"
          ]
        },
        {
          "output_type": "execute_result",
          "data": {
            "text/plain": [
              "'\\nOperator or memiliki prioritas lebih rendah daripada penjumlahan, dan kita perlu menghitung penjumlahan terlebih dahulu.\\nPerhitungan di atas berbunyi: 4 atau 15 atau 8 = 4\\n'"
            ],
            "application/vnd.google.colaboratory.intrinsic+json": {
              "type": "string"
            }
          },
          "metadata": {},
          "execution_count": 91
        }
      ]
    },
    {
      "cell_type": "code",
      "source": [
        "print(5 + 4 - 7 + 3)"
      ],
      "metadata": {
        "colab": {
          "base_uri": "https://localhost:8080/"
        },
        "id": "DuLxq-TYz9fF",
        "outputId": "4bc5f4bd-d71e-44fc-ce99-3972f70c8215"
      },
      "execution_count": null,
      "outputs": [
        {
          "output_type": "stream",
          "name": "stdout",
          "text": [
            "5\n"
          ]
        }
      ]
    },
    {
      "cell_type": "markdown",
      "source": [
        "# **10. Python Lists**"
      ],
      "metadata": {
        "id": "GqdUXqjGZbu6"
      }
    },
    {
      "cell_type": "markdown",
      "source": [
        "## **A. Python Lists**"
      ],
      "metadata": {
        "id": "aQ0IAk480qfl"
      }
    },
    {
      "cell_type": "markdown",
      "source": [
        "### **a. List**"
      ],
      "metadata": {
        "id": "vEyT8FeaZpag"
      }
    },
    {
      "cell_type": "markdown",
      "source": [
        "Lists are used to store multiple items in a single variable.\n",
        "\n",
        "Lists are one of 4 built-in data types in Python used to store collections of data, the other 3 are Tuple, Set, and Dictionary, all with different qualities and usage."
      ],
      "metadata": {
        "id": "Sss86Y3TUO7h"
      }
    },
    {
      "cell_type": "code",
      "source": [
        "thislist = [\"apple\", \"banana\", \"cherry\"]\n",
        "print(thislist)"
      ],
      "metadata": {
        "colab": {
          "base_uri": "https://localhost:8080/"
        },
        "id": "Ug6i3Z2lZ3A7",
        "outputId": "cd7ab502-c1d1-43c9-f3c3-c8add9bd8214"
      },
      "execution_count": null,
      "outputs": [
        {
          "output_type": "stream",
          "name": "stdout",
          "text": [
            "['apple', 'banana', 'cherry']\n"
          ]
        }
      ]
    },
    {
      "cell_type": "markdown",
      "source": [
        "### **b. List Items**"
      ],
      "metadata": {
        "id": "6mKQ3Kc8ZvEZ"
      }
    },
    {
      "cell_type": "markdown",
      "source": [
        "List items are ordered, changeable, and allow duplicate values.\n",
        "\n",
        "List items are indexed, the first item has index [0], the second item has index [1] etc."
      ],
      "metadata": {
        "id": "2uKYgOZsUUPh"
      }
    },
    {
      "cell_type": "markdown",
      "source": [
        "### **c. Ordered**"
      ],
      "metadata": {
        "id": "atAuOyxGZ_bS"
      }
    },
    {
      "cell_type": "markdown",
      "source": [
        "When we say that lists are ordered, it means that the items have a defined order, and that order will not change.\n",
        "\n",
        "If you add new items to a list, the new items will be placed at the end of the list."
      ],
      "metadata": {
        "id": "CqCICkQ-UR6g"
      }
    },
    {
      "cell_type": "markdown",
      "source": [
        "### **d. Changeable**"
      ],
      "metadata": {
        "id": "L28GL6FHaBco"
      }
    },
    {
      "cell_type": "markdown",
      "source": [
        "The list is changeable, meaning that we can change, add, and remove items in a list after it has been created."
      ],
      "metadata": {
        "id": "zR7dYnvLUYi4"
      }
    },
    {
      "cell_type": "markdown",
      "source": [
        "### **e. Allow Duplicates**"
      ],
      "metadata": {
        "id": "OHX66JJTaFFi"
      }
    },
    {
      "cell_type": "code",
      "source": [
        "thislist = [\"apple\", \"banana\", \"cherry\", \"apple\", \"cherry\"]\n",
        "print(thislist)"
      ],
      "metadata": {
        "colab": {
          "base_uri": "https://localhost:8080/"
        },
        "id": "BdzWQ_0xaH3B",
        "outputId": "24aa72fd-b848-472c-ea59-6100b6202e33"
      },
      "execution_count": null,
      "outputs": [
        {
          "output_type": "stream",
          "name": "stdout",
          "text": [
            "['apple', 'banana', 'cherry', 'apple', 'cherry']\n"
          ]
        }
      ]
    },
    {
      "cell_type": "markdown",
      "source": [
        "### **f. List Length**"
      ],
      "metadata": {
        "id": "E_DfpdVuUdLB"
      }
    },
    {
      "cell_type": "markdown",
      "source": [
        "To determine how many items a list has, use the len() function:"
      ],
      "metadata": {
        "id": "BtlnY1dDUgCZ"
      }
    },
    {
      "cell_type": "code",
      "source": [
        "thislist = [\"apple\", \"banana\", \"cherry\"]\n",
        "print(len(thislist))"
      ],
      "metadata": {
        "colab": {
          "base_uri": "https://localhost:8080/"
        },
        "id": "-6gf60qqUhzx",
        "outputId": "ecd691a9-718a-44f1-b39d-190b625213ac"
      },
      "execution_count": null,
      "outputs": [
        {
          "output_type": "stream",
          "name": "stdout",
          "text": [
            "3\n"
          ]
        }
      ]
    },
    {
      "cell_type": "markdown",
      "source": [
        "### **g. List Items - Data Types**"
      ],
      "metadata": {
        "id": "7OIpTbpGUoEY"
      }
    },
    {
      "cell_type": "code",
      "source": [
        "list1 = [\"apple\", \"banana\", \"cherry\"]\n",
        "list2 = [1, 5, 7, 9, 3]\n",
        "list3 = [True, False, False]"
      ],
      "metadata": {
        "id": "ZCgX9kU2Ui2o"
      },
      "execution_count": null,
      "outputs": []
    },
    {
      "cell_type": "code",
      "source": [
        "list1 = [\"abc\", 34, True, 40, \"male\"]"
      ],
      "metadata": {
        "id": "8BuT_c4KWRQn"
      },
      "execution_count": null,
      "outputs": []
    },
    {
      "cell_type": "markdown",
      "source": [
        "### **h. type()**"
      ],
      "metadata": {
        "id": "cpqn8qAqWT3v"
      }
    },
    {
      "cell_type": "code",
      "source": [
        "mylist = [\"apple\", \"banana\", \"cherry\"]\n",
        "print(type(mylist))"
      ],
      "metadata": {
        "colab": {
          "base_uri": "https://localhost:8080/"
        },
        "id": "GzYdo0wCWWCh",
        "outputId": "2a909e73-c578-454a-ae32-6322e9279a76"
      },
      "execution_count": null,
      "outputs": [
        {
          "output_type": "stream",
          "name": "stdout",
          "text": [
            "<class 'list'>\n"
          ]
        }
      ]
    },
    {
      "cell_type": "markdown",
      "source": [
        "### **i. The list() Constructor**"
      ],
      "metadata": {
        "id": "mTn-n7ZYWdkI"
      }
    },
    {
      "cell_type": "code",
      "source": [
        "thislist = list((\"apple\", \"banana\", \"cherry\")) # note the double round-brackets\n",
        "print(thislist)"
      ],
      "metadata": {
        "colab": {
          "base_uri": "https://localhost:8080/"
        },
        "id": "DRn3k4YrWfv4",
        "outputId": "45c3aee1-85a2-4252-d8ab-51b4ac10d879"
      },
      "execution_count": null,
      "outputs": [
        {
          "output_type": "stream",
          "name": "stdout",
          "text": [
            "['apple', 'banana', 'cherry']\n"
          ]
        }
      ]
    },
    {
      "cell_type": "markdown",
      "source": [
        "### **j. Python Collections (Arrays)**"
      ],
      "metadata": {
        "id": "W8EzsZNgWj-j"
      }
    },
    {
      "cell_type": "markdown",
      "source": [
        "List is a collection which is ordered and changeable. Allows duplicate members.\n",
        "\n",
        "Tuple is a collection which is ordered and unchangeable. Allows duplicate members.\n",
        "\n",
        "Set is a collection which is unordered, unchangeable*, and unindexed. No duplicate members.\n",
        "\n",
        "Dictionary is a collection which is ordered** and changeable. No duplicate members."
      ],
      "metadata": {
        "id": "QEVNC06RWmdX"
      }
    },
    {
      "cell_type": "markdown",
      "source": [
        "## **B. Access List Items**"
      ],
      "metadata": {
        "id": "2MLB6hW6XI_I"
      }
    },
    {
      "cell_type": "markdown",
      "source": [
        "### **a. Access Items**"
      ],
      "metadata": {
        "id": "TA6Eec4YXMvH"
      }
    },
    {
      "cell_type": "code",
      "source": [
        "thislist = [\"apple\", \"banana\", \"cherry\"]\n",
        "print(thislist[1])"
      ],
      "metadata": {
        "colab": {
          "base_uri": "https://localhost:8080/"
        },
        "id": "pmwjVV7MmpUM",
        "outputId": "5ad952d1-cc4f-4d82-e4bf-4d0e226efb40"
      },
      "execution_count": null,
      "outputs": [
        {
          "output_type": "stream",
          "name": "stdout",
          "text": [
            "banana\n"
          ]
        }
      ]
    },
    {
      "cell_type": "markdown",
      "source": [
        "### **b. Negative Indexing**"
      ],
      "metadata": {
        "id": "-pa-fXIamo8E"
      }
    },
    {
      "cell_type": "markdown",
      "source": [
        "-1 refers to the last item, -2 refers to the second last item etc."
      ],
      "metadata": {
        "id": "JaB81yram44k"
      }
    },
    {
      "cell_type": "code",
      "source": [
        "thislist = [\"apple\", \"banana\", \"cherry\"]\n",
        "print(thislist[-1])"
      ],
      "metadata": {
        "colab": {
          "base_uri": "https://localhost:8080/"
        },
        "id": "7nME9iYrm0VE",
        "outputId": "3b6013bc-4703-4cba-99be-0dc88da17226"
      },
      "execution_count": null,
      "outputs": [
        {
          "output_type": "stream",
          "name": "stdout",
          "text": [
            "cherry\n"
          ]
        }
      ]
    },
    {
      "cell_type": "markdown",
      "source": [
        "### **c. Range of Indexes**"
      ],
      "metadata": {
        "id": "aitkjFSzm6Y0"
      }
    },
    {
      "cell_type": "code",
      "source": [
        "thislist = [\"apple\", \"banana\", \"cherry\", \"orange\", \"kiwi\", \"melon\", \"mango\"]\n",
        "print(thislist[2:5])"
      ],
      "metadata": {
        "colab": {
          "base_uri": "https://localhost:8080/"
        },
        "id": "AW5FgzWdm9W8",
        "outputId": "bf316a70-f410-4024-a766-ab417a15dacd"
      },
      "execution_count": null,
      "outputs": [
        {
          "output_type": "stream",
          "name": "stdout",
          "text": [
            "['cherry', 'orange', 'kiwi']\n"
          ]
        }
      ]
    },
    {
      "cell_type": "markdown",
      "source": [
        "By leaving out the start value, the range will start at the first item:"
      ],
      "metadata": {
        "id": "L_wwdNyrnDyk"
      }
    },
    {
      "cell_type": "code",
      "source": [
        "thislist = [\"apple\", \"banana\", \"cherry\", \"orange\", \"kiwi\", \"melon\", \"mango\"]\n",
        "print(thislist[:4])"
      ],
      "metadata": {
        "colab": {
          "base_uri": "https://localhost:8080/"
        },
        "id": "P6saGo__nEID",
        "outputId": "52446059-54ce-4bf5-a909-e4f3d15e4ec4"
      },
      "execution_count": null,
      "outputs": [
        {
          "output_type": "stream",
          "name": "stdout",
          "text": [
            "['apple', 'banana', 'cherry', 'orange']\n"
          ]
        }
      ]
    },
    {
      "cell_type": "markdown",
      "source": [
        "By leaving out the end value, the range will go on to the end of the list:"
      ],
      "metadata": {
        "id": "jFXBZhKqnLRU"
      }
    },
    {
      "cell_type": "code",
      "source": [
        "thislist = [\"apple\", \"banana\", \"cherry\", \"orange\", \"kiwi\", \"melon\", \"mango\"]\n",
        "print(thislist[2:])"
      ],
      "metadata": {
        "colab": {
          "base_uri": "https://localhost:8080/"
        },
        "id": "DyPdVdLQnLx0",
        "outputId": "763f3fa0-0de6-487a-c097-f97ab6e01f25"
      },
      "execution_count": null,
      "outputs": [
        {
          "output_type": "stream",
          "name": "stdout",
          "text": [
            "['cherry', 'orange', 'kiwi', 'melon', 'mango']\n"
          ]
        }
      ]
    },
    {
      "cell_type": "markdown",
      "source": [
        "### **d. Range of Negative Indexes**"
      ],
      "metadata": {
        "id": "TWIne2UWnPH0"
      }
    },
    {
      "cell_type": "markdown",
      "source": [
        "Specify negative indexes if you want to start the search from the end of the list:"
      ],
      "metadata": {
        "id": "135WC6t1nSD8"
      }
    },
    {
      "cell_type": "code",
      "source": [
        "thislist = [\"apple\", \"banana\", \"cherry\", \"orange\", \"kiwi\", \"melon\", \"mango\"]\n",
        "print(thislist[-4:-1])"
      ],
      "metadata": {
        "colab": {
          "base_uri": "https://localhost:8080/"
        },
        "id": "AE5GlZCunTtk",
        "outputId": "17c4ecac-67f6-43cc-c7d8-98aba084e873"
      },
      "execution_count": null,
      "outputs": [
        {
          "output_type": "stream",
          "name": "stdout",
          "text": [
            "['orange', 'kiwi', 'melon']\n"
          ]
        }
      ]
    },
    {
      "cell_type": "markdown",
      "source": [
        "### **e. Check if Item Exists**"
      ],
      "metadata": {
        "id": "U5p6GiujnZO0"
      }
    },
    {
      "cell_type": "markdown",
      "source": [
        "To determine if a specified item is present in a list use the in keyword:"
      ],
      "metadata": {
        "id": "FgZUK1x1nbZ8"
      }
    },
    {
      "cell_type": "code",
      "source": [
        "thislist = [\"apple\", \"banana\", \"cherry\"]\n",
        "if \"apple\" in thislist:\n",
        "  print(\"Yes, 'apple' is in the fruits list\")"
      ],
      "metadata": {
        "colab": {
          "base_uri": "https://localhost:8080/"
        },
        "id": "WLo1s7QEncx0",
        "outputId": "4c532422-48cc-4d58-87a7-789b24d6c382"
      },
      "execution_count": null,
      "outputs": [
        {
          "output_type": "stream",
          "name": "stdout",
          "text": [
            "Yes, 'apple' is in the fruits list\n"
          ]
        }
      ]
    },
    {
      "cell_type": "markdown",
      "source": [
        "## **C. Change Item Value**"
      ],
      "metadata": {
        "id": "-yJrpVGEokcc"
      }
    },
    {
      "cell_type": "markdown",
      "source": [
        "### **a. Change Item Value**"
      ],
      "metadata": {
        "id": "bUv6KW9lomsj"
      }
    },
    {
      "cell_type": "code",
      "source": [
        "thislist = [\"apple\", \"banana\", \"cherry\"]\n",
        "thislist[1] = \"blackcurrant\"\n",
        "print(thislist)"
      ],
      "metadata": {
        "colab": {
          "base_uri": "https://localhost:8080/"
        },
        "id": "J2h0_-S2orbT",
        "outputId": "88ce8957-9dbb-49a4-b5ca-ad02cab59c79"
      },
      "execution_count": null,
      "outputs": [
        {
          "output_type": "stream",
          "name": "stdout",
          "text": [
            "['apple', 'blackcurrant', 'cherry']\n"
          ]
        }
      ]
    },
    {
      "cell_type": "markdown",
      "source": [
        "### **b. Change a Range of Item Values**"
      ],
      "metadata": {
        "id": "yVtlnIb-oyGz"
      }
    },
    {
      "cell_type": "markdown",
      "source": [
        "Change the values \"banana\" and \"cherry\" with the values \"blackcurrant\" and \"watermelon\":"
      ],
      "metadata": {
        "id": "9JAKWlyEo2x7"
      }
    },
    {
      "cell_type": "code",
      "source": [
        "thislist = [\"apple\", \"banana\", \"cherry\", \"orange\", \"kiwi\", \"mango\"]\n",
        "thislist[1:3] = [\"blackcurrant\", \"watermelon\"]\n",
        "print(thislist)"
      ],
      "metadata": {
        "colab": {
          "base_uri": "https://localhost:8080/"
        },
        "id": "2clCaf0Fo3_T",
        "outputId": "fc656789-2a28-41aa-eade-5e1186cfe0db"
      },
      "execution_count": null,
      "outputs": [
        {
          "output_type": "stream",
          "name": "stdout",
          "text": [
            "['apple', 'blackcurrant', 'watermelon', 'orange', 'kiwi', 'mango']\n"
          ]
        }
      ]
    },
    {
      "cell_type": "markdown",
      "source": [
        "Jika Anda memasukkan lebih banyak item daripada yang Anda ganti, item baru akan dimasukkan di tempat yang Anda tentukan, dan item yang tersisa akan dipindahkan sesuai dengan urutannya:"
      ],
      "metadata": {
        "id": "QL-15nR0pKw7"
      }
    },
    {
      "cell_type": "code",
      "source": [
        "thislist = [\"apple\", \"banana\", \"cherry\"]\n",
        "thislist[1:2] = [\"blackcurrant\", \"watermelon\"]\n",
        "print(thislist)"
      ],
      "metadata": {
        "colab": {
          "base_uri": "https://localhost:8080/"
        },
        "id": "PTyks2V3pJib",
        "outputId": "b9d95a65-a99a-4801-a744-ed9125ff03b5"
      },
      "execution_count": null,
      "outputs": [
        {
          "output_type": "stream",
          "name": "stdout",
          "text": [
            "['apple', 'blackcurrant', 'watermelon', 'cherry']\n"
          ]
        }
      ]
    },
    {
      "cell_type": "markdown",
      "source": [
        "Jika Anda memasukkan item yang lebih sedikit daripada yang Anda ganti, item baru akan dimasukkan di tempat yang Anda tentukan, dan item yang tersisa akan dipindahkan sesuai dengan urutannya:"
      ],
      "metadata": {
        "id": "SbdNh0WKphvr"
      }
    },
    {
      "cell_type": "code",
      "source": [
        "thislist = [\"apple\", \"banana\", \"cherry\"]\n",
        "thislist[1:3] = [\"watermelon\"]\n",
        "print(thislist)"
      ],
      "metadata": {
        "colab": {
          "base_uri": "https://localhost:8080/"
        },
        "id": "fJcK8BMkpoQr",
        "outputId": "cc48a38b-dda4-4519-e027-36d70ae8ad47"
      },
      "execution_count": null,
      "outputs": [
        {
          "output_type": "stream",
          "name": "stdout",
          "text": [
            "['apple', 'watermelon']\n"
          ]
        }
      ]
    },
    {
      "cell_type": "markdown",
      "source": [
        "### **c. Insert Items**"
      ],
      "metadata": {
        "id": "eaS1_ilxps6q"
      }
    },
    {
      "cell_type": "markdown",
      "source": [
        "Untuk memasukkan item daftar baru, tanpa mengganti nilai yang sudah ada, kita dapat menggunakan metode insert().\n",
        "\n",
        "Metode insert() memasukkan item pada indeks yang ditentukan:"
      ],
      "metadata": {
        "id": "IX0V-NlDpv3C"
      }
    },
    {
      "cell_type": "code",
      "source": [
        "thislist = [\"apple\", \"banana\", \"cherry\"]\n",
        "thislist.insert(2, \"watermelon\")\n",
        "print(thislist)"
      ],
      "metadata": {
        "colab": {
          "base_uri": "https://localhost:8080/"
        },
        "id": "5W6C1tmEpvSr",
        "outputId": "49623279-2a48-43f8-c712-8c2e9c62924b"
      },
      "execution_count": null,
      "outputs": [
        {
          "output_type": "stream",
          "name": "stdout",
          "text": [
            "['apple', 'banana', 'watermelon', 'cherry']\n"
          ]
        }
      ]
    },
    {
      "cell_type": "markdown",
      "source": [
        "## **D. Add List Items**"
      ],
      "metadata": {
        "id": "Ec3avVQkqhHC"
      }
    },
    {
      "cell_type": "markdown",
      "source": [
        "### **a. Append Items**"
      ],
      "metadata": {
        "id": "ioSFCFDfqkc6"
      }
    },
    {
      "cell_type": "markdown",
      "source": [
        "Untuk menambahkan item ke akhir daftar, gunakan metode append():"
      ],
      "metadata": {
        "id": "wfyvRxAasl9p"
      }
    },
    {
      "cell_type": "code",
      "source": [
        "thislist = [\"apple\", \"banana\", \"cherry\"]\n",
        "thislist.append(\"orange\")\n",
        "print(thislist)"
      ],
      "metadata": {
        "colab": {
          "base_uri": "https://localhost:8080/"
        },
        "id": "SHg9zXOLso8y",
        "outputId": "9ddacccb-51c7-44ab-e5de-3c3fa0a6c121"
      },
      "execution_count": null,
      "outputs": [
        {
          "output_type": "stream",
          "name": "stdout",
          "text": [
            "['apple', 'banana', 'cherry', 'orange']\n"
          ]
        }
      ]
    },
    {
      "cell_type": "markdown",
      "source": [
        "### **b. Insert Items**"
      ],
      "metadata": {
        "id": "chnQGTzLstpZ"
      }
    },
    {
      "cell_type": "markdown",
      "source": [
        "Untuk memasukkan item daftar pada indeks tertentu, gunakan metode insert().\n",
        "\n",
        "Metode insert() menyisipkan item pada indeks tertentu:"
      ],
      "metadata": {
        "id": "LJCohGd6sz8B"
      }
    },
    {
      "cell_type": "code",
      "source": [
        "thislist = [\"apple\", \"banana\", \"cherry\"]\n",
        "thislist.insert(1, \"orange\")\n",
        "print(thislist)"
      ],
      "metadata": {
        "colab": {
          "base_uri": "https://localhost:8080/"
        },
        "id": "cdyqh7E3s21x",
        "outputId": "d2cc7f53-e2ca-446c-e8e0-8e333d225acb"
      },
      "execution_count": null,
      "outputs": [
        {
          "output_type": "stream",
          "name": "stdout",
          "text": [
            "['apple', 'orange', 'banana', 'cherry']\n"
          ]
        }
      ]
    },
    {
      "cell_type": "markdown",
      "source": [
        "### **c. Extend List**"
      ],
      "metadata": {
        "id": "r1desmWPtBDq"
      }
    },
    {
      "cell_type": "markdown",
      "source": [
        "Untuk menambahkan elemen dari daftar lain ke daftar saat ini, gunakan metode extend()"
      ],
      "metadata": {
        "id": "4v1GbtsItEUQ"
      }
    },
    {
      "cell_type": "code",
      "source": [
        "thislist = [\"apple\", \"banana\", \"cherry\"]\n",
        "tropical = [\"mango\", \"pineapple\", \"papaya\"]\n",
        "thislist.extend(tropical)\n",
        "print(thislist)"
      ],
      "metadata": {
        "colab": {
          "base_uri": "https://localhost:8080/"
        },
        "id": "6Xr30aC9tGOZ",
        "outputId": "7361b5bd-ad97-4433-a1fd-ea2ade9e7255"
      },
      "execution_count": null,
      "outputs": [
        {
          "output_type": "stream",
          "name": "stdout",
          "text": [
            "['apple', 'banana', 'cherry', 'mango', 'pineapple', 'papaya']\n"
          ]
        }
      ]
    },
    {
      "cell_type": "markdown",
      "source": [
        "### **d. Add Any Iterable**"
      ],
      "metadata": {
        "id": "oqVlmEGItNgp"
      }
    },
    {
      "cell_type": "markdown",
      "source": [
        "Metode extend() tidak harus menambahkan daftar, Anda dapat menambahkan objek apa pun yang dapat diulang (tupel, set, kamus, dll.)."
      ],
      "metadata": {
        "id": "nxf4Ri2dtSJx"
      }
    },
    {
      "cell_type": "code",
      "source": [
        "thislist = [\"apple\", \"banana\", \"cherry\"]\n",
        "thistuple = (\"kiwi\", \"orange\")\n",
        "thislist.extend(thistuple)\n",
        "print(thislist)"
      ],
      "metadata": {
        "colab": {
          "base_uri": "https://localhost:8080/"
        },
        "id": "md9bCHNttTwh",
        "outputId": "00dc794f-7fb7-4d55-d9fb-4f1d68e1e57c"
      },
      "execution_count": null,
      "outputs": [
        {
          "output_type": "stream",
          "name": "stdout",
          "text": [
            "['apple', 'banana', 'cherry', 'kiwi', 'orange']\n"
          ]
        }
      ]
    },
    {
      "cell_type": "markdown",
      "source": [
        "## **E. Remove List Items**"
      ],
      "metadata": {
        "id": "hy8N32KNu7lR"
      }
    },
    {
      "cell_type": "markdown",
      "source": [
        "### **a. Remove Specified Item**"
      ],
      "metadata": {
        "id": "P40BvIOXvAnQ"
      }
    },
    {
      "cell_type": "markdown",
      "source": [
        "Metode remove() menghapus item yang ditentukan."
      ],
      "metadata": {
        "id": "ulZ5-DAZvC3Z"
      }
    },
    {
      "cell_type": "code",
      "source": [
        "thislist = [\"apple\", \"banana\", \"cherry\"]\n",
        "thislist.remove(\"banana\")\n",
        "print(thislist)"
      ],
      "metadata": {
        "colab": {
          "base_uri": "https://localhost:8080/"
        },
        "id": "XUh7CVmPvFdA",
        "outputId": "99452ab5-b4d9-4d72-de0f-1e26a140af39"
      },
      "execution_count": null,
      "outputs": [
        {
          "output_type": "stream",
          "name": "stdout",
          "text": [
            "['apple', 'cherry']\n"
          ]
        }
      ]
    },
    {
      "cell_type": "markdown",
      "source": [
        "Jika ada lebih dari satu item dengan nilai yang ditentukan, metode remove() menghapus kemunculan pertama:"
      ],
      "metadata": {
        "id": "fINh9Dtpvl-Y"
      }
    },
    {
      "cell_type": "markdown",
      "source": [
        "Hapus kemunculan pertama \"banana\":"
      ],
      "metadata": {
        "id": "Frn97c8OvuLo"
      }
    },
    {
      "cell_type": "code",
      "source": [
        "thislist = [\"apple\", \"banana\", \"cherry\", \"banana\", \"kiwi\"]\n",
        "thislist.remove(\"banana\")\n",
        "print(thislist)"
      ],
      "metadata": {
        "colab": {
          "base_uri": "https://localhost:8080/"
        },
        "id": "LVKsbrrZvnw4",
        "outputId": "ba9dffde-7edc-41be-fff7-3c6023262f1b"
      },
      "execution_count": null,
      "outputs": [
        {
          "output_type": "stream",
          "name": "stdout",
          "text": [
            "['apple', 'cherry', 'banana', 'kiwi']\n"
          ]
        }
      ]
    },
    {
      "cell_type": "markdown",
      "source": [
        "### **b. Remove Specified Index**"
      ],
      "metadata": {
        "id": "mzIfM3T3vyso"
      }
    },
    {
      "cell_type": "markdown",
      "source": [
        "Metode pop() menghapus indeks yang ditentukan."
      ],
      "metadata": {
        "id": "gUFHAOstv1t4"
      }
    },
    {
      "cell_type": "code",
      "source": [
        "thislist = [\"apple\", \"banana\", \"cherry\"]\n",
        "thislist.pop(1)\n",
        "print(thislist)"
      ],
      "metadata": {
        "colab": {
          "base_uri": "https://localhost:8080/"
        },
        "id": "re63V00Uv5iA",
        "outputId": "8f1e4289-05f6-4d0d-8f3b-c6dfbb5e67c5"
      },
      "execution_count": null,
      "outputs": [
        {
          "output_type": "stream",
          "name": "stdout",
          "text": [
            "['apple', 'cherry']\n"
          ]
        }
      ]
    },
    {
      "cell_type": "markdown",
      "source": [
        "Jika Anda tidak menentukan indeks, metode pop() akan menghapus item terakhir."
      ],
      "metadata": {
        "id": "8dYb5AMzwBow"
      }
    },
    {
      "cell_type": "code",
      "source": [
        "thislist = [\"apple\", \"banana\", \"cherry\"]\n",
        "thislist.pop()\n",
        "print(thislist)"
      ],
      "metadata": {
        "colab": {
          "base_uri": "https://localhost:8080/"
        },
        "id": "upKPDZejwC4Y",
        "outputId": "9abc10bd-82b0-4545-bdef-770a05df6286"
      },
      "execution_count": null,
      "outputs": [
        {
          "output_type": "stream",
          "name": "stdout",
          "text": [
            "['apple', 'banana']\n"
          ]
        }
      ]
    },
    {
      "cell_type": "markdown",
      "source": [
        "Kata kunci del juga menghapus indeks yang ditentukan:"
      ],
      "metadata": {
        "id": "09dDH8jgwIeY"
      }
    },
    {
      "cell_type": "code",
      "source": [
        "thislist = [\"apple\", \"banana\", \"cherry\"]\n",
        "del thislist[0]\n",
        "print(thislist)"
      ],
      "metadata": {
        "colab": {
          "base_uri": "https://localhost:8080/"
        },
        "id": "QrITYOQzwJiA",
        "outputId": "1c0245a0-e852-4994-ca01-6cc151273fa7"
      },
      "execution_count": null,
      "outputs": [
        {
          "output_type": "stream",
          "name": "stdout",
          "text": [
            "['banana', 'cherry']\n"
          ]
        }
      ]
    },
    {
      "cell_type": "markdown",
      "source": [
        "Kata kunci del juga dapat menghapus daftar sepenuhnya."
      ],
      "metadata": {
        "id": "SPE77kzhwQDQ"
      }
    },
    {
      "cell_type": "code",
      "source": [
        "thislist = [\"apple\", \"banana\", \"cherry\"]\n",
        "del thislist"
      ],
      "metadata": {
        "id": "ZHKYXf7bwTl4"
      },
      "execution_count": null,
      "outputs": []
    },
    {
      "cell_type": "markdown",
      "source": [
        "### **c. Clear the List**"
      ],
      "metadata": {
        "id": "tg33mGfwwbdY"
      }
    },
    {
      "cell_type": "markdown",
      "source": [
        "Metode clear() mengosongkan daftar.\n",
        "\n",
        "Daftar tersebut tetap ada, tetapi tidak memiliki konten."
      ],
      "metadata": {
        "id": "oZxnknlnwdun"
      }
    },
    {
      "cell_type": "code",
      "source": [
        "thislist = [\"apple\", \"banana\", \"cherry\"]\n",
        "thislist.clear()\n",
        "print(thislist)"
      ],
      "metadata": {
        "colab": {
          "base_uri": "https://localhost:8080/"
        },
        "id": "gB31JCOZwg5_",
        "outputId": "72aaff15-3ed3-4a90-f7b2-478560e43a4f"
      },
      "execution_count": null,
      "outputs": [
        {
          "output_type": "stream",
          "name": "stdout",
          "text": [
            "[]\n"
          ]
        }
      ]
    },
    {
      "cell_type": "markdown",
      "source": [
        "## **F. Loop Lists**"
      ],
      "metadata": {
        "id": "eezIZ16aw8pv"
      }
    },
    {
      "cell_type": "markdown",
      "source": [
        "### **a. Loop Through a List**"
      ],
      "metadata": {
        "id": "r8JY7659w-9o"
      }
    },
    {
      "cell_type": "markdown",
      "source": [
        "Anda dapat melakukan pengulangan melalui item dalam daftar dengan menggunakan perulangan for:"
      ],
      "metadata": {
        "id": "Hnf_c4PmxBQv"
      }
    },
    {
      "cell_type": "code",
      "source": [
        "thislist = [\"apple\", \"banana\", \"cherry\"]\n",
        "for x in thislist:\n",
        "  print(x)"
      ],
      "metadata": {
        "colab": {
          "base_uri": "https://localhost:8080/"
        },
        "id": "mipz1TMMxEH4",
        "outputId": "b3b20cbb-df51-41a3-d47b-473a69334b87"
      },
      "execution_count": null,
      "outputs": [
        {
          "output_type": "stream",
          "name": "stdout",
          "text": [
            "apple\n",
            "banana\n",
            "cherry\n"
          ]
        }
      ]
    },
    {
      "cell_type": "markdown",
      "source": [
        "### **b. Loop Through the Index Numbers**"
      ],
      "metadata": {
        "id": "TaBaGDXkxfuX"
      }
    },
    {
      "cell_type": "markdown",
      "source": [
        "Anda juga dapat melakukan pengulangan melalui item-item dalam daftar dengan merujuk ke nomor indeksnya.\n",
        "\n",
        "Gunakan fungsi range() dan len() untuk membuat iterable yang sesuai."
      ],
      "metadata": {
        "id": "P-Hred0JxhXX"
      }
    },
    {
      "cell_type": "code",
      "source": [
        "thislist = [\"apple\", \"banana\", \"cherry\"]\n",
        "for i in range(len(thislist)):\n",
        "  print(thislist[1])"
      ],
      "metadata": {
        "colab": {
          "base_uri": "https://localhost:8080/"
        },
        "id": "a-L-xp6jxlG3",
        "outputId": "f5a283a1-2d7e-4f99-8304-453db2a2fd17"
      },
      "execution_count": null,
      "outputs": [
        {
          "output_type": "stream",
          "name": "stdout",
          "text": [
            "banana\n",
            "banana\n",
            "banana\n"
          ]
        }
      ]
    },
    {
      "cell_type": "markdown",
      "source": [
        "Iterable yang dibuat dalam contoh di atas adalah [0, 1, 2]."
      ],
      "metadata": {
        "id": "w2jsgKLzxw53"
      }
    },
    {
      "cell_type": "markdown",
      "source": [
        "### **c. Using a While Loop**"
      ],
      "metadata": {
        "id": "MaoCYuvCx8aH"
      }
    },
    {
      "cell_type": "markdown",
      "source": [
        "Anda dapat melakukan pengulangan melalui item-item dalam daftar dengan menggunakan pengulangan while.\n",
        "\n",
        "Gunakan fungsi len() untuk menentukan panjang daftar, lalu mulai dari 0 dan lakukan pengulangan melalui item-item dalam daftar dengan merujuk ke indeksnya.\n",
        "\n",
        "Ingatlah untuk menambah indeks sebanyak 1 setelah setiap iterasi."
      ],
      "metadata": {
        "id": "TKTbKJ5Px_vv"
      }
    },
    {
      "cell_type": "code",
      "source": [
        "thislist = [\"apple\", \"banana\", \"cherry\"]\n",
        "i = 0\n",
        "while i < len(thislist):\n",
        "  print(thislist[i])\n",
        "  i = i + 1"
      ],
      "metadata": {
        "colab": {
          "base_uri": "https://localhost:8080/"
        },
        "id": "muI0r4wcxwsg",
        "outputId": "70094470-a569-4252-b4e8-45209fe71db5"
      },
      "execution_count": null,
      "outputs": [
        {
          "output_type": "stream",
          "name": "stdout",
          "text": [
            "apple\n",
            "banana\n",
            "cherry\n"
          ]
        }
      ]
    },
    {
      "cell_type": "markdown",
      "source": [
        "### **d. Looping Using List Comprehension**"
      ],
      "metadata": {
        "id": "OzRsTdwQyLH_"
      }
    },
    {
      "cell_type": "code",
      "source": [
        "thislist = [\"apple\", \"banana\", \"cherry\"]\n",
        "[print(x) for x in thislist]"
      ],
      "metadata": {
        "colab": {
          "base_uri": "https://localhost:8080/"
        },
        "id": "uNLljWecyQSv",
        "outputId": "b12ad721-6e6c-4ea6-93cf-08823c915615"
      },
      "execution_count": null,
      "outputs": [
        {
          "output_type": "stream",
          "name": "stdout",
          "text": [
            "apple\n",
            "banana\n",
            "cherry\n"
          ]
        },
        {
          "output_type": "execute_result",
          "data": {
            "text/plain": [
              "[None, None, None]"
            ]
          },
          "metadata": {},
          "execution_count": 35
        }
      ]
    },
    {
      "cell_type": "markdown",
      "source": [
        "## **G. List Comprehension**"
      ],
      "metadata": {
        "id": "anLTpqqz_ZId"
      }
    },
    {
      "cell_type": "markdown",
      "source": [
        "### **a. List Comprehension**"
      ],
      "metadata": {
        "id": "kj7ZKXG9_fAl"
      }
    },
    {
      "cell_type": "markdown",
      "source": [
        "Pemahaman daftar menawarkan sintaksis yang lebih pendek saat Anda ingin membuat daftar baru berdasarkan nilai dari daftar yang sudah ada.\n",
        "\n",
        "Contoh:\n",
        "\n",
        "Berdasarkan daftar buah-buahan, Anda menginginkan daftar baru yang hanya berisi buah-buahan dengan huruf \"a\" pada namanya.\n",
        "\n",
        "Tanpa pemahaman daftar, Anda harus menulis pernyataan for dengan pengujian kondisional di dalamnya:"
      ],
      "metadata": {
        "id": "5hta35tJ_lmM"
      }
    },
    {
      "cell_type": "code",
      "source": [
        "fruits = [\"apple\", \"banana\", \"cherry\", \"kiwi\", \"mango\"]\n",
        "newlist = []\n",
        "\n",
        "for x in fruits:\n",
        "  if \"a\" in x:\n",
        "    newlist.append(x)\n",
        "\n",
        "print(newlist)"
      ],
      "metadata": {
        "colab": {
          "base_uri": "https://localhost:8080/"
        },
        "id": "AegKjYD6_tcs",
        "outputId": "546ccf39-c3c8-4c4a-e45d-3340fcbe9f63"
      },
      "execution_count": null,
      "outputs": [
        {
          "output_type": "stream",
          "name": "stdout",
          "text": [
            "['apple', 'banana', 'mango']\n"
          ]
        }
      ]
    },
    {
      "cell_type": "markdown",
      "source": [
        "Dengan pemahaman daftar, Anda dapat melakukan semua itu hanya dengan satu baris kode:"
      ],
      "metadata": {
        "id": "vky3DV1X_2fV"
      }
    },
    {
      "cell_type": "code",
      "source": [
        "fruits = [\"apple\", \"banana\", \"cherry\", \"kiwi\", \"mango\"]\n",
        "\n",
        "newlist = [x for x in fruits if \"a\" in x]\n",
        "\n",
        "print(newlist)"
      ],
      "metadata": {
        "colab": {
          "base_uri": "https://localhost:8080/"
        },
        "id": "PFuY609D_3Ic",
        "outputId": "3fd29df2-b6a9-4889-81c3-ba62fb395b1c"
      },
      "execution_count": null,
      "outputs": [
        {
          "output_type": "stream",
          "name": "stdout",
          "text": [
            "['apple', 'banana', 'mango']\n"
          ]
        }
      ]
    },
    {
      "cell_type": "markdown",
      "source": [
        "### **b. The Syntax**"
      ],
      "metadata": {
        "id": "Sc4TCIwh_8Bs"
      }
    },
    {
      "cell_type": "code",
      "source": [
        "newlist = [expression for item in iterable if condition == True]"
      ],
      "metadata": {
        "id": "Qxitp5d9_-KN"
      },
      "execution_count": null,
      "outputs": []
    },
    {
      "cell_type": "markdown",
      "source": [
        "The return value is a new list, leaving the old list unchanged."
      ],
      "metadata": {
        "id": "o58v7PspAENt"
      }
    },
    {
      "cell_type": "markdown",
      "source": [
        "Condition\n",
        "\n",
        "Kondisi ini seperti filter yang hanya menerima item yang bernilai Benar."
      ],
      "metadata": {
        "id": "36_pDMItAKH0"
      }
    },
    {
      "cell_type": "code",
      "source": [
        "newlist = [x for x in fruits if x != \"apple\"]\n",
        "print(newlist)"
      ],
      "metadata": {
        "colab": {
          "base_uri": "https://localhost:8080/"
        },
        "id": "3Ke_ohguAQiN",
        "outputId": "6a7ea1b7-8aec-42a0-c369-120445de374f"
      },
      "execution_count": null,
      "outputs": [
        {
          "output_type": "stream",
          "name": "stdout",
          "text": [
            "['banana', 'cherry', 'kiwi', 'mango']\n"
          ]
        }
      ]
    },
    {
      "cell_type": "markdown",
      "source": [
        "Kondisi if x != \"apple\" akan mengembalikan True untuk semua elemen selain \"apple\", sehingga daftar baru akan berisi semua buah kecuali \"apple\".\n",
        "\n",
        "Kondisi ini bersifat opsional dan dapat diabaikan:"
      ],
      "metadata": {
        "id": "FQr_TC5gAS_c"
      }
    },
    {
      "cell_type": "code",
      "source": [
        "newlist = [x for x in fruits]\n",
        "print(newlist)"
      ],
      "metadata": {
        "colab": {
          "base_uri": "https://localhost:8080/"
        },
        "id": "MQ_uNaSCATwW",
        "outputId": "c406c707-9a10-47d9-8301-1c457926f901"
      },
      "execution_count": null,
      "outputs": [
        {
          "output_type": "stream",
          "name": "stdout",
          "text": [
            "['apple', 'banana', 'cherry', 'kiwi', 'mango']\n"
          ]
        }
      ]
    },
    {
      "cell_type": "markdown",
      "source": [
        "Iterable\n",
        "\n",
        "Yang dapat diulang dapat berupa objek apa saja, seperti daftar, tupel, himpunan, dan sebagainya."
      ],
      "metadata": {
        "id": "e-MhsaUiAix9"
      }
    },
    {
      "cell_type": "code",
      "source": [
        "newlist = [x for x in range(10)]\n",
        "print(newlist)"
      ],
      "metadata": {
        "colab": {
          "base_uri": "https://localhost:8080/"
        },
        "id": "zly6LnqSAmek",
        "outputId": "f65ea22a-e492-4428-eb31-f267165fec2c"
      },
      "execution_count": null,
      "outputs": [
        {
          "output_type": "stream",
          "name": "stdout",
          "text": [
            "[0, 1, 2, 3, 4, 5, 6, 7, 8, 9]\n"
          ]
        }
      ]
    },
    {
      "cell_type": "code",
      "source": [
        "newlist = [x for x in range(10) if x < 5]\n",
        "print(newlist)"
      ],
      "metadata": {
        "colab": {
          "base_uri": "https://localhost:8080/"
        },
        "id": "upEovVfdA4OU",
        "outputId": "bf26adce-9cf3-43be-ccd9-5d6103bee449"
      },
      "execution_count": null,
      "outputs": [
        {
          "output_type": "stream",
          "name": "stdout",
          "text": [
            "[0, 1, 2, 3, 4]\n"
          ]
        }
      ]
    },
    {
      "cell_type": "markdown",
      "source": [
        "Expression\n",
        "\n",
        "Ekspresi adalah item saat ini dalam iterasi, tetapi juga merupakan hasil, yang dapat Anda manipulasi sebelum berakhir seperti item daftar dalam daftar baru:"
      ],
      "metadata": {
        "id": "KEeO9OV0A688"
      }
    },
    {
      "cell_type": "code",
      "source": [
        "newlist = [x.upper() for x in fruits]\n",
        "print(newlist)"
      ],
      "metadata": {
        "colab": {
          "base_uri": "https://localhost:8080/"
        },
        "id": "1_cQ5uzLA-BE",
        "outputId": "7541d806-f234-4587-8fee-4e7d9449c32b"
      },
      "execution_count": null,
      "outputs": [
        {
          "output_type": "stream",
          "name": "stdout",
          "text": [
            "['APPLE', 'BANANA', 'CHERRY', 'KIWI', 'MANGO']\n"
          ]
        }
      ]
    },
    {
      "cell_type": "code",
      "source": [
        "newlist = ['hello' for x in fruits]\n",
        "print(newlist)"
      ],
      "metadata": {
        "colab": {
          "base_uri": "https://localhost:8080/"
        },
        "id": "dD0u2ENtBCIU",
        "outputId": "fda3c4c2-a42c-49f6-c89e-db884716458c"
      },
      "execution_count": null,
      "outputs": [
        {
          "output_type": "stream",
          "name": "stdout",
          "text": [
            "['hello', 'hello', 'hello', 'hello', 'hello']\n"
          ]
        }
      ]
    },
    {
      "cell_type": "markdown",
      "source": [
        "Ekspresi tersebut juga dapat berisi kondisi, bukan seperti filter, tetapi sebagai cara untuk memanipulasi hasilnya:"
      ],
      "metadata": {
        "id": "aX1KZSyJA9Us"
      }
    },
    {
      "cell_type": "code",
      "source": [
        "newlist = [x if x != \"banana\" else \"orange\" for x in fruits]\n",
        "print(newlist)"
      ],
      "metadata": {
        "colab": {
          "base_uri": "https://localhost:8080/"
        },
        "id": "WkL3uXmOBKlU",
        "outputId": "c7468cb0-07c0-467d-af6f-206b97cc56fd"
      },
      "execution_count": null,
      "outputs": [
        {
          "output_type": "stream",
          "name": "stdout",
          "text": [
            "['apple', 'orange', 'cherry', 'kiwi', 'mango']\n"
          ]
        }
      ]
    }
  ]
}